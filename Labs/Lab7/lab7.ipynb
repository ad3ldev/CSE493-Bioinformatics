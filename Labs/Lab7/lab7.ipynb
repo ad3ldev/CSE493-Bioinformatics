{
  "cells": [
    {
      "cell_type": "markdown",
      "metadata": {
        "id": "kRbEvKisKmdw"
      },
      "source": [
        "# Lab 7 Extended Gene expression analysis including Co-expression Networks on Brain cancer gene expression - CuMiDa GSE50161 microarray experiment\n",
        "- Name: AbdelRahman Adel AbdelFattah\n",
        "- ID: 17012296"
      ]
    },
    {
      "cell_type": "markdown",
      "metadata": {
        "id": "YzGIE6pQK6N9"
      },
      "source": [
        "## Objective"
      ]
    },
    {
      "cell_type": "markdown",
      "metadata": {
        "id": "FTE0hxGKK-Bi"
      },
      "source": [
        "- Understand and perform the preprocessing of microarray data.\n",
        "- Conduct principal component analysis (PCA) to explore data.\n",
        "- Apply regression analysis to investigate specific gene expressions.\n",
        "- Perform clustering to identify patterns in gene expression data.\n",
        "- Utilize classification techniques to distinguish between cancer and non-cancer samples.\n",
        "- Using WGCNA to generate co-expression network\n",
        "- Using Cytoscape to visualize co-expression network"
      ]
    },
    {
      "cell_type": "markdown",
      "metadata": {
        "id": "e4MCOHxaLGCN"
      },
      "source": [
        "## Prerequisites"
      ]
    },
    {
      "cell_type": "markdown",
      "metadata": {
        "id": "gEdChUYeLJ6q"
      },
      "source": [
        "- Software: R and RStudio."
      ]
    },
    {
      "cell_type": "code",
      "execution_count": 1,
      "metadata": {
        "colab": {
          "base_uri": "https://localhost:8080/"
        },
        "id": "cPc7PEUSj-gh",
        "outputId": "4c978f59-639b-4002-a6ba-78055a0b6cf8",
        "vscode": {
          "languageId": "r"
        }
      },
      "outputs": [
        {
          "name": "stderr",
          "output_type": "stream",
          "text": [
            "Installing package into '/opt/homebrew/lib/R/4.3/site-library'\n",
            "(as 'lib' is unspecified)\n",
            "\n",
            "Warning message in install.packages(\"ggplot2\"):\n",
            "\"installation of package 'ggplot2' had non-zero exit status\"\n",
            "Installing package into '/opt/homebrew/lib/R/4.3/site-library'\n",
            "(as 'lib' is unspecified)\n",
            "\n",
            "Warning message in install.packages(\"gridExtra\"):\n",
            "\"installation of package 'gridExtra' had non-zero exit status\"\n",
            "Installing package into '/opt/homebrew/lib/R/4.3/site-library'\n",
            "(as 'lib' is unspecified)\n",
            "\n",
            "Warning message in install.packages(\"caret\"):\n",
            "\"installation of package 'caret' had non-zero exit status\"\n",
            "Installing package into '/opt/homebrew/lib/R/4.3/site-library'\n",
            "(as 'lib' is unspecified)\n",
            "\n",
            "Installing package into '/opt/homebrew/lib/R/4.3/site-library'\n",
            "(as 'lib' is unspecified)\n",
            "\n"
          ]
        }
      ],
      "source": [
        "install.packages(\"ggplot2\")\n",
        "install.packages(\"gridExtra\")\n",
        "install.packages(\"caret\")\n",
        "install.packages(\"e1071\")\n",
        "install.packages(\"MASS\")"
      ]
    },
    {
      "cell_type": "code",
      "execution_count": 2,
      "metadata": {
        "id": "qom2Fi_3j-gs",
        "vscode": {
          "languageId": "r"
        }
      },
      "outputs": [
        {
          "name": "stderr",
          "output_type": "stream",
          "text": [
            "Loading required package: lattice\n",
            "\n"
          ]
        }
      ],
      "source": [
        "library(ggplot2)\n",
        "library(gridExtra)\n",
        "library(caret)\n",
        "library(e1071)\n",
        "library(MASS)"
      ]
    },
    {
      "cell_type": "markdown",
      "metadata": {
        "id": "u90B4mhqLLvB"
      },
      "source": [
        "## Part 1: Data Acquisition"
      ]
    },
    {
      "cell_type": "markdown",
      "metadata": {
        "id": "_VciZz0BLOCL"
      },
      "source": [
        "Access and download the dataset from Kaggle.\n",
        "https://www.kaggle.com/datasets/brunogrisci/brain-cancer-gene-expression-cumida\n"
      ]
    },
    {
      "cell_type": "code",
      "execution_count": 3,
      "metadata": {
        "id": "djoHBolXNa-0",
        "vscode": {
          "languageId": "r"
        }
      },
      "outputs": [],
      "source": [
        "file <- \"Brain_GSE50161.csv\"\n",
        "data <- read.csv(file)\n",
        "samples <- 130"
      ]
    },
    {
      "cell_type": "code",
      "execution_count": null,
      "metadata": {
        "colab": {
          "base_uri": "https://localhost:8080/",
          "height": 303
        },
        "id": "x0KWCvr3NzvP",
        "outputId": "b17dd7f6-bfcc-40d6-a62b-fa5356d2eb18",
        "vscode": {
          "languageId": "r"
        }
      },
      "outputs": [],
      "source": [
        "head(data)"
      ]
    },
    {
      "cell_type": "markdown",
      "metadata": {
        "id": "r-IogK1fLPtu"
      },
      "source": [
        "## Part 2: Preprocessing and Quality Control"
      ]
    },
    {
      "cell_type": "markdown",
      "metadata": {
        "id": "_j5sCCShLTUf"
      },
      "source": [
        "Perform initial data checks and normalization.\n",
        "\n",
        "Hints: remove gene levels that are less than 50%, remove outliers, and perform normalization"
      ]
    },
    {
      "cell_type": "code",
      "execution_count": null,
      "metadata": {
        "id": "QbCuIyitAQNG",
        "vscode": {
          "languageId": "r"
        }
      },
      "outputs": [],
      "source": [
        "for(i in colnames(data)){\n",
        "    sum <- sum(is.na(data[,i]))\n",
        "    if(sum > samples * 0.5){\n",
        "        print(i)\n",
        "    }\n",
        "}"
      ]
    },
    {
      "cell_type": "code",
      "execution_count": null,
      "metadata": {
        "vscode": {
          "languageId": "r"
        }
      },
      "outputs": [],
      "source": [
        "for (i in row.names(data)){\n",
        "    sum <- sum(is.na(data[i,]))\n",
        "    if(sum > 0){\n",
        "        print(i)\n",
        "    }\n",
        "}"
      ]
    },
    {
      "cell_type": "code",
      "execution_count": null,
      "metadata": {
        "id": "f2QYZL-nAQNI",
        "vscode": {
          "languageId": "r"
        }
      },
      "outputs": [],
      "source": [
        "numerical_data <- data[, 3:ncol(data)]\n",
        "t_numerical_data <- as.data.frame(t(data[, 3:ncol(data)]))"
      ]
    },
    {
      "cell_type": "code",
      "execution_count": null,
      "metadata": {
        "colab": {
          "base_uri": "https://localhost:8080/",
          "height": 437
        },
        "id": "iM1QsCy0AQNJ",
        "outputId": "9754157f-9d1b-431d-d733-a0a43ad26596",
        "vscode": {
          "languageId": "r"
        }
      },
      "outputs": [],
      "source": [
        "boxplot(numerical_data[,1:25])"
      ]
    },
    {
      "cell_type": "code",
      "execution_count": null,
      "metadata": {
        "vscode": {
          "languageId": "r"
        }
      },
      "outputs": [],
      "source": [
        "boxplot(t_numerical_data)"
      ]
    },
    {
      "cell_type": "code",
      "execution_count": null,
      "metadata": {
        "colab": {
          "base_uri": "https://localhost:8080/",
          "height": 303
        },
        "id": "yZgmM1RjAQNL",
        "outputId": "c7ba087b-4791-45bd-e906-99e12035b93d",
        "vscode": {
          "languageId": "r"
        }
      },
      "outputs": [],
      "source": [
        "for (x in colnames(numerical_data)) {\n",
        "    value = numerical_data[,x][numerical_data[,x] %in% boxplot.stats(numerical_data[,x])$out]\n",
        "    numerical_data[,x][numerical_data[,x] %in% value] = NA\n",
        "}\n",
        "head(as.data.frame(colSums(is.na(numerical_data))))"
      ]
    },
    {
      "cell_type": "code",
      "execution_count": null,
      "metadata": {
        "vscode": {
          "languageId": "r"
        }
      },
      "outputs": [],
      "source": [
        "for (x in colnames(t_numerical_data)) {\n",
        "    value = t_numerical_data[,x][t_numerical_data[,x] %in% boxplot.stats(t_numerical_data[,x])$out]\n",
        "    t_numerical_data[,x][t_numerical_data[,x] %in% value] = NA\n",
        "}\n",
        "head(as.data.frame(colSums(is.na(t_numerical_data))))"
      ]
    },
    {
      "cell_type": "code",
      "execution_count": null,
      "metadata": {
        "colab": {
          "base_uri": "https://localhost:8080/",
          "height": 71
        },
        "id": "5MgbFj5Gj-g3",
        "outputId": "c4f963c6-a789-4c05-b951-dcc2228c8b16",
        "vscode": {
          "languageId": "r"
        }
      },
      "outputs": [],
      "source": [
        "no_row_numerical_data<-na.omit(numerical_data)\n",
        "no_col_numerical_data<-numerical_data[ , colSums(is.na(numerical_data))==0]\n",
        "dim(no_row_numerical_data)\n",
        "dim(no_col_numerical_data)"
      ]
    },
    {
      "cell_type": "code",
      "execution_count": null,
      "metadata": {
        "vscode": {
          "languageId": "r"
        }
      },
      "outputs": [],
      "source": [
        "no_t_row_numerical_data<-na.omit(t_numerical_data)\n",
        "no_t_col_numerical_data<-t_numerical_data[ , colSums(is.na(t_numerical_data))==0]\n",
        "dim(no_t_row_numerical_data)\n",
        "dim(no_t_col_numerical_data)"
      ]
    },
    {
      "cell_type": "code",
      "execution_count": null,
      "metadata": {
        "vscode": {
          "languageId": "r"
        }
      },
      "outputs": [],
      "source": [
        "numerical_data <- t(no_col_numerical_data)"
      ]
    },
    {
      "cell_type": "code",
      "execution_count": null,
      "metadata": {
        "id": "TUHPnmV1j-g4",
        "vscode": {
          "languageId": "r"
        }
      },
      "outputs": [],
      "source": [
        "scaled_numerical_data <- scale(numerical_data)"
      ]
    },
    {
      "cell_type": "code",
      "execution_count": null,
      "metadata": {
        "id": "9SULSJ2zAQNM",
        "vscode": {
          "languageId": "r"
        }
      },
      "outputs": [],
      "source": [
        "scaled_data <- cbind(data[,1:2], scaled_numerical_data)"
      ]
    },
    {
      "cell_type": "code",
      "execution_count": null,
      "metadata": {
        "colab": {
          "base_uri": "https://localhost:8080/",
          "height": 303
        },
        "id": "A0KKbEKxAQNN",
        "outputId": "6e18bb2a-55e3-45e0-e859-76b40a23c8ab",
        "vscode": {
          "languageId": "r"
        }
      },
      "outputs": [],
      "source": [
        "head(scaled_data)"
      ]
    },
    {
      "cell_type": "markdown",
      "metadata": {
        "id": "VZnQKsYyLbYo"
      },
      "source": [
        "## Part 3: Principal Component Analysis"
      ]
    },
    {
      "cell_type": "markdown",
      "metadata": {
        "id": "EeCz9uGCLdgV"
      },
      "source": [
        "### Task 3.1: Compute PCA and View Eigenvalues and Eigenvectors"
      ]
    },
    {
      "cell_type": "markdown",
      "metadata": {
        "id": "beir-B3RLflW"
      },
      "source": [
        "Load the PCA results into R and create a 2D plot of the first two principal components.\n",
        "\n",
        "Hints: You can use the ggplot2 package for this task. Example: ggplot(data, aes(x=PC1, y=PC2)) + geom_point()."
      ]
    },
    {
      "cell_type": "code",
      "execution_count": null,
      "metadata": {
        "colab": {
          "base_uri": "https://localhost:8080/",
          "height": 1000
        },
        "id": "jeWO5qHzj-g9",
        "outputId": "1ed24bd4-33e9-40ae-8995-7b57e6bac44b",
        "vscode": {
          "languageId": "r"
        }
      },
      "outputs": [],
      "source": [
        "pca_result <- prcomp(scaled_numerical_data, center = TRUE, scale. = TRUE)\n",
        "summary(pca_result)"
      ]
    },
    {
      "cell_type": "code",
      "execution_count": null,
      "metadata": {
        "colab": {
          "base_uri": "https://localhost:8080/",
          "height": 303
        },
        "id": "JV55e2aNj-g-",
        "outputId": "f2524f73-e55d-4cea-96e0-6fd9f4de7b39",
        "vscode": {
          "languageId": "r"
        }
      },
      "outputs": [],
      "source": [
        "pc <- pca_result$x[, 1:3]\n",
        "pc_df <- as.data.frame(pc)\n",
        "colnames(pc_df) <- c('PC1', 'PC2', 'PC3')\n",
        "head(pc_df)"
      ]
    },
    {
      "cell_type": "code",
      "execution_count": null,
      "metadata": {
        "id": "WKBxFeUMj-g_",
        "vscode": {
          "languageId": "r"
        }
      },
      "outputs": [],
      "source": [
        "data_with_pca <- cbind(scaled_numerical_data, pc_df)\n",
        "data_with_pca_with_label <- cbind(data[,1:2], data_with_pca)"
      ]
    },
    {
      "cell_type": "code",
      "execution_count": null,
      "metadata": {
        "colab": {
          "base_uri": "https://localhost:8080/",
          "height": 457
        },
        "id": "ofiMXAUGj-g_",
        "outputId": "f4e0404a-dc56-4290-e8fc-6595dd66a6a4",
        "vscode": {
          "languageId": "r"
        }
      },
      "outputs": [],
      "source": [
        "ggplot(data_with_pca, aes(x=PC1, y=PC2)) + geom_point()"
      ]
    },
    {
      "cell_type": "markdown",
      "metadata": {
        "id": "OTJRVLZ7LmI_"
      },
      "source": [
        "### Task 3.2: Plotting PC1 vs PC2, PC1 vs PC3, and PC2 vs PC3\n"
      ]
    },
    {
      "cell_type": "markdown",
      "metadata": {
        "id": "mCb34UzWLpC1"
      },
      "source": [
        "Create plots comparing PC1 vs PC2, PC1 vs PC3, and PC2 vs PC3.\n",
        "\n",
        "Hints: You can use the gridExtra package to arrange multiple plots on a single page."
      ]
    },
    {
      "cell_type": "code",
      "execution_count": null,
      "metadata": {
        "colab": {
          "base_uri": "https://localhost:8080/",
          "height": 457
        },
        "id": "HUmhbOdLj-hB",
        "outputId": "c218ac0d-d735-4bde-cfa6-5cbf401e7c81",
        "vscode": {
          "languageId": "r"
        }
      },
      "outputs": [],
      "source": [
        "plot_pc1_pc2 <- ggplot(pc_df, aes(x = PC1, y = PC2)) + geom_point() +labs(title = \"PC1 vs PC2\")\n",
        "plot_pc1_pc3 <- ggplot(pc_df, aes(x = PC1, y = PC3)) + geom_point() + labs(title = \"PC1 vs PC3\")\n",
        "plot_pc2_pc3 <- ggplot(pc_df, aes(x = PC2, y = PC3)) + geom_point() + labs(title = \"PC2 vs PC3\")\n",
        "grid.arrange(plot_pc1_pc2, plot_pc1_pc3, plot_pc2_pc3, ncol = 2)"
      ]
    },
    {
      "cell_type": "markdown",
      "metadata": {
        "id": "vh5_r88RLqRP"
      },
      "source": [
        "## Part 4: Regression Analysis"
      ]
    },
    {
      "cell_type": "markdown",
      "metadata": {
        "id": "WQNkpxz1LsOv"
      },
      "source": [
        "Investigate relationships between genes and cancer existence.\n",
        "\n",
        "Hints: You can create a logistic regression model using the glm() function. Make sure to set family = binomial for logistic regression."
      ]
    },
    {
      "cell_type": "code",
      "execution_count": null,
      "metadata": {
        "id": "HyPjWns1j-hG",
        "vscode": {
          "languageId": "r"
        }
      },
      "outputs": [],
      "source": [
        "cancer_types <- scaled_data[, 'type']\n",
        "cancer <- c()\n",
        "for (i in seq_len(nrow(scaled_data))){\n",
        "    if(scaled_data[i, \"type\"] == 'normal'){\n",
        "        cancer <- c(cancer, 0)\n",
        "    }else{\n",
        "        cancer <- c(cancer, 1)\n",
        "    }\n",
        "}"
      ]
    },
    {
      "cell_type": "code",
      "execution_count": null,
      "metadata": {
        "id": "5AiSD9JJj-hH",
        "vscode": {
          "languageId": "r"
        }
      },
      "outputs": [],
      "source": [
        "data_with_cancer <- cbind(data_with_pca_with_label, cancer)\n",
        "head(data_with_cancer)"
      ]
    },
    {
      "cell_type": "code",
      "execution_count": null,
      "metadata": {
        "id": "zHZqR3aAj-hJ",
        "vscode": {
          "languageId": "r"
        }
      },
      "outputs": [],
      "source": [
        "colNames <- colnames(scaled_data)[3:ncol(scaled_data)]\n",
        "total_size <- length(colNames)\n",
        "step_size <- floor(total_size / 5)\n",
        "start_1 <- 1\n",
        "start_2 <- start_1 + step_size\n",
        "start_3 <- start_2 + step_size\n",
        "start_4 <- start_3 + step_size\n",
        "start_5 <- start_4 + step_size\n",
        "start_6 <- total_size"
      ]
    },
    {
      "cell_type": "code",
      "execution_count": null,
      "metadata": {
        "vscode": {
          "languageId": "r"
        }
      },
      "outputs": [],
      "source": [
        "reg_formula <- as.formula(paste(\"cancer ~ \", paste(colNames, collapse = \"+\")))\n",
        "reg_model <- glm(reg_formula, data = data_with_cancer, family = binomial)\n",
        "summary(reg_model)"
      ]
    },
    {
      "cell_type": "code",
      "execution_count": null,
      "metadata": {
        "id": "kBGZXdPxj-hL",
        "vscode": {
          "languageId": "r"
        }
      },
      "outputs": [],
      "source": [
        "reg_formula <- as.formula(paste(\"cancer ~ \", paste(colNames[start_1:start_2], collapse = \"+\")))\n",
        "reg_model1 <- glm(reg_formula, data = data_with_cancer, family = binomial)\n",
        "summary(reg_model1)"
      ]
    },
    {
      "cell_type": "code",
      "execution_count": null,
      "metadata": {
        "id": "eKcq61cMj-hM",
        "vscode": {
          "languageId": "r"
        }
      },
      "outputs": [],
      "source": [
        "reg_formula <- as.formula(paste(\"cancer ~ \", paste(colNames[start_2:start_3], collapse = \"+\")))\n",
        "reg_model2 <- glm(reg_formula, data = data_with_cancer, family = binomial)\n",
        "summary(reg_model2)"
      ]
    },
    {
      "cell_type": "code",
      "execution_count": null,
      "metadata": {
        "id": "qQL88uhdj-hO",
        "vscode": {
          "languageId": "r"
        }
      },
      "outputs": [],
      "source": [
        "reg_formula <- as.formula(paste(\"cancer ~ \", paste(colNames[start_3:start_4], collapse = \"+\")))\n",
        "reg_model3 <- glm(reg_formula, data = data_with_cancer, family = binomial)\n",
        "summary(reg_model3)"
      ]
    },
    {
      "cell_type": "code",
      "execution_count": null,
      "metadata": {
        "id": "nnrv96Dnj-hQ",
        "vscode": {
          "languageId": "r"
        }
      },
      "outputs": [],
      "source": [
        "reg_formula <- as.formula(paste(\"cancer ~ \", paste(colNames[start_4:start_5], collapse = \"+\")))\n",
        "reg_model4 <- glm(reg_formula, data = data_with_cancer, family = binomial)\n",
        "summary(reg_model4)"
      ]
    },
    {
      "cell_type": "code",
      "execution_count": null,
      "metadata": {
        "id": "RzcelRhjj-hS",
        "vscode": {
          "languageId": "r"
        }
      },
      "outputs": [],
      "source": [
        "reg_formula <- as.formula(paste(\"cancer ~ \", paste(colNames[start_5:start_6], collapse = \"+\")))\n",
        "reg_model5 <- glm(reg_formula, data = data_with_cancer, family = binomial)\n",
        "summary(reg_model5)"
      ]
    },
    {
      "cell_type": "markdown",
      "metadata": {
        "id": "dgKF9m2-LubF"
      },
      "source": [
        "## Part 5: Clustering Analysis"
      ]
    },
    {
      "cell_type": "markdown",
      "metadata": {
        "id": "aNsL0-fqLwdG"
      },
      "source": [
        "### Task 5.1: clustering using K-means."
      ]
    },
    {
      "cell_type": "markdown",
      "metadata": {
        "id": "dBhHRfx_Ly7r"
      },
      "source": [
        "Explore data grouping based on gene expression data using K-means"
      ]
    },
    {
      "cell_type": "code",
      "execution_count": null,
      "metadata": {
        "id": "unP0hlrTj-hX",
        "vscode": {
          "languageId": "r"
        }
      },
      "outputs": [],
      "source": [
        "set.seed(5)\n",
        "kmeans_result <- kmeans(scaled_numerical_data, centers = 5)\n",
        "kmeans_result"
      ]
    },
    {
      "cell_type": "markdown",
      "metadata": {
        "id": "XTPcWt8ZL0Yn"
      },
      "source": [
        "### Task 5.2: Visualize clusters"
      ]
    },
    {
      "cell_type": "markdown",
      "metadata": {
        "id": "fzx_835pL2sS"
      },
      "source": [
        "Visualize cluster output in PC1 vs PC2."
      ]
    },
    {
      "cell_type": "code",
      "execution_count": null,
      "metadata": {
        "id": "WDZ8_puOj-hY",
        "vscode": {
          "languageId": "r"
        }
      },
      "outputs": [],
      "source": [
        "data_with_cancer_with_kmeans <- cbind(data_with_cancer, kmeans_result$cluster)"
      ]
    },
    {
      "cell_type": "code",
      "execution_count": null,
      "metadata": {
        "id": "knhDSSxtj-hY",
        "vscode": {
          "languageId": "r"
        }
      },
      "outputs": [],
      "source": [
        "ggplot(data_with_cancer_with_kmeans, aes(x=PC1, y=PC2, color = factor(kmeans_result$cluster))) + geom_point()"
      ]
    },
    {
      "cell_type": "markdown",
      "metadata": {
        "id": "c3RIKtheL3DM"
      },
      "source": [
        "## Part 6: Classification Techniques"
      ]
    },
    {
      "cell_type": "markdown",
      "metadata": {
        "id": "q4PFWlIZML9w"
      },
      "source": [
        "Note: if you do feature selection and classify again after fulfilling part 6 requirements you have a bonus of (5 Points)\n",
        "\n",
        "Split your dataset into 80% training and 20% testing, make sure that the testing dataset has nearly the same distribution of classes, note although we are interested here in cancer and non-cancer, the real number of classes is 5, so to have consistent results you need to have testing split have the same distribution of classes.\n"
      ]
    },
    {
      "cell_type": "code",
      "execution_count": null,
      "metadata": {
        "id": "wp3pXz2ej-hb",
        "vscode": {
          "languageId": "r"
        }
      },
      "outputs": [],
      "source": [
        "cancer_types <- unique(cancer_types)\n",
        "class_1 <- data_with_cancer_with_kmeans[data_with_cancer_with_kmeans$type == cancer_types[1],]\n",
        "class_2 <- data_with_cancer_with_kmeans[data_with_cancer_with_kmeans$type == cancer_types[2],]\n",
        "class_3 <- data_with_cancer_with_kmeans[data_with_cancer_with_kmeans$type == cancer_types[3],]\n",
        "class_4 <- data_with_cancer_with_kmeans[data_with_cancer_with_kmeans$type == cancer_types[4],]\n",
        "class_5 <- data_with_cancer_with_kmeans[data_with_cancer_with_kmeans$type == cancer_types[5],]\n",
        "dim(class_1)\n",
        "dim(class_2)\n",
        "dim(class_3)\n",
        "dim(class_4)\n",
        "dim(class_5)"
      ]
    },
    {
      "cell_type": "code",
      "execution_count": null,
      "metadata": {
        "id": "1tsGr7_uj-hc",
        "vscode": {
          "languageId": "r"
        }
      },
      "outputs": [],
      "source": [
        "classes_tables <- list(class_1, class_2, class_3, class_4, class_5)"
      ]
    },
    {
      "cell_type": "code",
      "execution_count": null,
      "metadata": {
        "id": "COHeC5ZTj-hd",
        "vscode": {
          "languageId": "r"
        }
      },
      "outputs": [],
      "source": [
        "train_data <- data.frame()\n",
        "test_data <- data.frame()\n",
        "for (class in classes_tables){\n",
        "    set.seed(130)\n",
        "    sample <- sample(c(TRUE, FALSE), nrow(class), replace = TRUE, prob = c(0.8, 0.2))\n",
        "    train <- class[sample, ]\n",
        "    test <- class[!sample, ]\n",
        "    train_data <- rbind(train_data, train)\n",
        "    test_data <- rbind(test_data, test)\n",
        "}\n",
        "dim(train_data)\n",
        "dim(test_data)"
      ]
    },
    {
      "cell_type": "markdown",
      "metadata": {
        "id": "G-uKEHbvMNvC"
      },
      "source": [
        "### Task 6.1: Classification using LDA and SVM"
      ]
    },
    {
      "cell_type": "markdown",
      "metadata": {
        "id": "SYFbmuIRMPoX"
      },
      "source": [
        "\n",
        "- Classify samples into cancer and non-cancer groups using LDA and SVM techniques with k-fold cross-validation following below steps\n",
        "- Import the necessary libraries, including MASS for LDA, e1071 for SVM, and caret for cross-validation.\n",
        "- Implement k-fold cross-validation with a specified number of folds (e.g., 5 or 10). Split your dataset into these folds.\n",
        "- For each fold, do the following:\n",
        "  - Use the remaining (k-1) folds as the training data.\n",
        "- For LDA:\n",
        "  - Fit an LDA model on this training data.\n",
        "  - Predict the class labels for the fold left out (validation data) using the LDA model.\n",
        "- For SVM:\n",
        "  - Train an SVM model on this training data with the specified kernel (e.g., RBF).\n",
        " - Evaluate the model's performance on the held-out fold (validation data) using metrics like accuracy, precision, recall, and F-score.\n",
        "- Average the performance metrics (e.g., accuracy) across all folds to obtain an overall\n",
        "estimate of the models' performance for both LDA and SVM.\n"
      ]
    },
    {
      "cell_type": "code",
      "execution_count": null,
      "metadata": {
        "id": "U3AU0DgBolhO",
        "vscode": {
          "languageId": "r"
        }
      },
      "outputs": [],
      "source": [
        "train <- train_data[, 2:(ncol(train_data)-5)]\n",
        "test <- test_data[, 2:(ncol(test_data)-5)]"
      ]
    },
    {
      "cell_type": "code",
      "execution_count": null,
      "metadata": {
        "id": "koKhpJCwomHN",
        "vscode": {
          "languageId": "r"
        }
      },
      "outputs": [],
      "source": [
        "set.seed(123)\n",
        "num_folds <- 10\n",
        "folds <- createFolds(train$type, k = num_folds, list = TRUE)"
      ]
    },
    {
      "cell_type": "code",
      "execution_count": null,
      "metadata": {
        "id": "HQwsKNk9oyq8",
        "vscode": {
          "languageId": "r"
        }
      },
      "outputs": [],
      "source": [
        "lda_metrics <- matrix(0, nrow = num_folds, ncol = 4)\n",
        "svm_metrics <- matrix(0, nrow = num_folds, ncol = 4)"
      ]
    },
    {
      "cell_type": "code",
      "execution_count": null,
      "metadata": {
        "id": "_SG1qredozTf",
        "vscode": {
          "languageId": "r"
        }
      },
      "outputs": [],
      "source": [
        "for (fold in 1:num_folds) {\n",
        "  train_indices <- unlist(folds[-fold])\n",
        "  validation_indices <- folds[[fold]]\n",
        "  cv_train_data <- train[train_indices, ]\n",
        "  validation_data <- train[validation_indices, ]\n",
        "  cv_train_features <- cv_train_data[, -1]\n",
        "  cv_train_labels <- cv_train_data$type\n",
        "  validation_features <- validation_data[, -1]\n",
        "  validation_labels <- validation_data$type\n",
        "  lda_model <- lda(cv_train_labels ~ ., data = cv_train_data)\n",
        "  lda_predictions <- predict(lda_model, newdata = validation_features)\n",
        "  lda_metrics[fold, ] <- confusionMatrix(lda_predictions$class, validation_labels)$overall\n",
        "  svm_model <- svm(cv_train_labels ~ ., data = cv_train_data, kernel = \"radial\")\n",
        "  svm_predictions <- predict(svm_model, newdata = validation_features)\n",
        "  svm_metrics[fold, ] <- confusionMatrix(svm_predictions, validation_labels)$overall\n",
        "}\n",
        "lda_avg_metrics <- colMeans(lda_metrics)\n",
        "svm_avg_metrics <- colMeans(svm_metrics)\n",
        "print(\"LDA Average Metrics:\")\n",
        "print(lda_avg_metrics)\n",
        "print(\"SVM Average Metrics:\")\n",
        "print(svm_avg_metrics)"
      ]
    },
    {
      "cell_type": "markdown",
      "metadata": {
        "id": "rFpfnpR8McT2"
      },
      "source": [
        "### Task 6.2: metrics reporting for both methods"
      ]
    },
    {
      "cell_type": "markdown",
      "metadata": {
        "id": "GMARXdGwMd8A"
      },
      "source": [
        "- Report overall accuracy, precision, recall, F score and plot confusion matrix for each method output\n",
        "- Compare the classification accuracy of significant genes due to regression with the whole set of genes used for the classifier"
      ]
    },
    {
      "cell_type": "markdown",
      "metadata": {
        "id": "0DHYdWhaMgeg"
      },
      "source": [
        "### Task 6.3: choice of the best method based on metrics"
      ]
    },
    {
      "cell_type": "markdown",
      "metadata": {
        "id": "2gULmeDCMjA_"
      },
      "source": [
        "- If you are asked to choose best classifier from your output metrics, what will you choose and provide a reason for your choice?\n",
        "- In other contexts will your choice depend only on the method with the best accuracy why? And why not?\n",
        "\n",
        "Hints: LDA implementation using the lda() function from the MASS package. SVM model creation using svm() from the e1071 package.\n",
        "To calculate accuracy, you can use the caret package."
      ]
    },
    {
      "cell_type": "markdown",
      "metadata": {
        "id": "kLg2XBQ3Mmx5"
      },
      "source": [
        "## Part 7: WGCNA Analysis and Cytoscape Visualization"
      ]
    },
    {
      "cell_type": "markdown",
      "metadata": {
        "id": "wzEaB2JRMpWF"
      },
      "source": [
        "### Task 7.1: WGCNA Analysis"
      ]
    },
    {
      "cell_type": "markdown",
      "metadata": {
        "id": "_tbTJBCgMrOB"
      },
      "source": [
        "1. Import the necessary R libraries for WGCNA analysis, including WGCNA and stats.\n",
        "2. Construct the Network:\n",
        "3. Use the blockwiseModules function from the WGCNA package to construct the gene\n",
        "co-expression network.\n",
        "4. Parameters to consider include the soft thresholding power, network type (signed or\n",
        "unsigned), and module detection settings.\n",
        "5. Employ functions like moduleColors to obtain module assignments for each gene.\n",
        "6. Optionally, use cutreeDynamic to refine module assignments.\n",
        "7. Create visualizations such as plots, dendrograms, and heatmaps to understand the\n",
        "network's structure and module relationships.\n",
        "8. Extract the network of the significant genes “those are the ones obtained from\n",
        "regression analysis” (relaxed significance p<0.05 )"
      ]
    },
    {
      "cell_type": "markdown",
      "metadata": {
        "id": "3wdShdMTMtNG"
      },
      "source": [
        "### Task 7.2: Export Network Data for Cytoscape"
      ]
    },
    {
      "cell_type": "markdown",
      "metadata": {
        "id": "hKBkFNw1MvaO"
      },
      "source": [
        "1. Export the gene co-expression network data from R in a format compatible with Cytoscape, such as CSV or TXT. Ensure that your exported file includes information about nodes (genes) and their connections (edges). This file should contain details about which genes are connected to each other in the network.\n",
        "2. Download and install Cytoscape from the official website (https://cytoscape.org/download.html) if you haven't already done so.\n",
        "3. Launch Cytoscape and use its import functionality to bring in the network data exported from R. This will create the base network visualization.\n",
        "4. Simplify the visualization by focusing on the most important parts of the network:\n",
        "  - Utilize layout algorithms within Cytoscape to arrange nodes (genes) in a visually\n",
        "informative way. Experiment with different layouts to find the one that best\n",
        "represents the network's structure.\n",
        "  - Adjust node properties, such as size, color, and shape, to convey biological\n",
        "significance. Highlight significant genes “those are the ones obtained from\n",
        "regression analysis” by assigning distinctive colors or larger sizes to them.\n",
        "  - Modify edge properties, including width and color, to represent co-expression\n",
        "strength effectively. Stronger co-expression can be indicated by thicker or\n",
        "differently colored edges.\n",
        "5. Extract subnetworks containing significant genes “those are the ones obtained from\n",
        "regression analysis”:\n",
        "  - Use the significant genes as seeds or starting points.\n",
        "  - Visualize these subnetworks separately or in conjunction with the base\n",
        "network.\n",
        "6. Install and activate the gProfiler or enricher plugin within Cytoscape, if it's not already\n",
        "installed. You can install it via the Cytoscape App Manager.\n",
        "Use the gProfiler plugin or enricher to perform gene enrichment analysis on Extracted subnetworks in last point. This analysis will provide insights into the biological functions, pathways, and processes associated with the selected genes.\n",
        "7. Visualize the results of the gene enrichment analysis within Cytoscape, which may include enriched pathways, Gene Ontology (GO) terms, and other relevant annotations.\n",
        "8. Customize the visualization of enrichment results to highlight the most significant terms or pathways associated with the genes in your network or subnetworks.\n",
        "9. Export the enriched gene sets, pathways, or GO terms as part of your final network visualization or as separate reports for inclusion in publications or presentations."
      ]
    }
  ],
  "metadata": {
    "colab": {
      "collapsed_sections": [
        "YzGIE6pQK6N9",
        "e4MCOHxaLGCN",
        "u90B4mhqLLvB",
        "r-IogK1fLPtu",
        "VZnQKsYyLbYo",
        "EeCz9uGCLdgV",
        "OTJRVLZ7LmI_",
        "vh5_r88RLqRP",
        "dgKF9m2-LubF",
        "aNsL0-fqLwdG",
        "XTPcWt8ZL0Yn",
        "rFpfnpR8McT2",
        "0DHYdWhaMgeg",
        "kLg2XBQ3Mmx5",
        "wzEaB2JRMpWF",
        "3wdShdMTMtNG"
      ],
      "provenance": []
    },
    "kernelspec": {
      "display_name": "R",
      "language": "R",
      "name": "ir"
    },
    "language_info": {
      "codemirror_mode": "r",
      "file_extension": ".r",
      "mimetype": "text/x-r-source",
      "name": "R",
      "pygments_lexer": "r",
      "version": "4.3.2"
    }
  },
  "nbformat": 4,
  "nbformat_minor": 0
}
