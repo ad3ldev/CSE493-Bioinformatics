{
  "cells": [
    {
      "cell_type": "markdown",
      "metadata": {
        "id": "m2I4tX5l03rG"
      },
      "source": [
        "# Lab 3: Sequence Alignment in Bioinformatics\n",
        "\n",
        "- Name: AbdelRahman Adel AbdelFattah\n",
        "- ID: 17012296"
      ]
    },
    {
      "cell_type": "markdown",
      "metadata": {
        "id": "ZNl3I_221t0A"
      },
      "source": [
        "\n",
        "## Objective\n",
        "\n",
        "Introduce students to sequence alignment techniques using the R programming language in bioinformatics. By the end of this lab, leverage built-in R libraries for the tasks.\n"
      ]
    },
    {
      "cell_type": "markdown",
      "metadata": {
        "id": "Ahw_xSnz1v3f"
      },
      "source": [
        "## Prerequisites\n",
        "- Basic knowledge in programming and R syntax.\n",
        "-  Installed R, RStudio, and Jupyter Notebook with R kernel (IRkernel) on either a local environment or Google Colab.\n",
        "-  Familiarity with sequence databases, such as GenBank or EMBL"
      ]
    },
    {
      "cell_type": "markdown",
      "metadata": {
        "id": "_8CcerhKJ_pO"
      },
      "source": [
        "## Part 1: Data Retrieval and Preprocessing"
      ]
    },
    {
      "cell_type": "markdown",
      "metadata": {
        "id": "QDoWNJouJ_pO"
      },
      "source": [
        "### Task 1.1: Retrieve Sequences"
      ]
    },
    {
      "cell_type": "markdown",
      "metadata": {
        "id": "cfg7izngJ_pO"
      },
      "source": [
        "1.  Install and load the necessary package."
      ]
    },
    {
      "cell_type": "code",
      "execution_count": 1,
      "metadata": {
        "colab": {
          "base_uri": "https://localhost:8080/"
        },
        "id": "Q7MgXb9UJ_pQ",
        "outputId": "cc46d3cd-6c51-4b38-c263-b794c4727bf8",
        "vscode": {
          "languageId": "r"
        }
      },
      "outputs": [
        {
          "name": "stderr",
          "output_type": "stream",
          "text": [
            "Installing package into '/opt/homebrew/lib/R/4.3/site-library'\n",
            "(as 'lib' is unspecified)\n",
            "\n"
          ]
        },
        {
          "name": "stderr",
          "output_type": "stream",
          "text": [
            "Installing package into '/opt/homebrew/lib/R/4.3/site-library'\n",
            "(as 'lib' is unspecified)\n",
            "\n",
            "'getOption(\"repos\")' replaces Bioconductor standard repositories, see\n",
            "'help(\"repositories\", package = \"BiocManager\")' for details.\n",
            "Replacement repositories:\n",
            "    CRAN: https://cran.r-project.org\n",
            "\n",
            "Bioconductor version 3.18 (BiocManager 1.30.22), R 4.3.1 (2023-06-16)\n",
            "\n",
            "Warning message:\n",
            "\"package(s) not installed when version(s) same as or greater than current; use\n",
            "  `force = TRUE` to re-install: 'Biostrings'\"\n",
            "Old packages: 'markdown', 'tinytex', 'utf8', 'vctrs', 'KernSmooth', 'Matrix',\n",
            "  'foreign', 'lattice', 'mgcv', 'nlme', 'rpart', 'spatial', 'survival'\n",
            "\n"
          ]
        }
      ],
      "source": [
        "install.packages(\"rentrez\")\n",
        "install.packages(\"BiocManager\")\n",
        "BiocManager::install(\"Biostrings\")"
      ]
    },
    {
      "cell_type": "code",
      "execution_count": 2,
      "metadata": {
        "id": "_S_KRwN8J_pR",
        "vscode": {
          "languageId": "r"
        }
      },
      "outputs": [
        {
          "name": "stderr",
          "output_type": "stream",
          "text": [
            "Loading required package: BiocGenerics\n",
            "\n",
            "\n",
            "Attaching package: 'BiocGenerics'\n",
            "\n",
            "\n",
            "The following objects are masked from 'package:stats':\n",
            "\n",
            "    IQR, mad, sd, var, xtabs\n",
            "\n",
            "\n",
            "The following objects are masked from 'package:base':\n",
            "\n",
            "    Filter, Find, Map, Position, Reduce, anyDuplicated, aperm, append,\n",
            "    as.data.frame, basename, cbind, colnames, dirname, do.call,\n",
            "    duplicated, eval, evalq, get, grep, grepl, intersect, is.unsorted,\n",
            "    lapply, mapply, match, mget, order, paste, pmax, pmax.int, pmin,\n",
            "    pmin.int, rank, rbind, rownames, sapply, setdiff, sort, table,\n",
            "    tapply, union, unique, unsplit, which.max, which.min\n",
            "\n",
            "\n",
            "Loading required package: S4Vectors\n",
            "\n",
            "Loading required package: stats4\n",
            "\n",
            "\n",
            "Attaching package: 'S4Vectors'\n",
            "\n",
            "\n",
            "The following object is masked from 'package:utils':\n",
            "\n",
            "    findMatches\n",
            "\n",
            "\n",
            "The following objects are masked from 'package:base':\n",
            "\n",
            "    I, expand.grid, unname\n",
            "\n",
            "\n",
            "Loading required package: IRanges\n",
            "\n",
            "Loading required package: XVector\n",
            "\n",
            "Loading required package: GenomeInfoDb\n",
            "\n",
            "\n",
            "Attaching package: 'Biostrings'\n",
            "\n",
            "\n",
            "The following object is masked from 'package:base':\n",
            "\n",
            "    strsplit\n",
            "\n",
            "\n"
          ]
        }
      ],
      "source": [
        "library(rentrez)\n",
        "library(Biostrings)"
      ]
    },
    {
      "cell_type": "markdown",
      "metadata": {
        "id": "g7cqCAaCJ_pS"
      },
      "source": [
        "2. Fetch a sequence from GenBank."
      ]
    },
    {
      "cell_type": "code",
      "execution_count": 3,
      "metadata": {
        "id": "1181UyerJ_pT",
        "vscode": {
          "languageId": "r"
        }
      },
      "outputs": [],
      "source": [
        "db <- \"nuccore\"\n",
        "term <- \"random\"\n",
        "ids<-entrez_search(db=db, term=term, retmax=250)$ids"
      ]
    },
    {
      "cell_type": "code",
      "execution_count": 4,
      "metadata": {
        "id": "5jnLxmdKVgCC",
        "vscode": {
          "languageId": "r"
        }
      },
      "outputs": [],
      "source": [
        "raw_seqs<-entrez_fetch(db =db, id=ids, rettype = \"fasta\", retmode = \"text\")"
      ]
    },
    {
      "cell_type": "code",
      "execution_count": null,
      "metadata": {
        "vscode": {
          "languageId": "r"
        }
      },
      "outputs": [],
      "source": []
    },
    {
      "cell_type": "markdown",
      "metadata": {
        "id": "34897XGdJ_pT"
      },
      "source": [
        "3. Store the sequence in an appropriate R data structure."
      ]
    },
    {
      "cell_type": "code",
      "execution_count": 5,
      "metadata": {
        "id": "ZlSdyfeNKfUf",
        "vscode": {
          "languageId": "r"
        }
      },
      "outputs": [
        {
          "data": {
            "text/plain": [
              "DNAStringSet object of length 6:\n",
              "    width seq                                               names               \n",
              "[1] 22439 \u001b[47m\u001b[30mC\u001b[39m\u001b[49m\u001b[47m\u001b[30mA\u001b[39m\u001b[49m\u001b[47m\u001b[30mC\u001b[39m\u001b[49m\u001b[47m\u001b[30mA\u001b[39m\u001b[49m\u001b[47m\u001b[30mT\u001b[39m\u001b[49m\u001b[47m\u001b[30mT\u001b[39m\u001b[49m\u001b[47m\u001b[30mC\u001b[39m\u001b[49m\u001b[47m\u001b[30mG\u001b[39m\u001b[49m\u001b[47m\u001b[30mA\u001b[39m\u001b[49m\u001b[47m\u001b[30mT\u001b[39m\u001b[49m\u001b[47m\u001b[30mG\u001b[39m\u001b[49m\u001b[47m\u001b[30mA\u001b[39m\u001b[49m\u001b[47m\u001b[30mC\u001b[39m\u001b[49m\u001b[47m\u001b[30mA\u001b[39m\u001b[49m\u001b[47m\u001b[30mG\u001b[39m\u001b[49m\u001b[47m\u001b[30mT\u001b[39m\u001b[49m\u001b[47m\u001b[30mT\u001b[39m\u001b[49m\u001b[47m\u001b[30mA\u001b[39m\u001b[49m\u001b[47m\u001b[30mG\u001b[39m\u001b[49m\u001b[47m\u001b[30mA\u001b[39m\u001b[49m\u001b[47m\u001b[30mC\u001b[39m\u001b[49m\u001b[47m\u001b[30mA\u001b[39m\u001b[49m\u001b[47m\u001b[30mG\u001b[39m\u001b[49m...\u001b[47m\u001b[30mA\u001b[39m\u001b[49m\u001b[47m\u001b[30mA\u001b[39m\u001b[49m\u001b[47m\u001b[30mT\u001b[39m\u001b[49m\u001b[47m\u001b[30mG\u001b[39m\u001b[49m\u001b[47m\u001b[30mA\u001b[39m\u001b[49m\u001b[47m\u001b[30mA\u001b[39m\u001b[49m\u001b[47m\u001b[30mA\u001b[39m\u001b[49m\u001b[47m\u001b[30mT\u001b[39m\u001b[49m\u001b[47m\u001b[30mG\u001b[39m\u001b[49m\u001b[47m\u001b[30mT\u001b[39m\u001b[49m\u001b[47m\u001b[30mA\u001b[39m\u001b[49m\u001b[47m\u001b[30mT\u001b[39m\u001b[49m\u001b[47m\u001b[30mG\u001b[39m\u001b[49m\u001b[47m\u001b[30mT\u001b[39m\u001b[49m\u001b[47m\u001b[30mT\u001b[39m\u001b[49m\u001b[47m\u001b[30mT\u001b[39m\u001b[49m\u001b[47m\u001b[30mA\u001b[39m\u001b[49m\u001b[47m\u001b[30mT\u001b[39m\u001b[49m\u001b[47m\u001b[30mA\u001b[39m\u001b[49m\u001b[47m\u001b[30mA\u001b[39m\u001b[49m\u001b[47m\u001b[30mA\u001b[39m\u001b[49m\u001b[47m\u001b[30mA\u001b[39m\u001b[49m\u001b[47m\u001b[30mC\u001b[39m\u001b[49m NW_003519799.1 Di...\n",
              "[2]  1812 \u001b[47m\u001b[30mA\u001b[39m\u001b[49m\u001b[47m\u001b[30mT\u001b[39m\u001b[49m\u001b[47m\u001b[30mG\u001b[39m\u001b[49m\u001b[47m\u001b[30mG\u001b[39m\u001b[49m\u001b[47m\u001b[30mG\u001b[39m\u001b[49m\u001b[47m\u001b[30mA\u001b[39m\u001b[49m\u001b[47m\u001b[30mA\u001b[39m\u001b[49m\u001b[47m\u001b[30mA\u001b[39m\u001b[49m\u001b[47m\u001b[30mT\u001b[39m\u001b[49m\u001b[47m\u001b[30mT\u001b[39m\u001b[49m\u001b[47m\u001b[30mA\u001b[39m\u001b[49m\u001b[47m\u001b[30mT\u001b[39m\u001b[49m\u001b[47m\u001b[30mA\u001b[39m\u001b[49m\u001b[47m\u001b[30mT\u001b[39m\u001b[49m\u001b[47m\u001b[30mA\u001b[39m\u001b[49m\u001b[47m\u001b[30mT\u001b[39m\u001b[49m\u001b[47m\u001b[30mC\u001b[39m\u001b[49m\u001b[47m\u001b[30mC\u001b[39m\u001b[49m\u001b[47m\u001b[30mA\u001b[39m\u001b[49m\u001b[47m\u001b[30mA\u001b[39m\u001b[49m\u001b[47m\u001b[30mA\u001b[39m\u001b[49m\u001b[47m\u001b[30mG\u001b[39m\u001b[49m\u001b[47m\u001b[30mC\u001b[39m\u001b[49m...\u001b[47m\u001b[30mA\u001b[39m\u001b[49m\u001b[47m\u001b[30mA\u001b[39m\u001b[49m\u001b[47m\u001b[30mT\u001b[39m\u001b[49m\u001b[47m\u001b[30mA\u001b[39m\u001b[49m\u001b[47m\u001b[30mA\u001b[39m\u001b[49m\u001b[47m\u001b[30mA\u001b[39m\u001b[49m\u001b[47m\u001b[30mA\u001b[39m\u001b[49m\u001b[47m\u001b[30mA\u001b[39m\u001b[49m\u001b[47m\u001b[30mC\u001b[39m\u001b[49m\u001b[47m\u001b[30mA\u001b[39m\u001b[49m\u001b[47m\u001b[30mA\u001b[39m\u001b[49m\u001b[47m\u001b[30mA\u001b[39m\u001b[49m\u001b[47m\u001b[30mA\u001b[39m\u001b[49m\u001b[47m\u001b[30mT\u001b[39m\u001b[49m\u001b[47m\u001b[30mT\u001b[39m\u001b[49m\u001b[47m\u001b[30mA\u001b[39m\u001b[49m\u001b[47m\u001b[30mT\u001b[39m\u001b[49m\u001b[47m\u001b[30mT\u001b[39m\u001b[49m\u001b[47m\u001b[30mT\u001b[39m\u001b[49m\u001b[47m\u001b[30mT\u001b[39m\u001b[49m\u001b[47m\u001b[30mA\u001b[39m\u001b[49m\u001b[47m\u001b[30mT\u001b[39m\u001b[49m\u001b[47m\u001b[30mT\u001b[39m\u001b[49m XM_003293730.1 Di...\n",
              "[3] 48732 \u001b[47m\u001b[30mT\u001b[39m\u001b[49m\u001b[47m\u001b[30mT\u001b[39m\u001b[49m\u001b[47m\u001b[30mC\u001b[39m\u001b[49m\u001b[47m\u001b[30mC\u001b[39m\u001b[49m\u001b[47m\u001b[30mC\u001b[39m\u001b[49m\u001b[47m\u001b[30mC\u001b[39m\u001b[49m\u001b[47m\u001b[30mC\u001b[39m\u001b[49m\u001b[47m\u001b[30mA\u001b[39m\u001b[49m\u001b[47m\u001b[30mC\u001b[39m\u001b[49m\u001b[47m\u001b[30mT\u001b[39m\u001b[49m\u001b[47m\u001b[30mC\u001b[39m\u001b[49m\u001b[47m\u001b[30mC\u001b[39m\u001b[49m\u001b[47m\u001b[30mC\u001b[39m\u001b[49m\u001b[47m\u001b[30mA\u001b[39m\u001b[49m\u001b[47m\u001b[30mC\u001b[39m\u001b[49m\u001b[47m\u001b[30mA\u001b[39m\u001b[49m\u001b[47m\u001b[30mC\u001b[39m\u001b[49m\u001b[47m\u001b[30mC\u001b[39m\u001b[49m\u001b[47m\u001b[30mC\u001b[39m\u001b[49m\u001b[47m\u001b[30mA\u001b[39m\u001b[49m\u001b[47m\u001b[30mC\u001b[39m\u001b[49m\u001b[47m\u001b[30mC\u001b[39m\u001b[49m\u001b[47m\u001b[30mC\u001b[39m\u001b[49m...\u001b[47m\u001b[30mT\u001b[39m\u001b[49m\u001b[47m\u001b[30mT\u001b[39m\u001b[49m\u001b[47m\u001b[30mT\u001b[39m\u001b[49m\u001b[47m\u001b[30mT\u001b[39m\u001b[49m\u001b[47m\u001b[30mA\u001b[39m\u001b[49m\u001b[47m\u001b[30mA\u001b[39m\u001b[49m\u001b[47m\u001b[30mT\u001b[39m\u001b[49m\u001b[47m\u001b[30mT\u001b[39m\u001b[49m\u001b[47m\u001b[30mT\u001b[39m\u001b[49m\u001b[47m\u001b[30mT\u001b[39m\u001b[49m\u001b[47m\u001b[30mT\u001b[39m\u001b[49m\u001b[47m\u001b[30mT\u001b[39m\u001b[49m\u001b[47m\u001b[30mA\u001b[39m\u001b[49m\u001b[47m\u001b[30mA\u001b[39m\u001b[49m\u001b[47m\u001b[30mT\u001b[39m\u001b[49m\u001b[47m\u001b[30mT\u001b[39m\u001b[49m\u001b[47m\u001b[30mT\u001b[39m\u001b[49m\u001b[47m\u001b[30mT\u001b[39m\u001b[49m\u001b[47m\u001b[30mT\u001b[39m\u001b[49m\u001b[47m\u001b[30mT\u001b[39m\u001b[49m\u001b[47m\u001b[30mA\u001b[39m\u001b[49m\u001b[47m\u001b[30mC\u001b[39m\u001b[49m\u001b[47m\u001b[30mT\u001b[39m\u001b[49m NW_003519586.1 Di...\n",
              "[4]  1119 \u001b[47m\u001b[30mA\u001b[39m\u001b[49m\u001b[47m\u001b[30mT\u001b[39m\u001b[49m\u001b[47m\u001b[30mG\u001b[39m\u001b[49m\u001b[47m\u001b[30mG\u001b[39m\u001b[49m\u001b[47m\u001b[30mA\u001b[39m\u001b[49m\u001b[47m\u001b[30mT\u001b[39m\u001b[49m\u001b[47m\u001b[30mA\u001b[39m\u001b[49m\u001b[47m\u001b[30mA\u001b[39m\u001b[49m\u001b[47m\u001b[30mT\u001b[39m\u001b[49m\u001b[47m\u001b[30mA\u001b[39m\u001b[49m\u001b[47m\u001b[30mG\u001b[39m\u001b[49m\u001b[47m\u001b[30mT\u001b[39m\u001b[49m\u001b[47m\u001b[30mG\u001b[39m\u001b[49m\u001b[47m\u001b[30mC\u001b[39m\u001b[49m\u001b[47m\u001b[30mA\u001b[39m\u001b[49m\u001b[47m\u001b[30mA\u001b[39m\u001b[49m\u001b[47m\u001b[30mA\u001b[39m\u001b[49m\u001b[47m\u001b[30mT\u001b[39m\u001b[49m\u001b[47m\u001b[30mG\u001b[39m\u001b[49m\u001b[47m\u001b[30mT\u001b[39m\u001b[49m\u001b[47m\u001b[30mA\u001b[39m\u001b[49m\u001b[47m\u001b[30mG\u001b[39m\u001b[49m\u001b[47m\u001b[30mC\u001b[39m\u001b[49m...\u001b[47m\u001b[30mT\u001b[39m\u001b[49m\u001b[47m\u001b[30mA\u001b[39m\u001b[49m\u001b[47m\u001b[30mG\u001b[39m\u001b[49m\u001b[47m\u001b[30mA\u001b[39m\u001b[49m\u001b[47m\u001b[30mA\u001b[39m\u001b[49m\u001b[47m\u001b[30mA\u001b[39m\u001b[49m\u001b[47m\u001b[30mT\u001b[39m\u001b[49m\u001b[47m\u001b[30mT\u001b[39m\u001b[49m\u001b[47m\u001b[30mA\u001b[39m\u001b[49m\u001b[47m\u001b[30mA\u001b[39m\u001b[49m\u001b[47m\u001b[30mA\u001b[39m\u001b[49m\u001b[47m\u001b[30mA\u001b[39m\u001b[49m\u001b[47m\u001b[30mC\u001b[39m\u001b[49m\u001b[47m\u001b[30mA\u001b[39m\u001b[49m\u001b[47m\u001b[30mA\u001b[39m\u001b[49m\u001b[47m\u001b[30mA\u001b[39m\u001b[49m\u001b[47m\u001b[30mT\u001b[39m\u001b[49m\u001b[47m\u001b[30mA\u001b[39m\u001b[49m\u001b[47m\u001b[30mA\u001b[39m\u001b[49m\u001b[47m\u001b[30mT\u001b[39m\u001b[49m\u001b[47m\u001b[30mT\u001b[39m\u001b[49m\u001b[47m\u001b[30mA\u001b[39m\u001b[49m\u001b[47m\u001b[30mA\u001b[39m\u001b[49m XM_003290906.1 Di...\n",
              "[5] 66772 \u001b[47m\u001b[30mA\u001b[39m\u001b[49m\u001b[47m\u001b[30mA\u001b[39m\u001b[49m\u001b[47m\u001b[30mT\u001b[39m\u001b[49m\u001b[47m\u001b[30mT\u001b[39m\u001b[49m\u001b[47m\u001b[30mT\u001b[39m\u001b[49m\u001b[47m\u001b[30mT\u001b[39m\u001b[49m\u001b[47m\u001b[30mA\u001b[39m\u001b[49m\u001b[47m\u001b[30mA\u001b[39m\u001b[49m\u001b[47m\u001b[30mT\u001b[39m\u001b[49m\u001b[47m\u001b[30mT\u001b[39m\u001b[49m\u001b[47m\u001b[30mA\u001b[39m\u001b[49m\u001b[47m\u001b[30mA\u001b[39m\u001b[49m\u001b[47m\u001b[30mT\u001b[39m\u001b[49m\u001b[47m\u001b[30mT\u001b[39m\u001b[49m\u001b[47m\u001b[30mA\u001b[39m\u001b[49m\u001b[47m\u001b[30mT\u001b[39m\u001b[49m\u001b[47m\u001b[30mA\u001b[39m\u001b[49m\u001b[47m\u001b[30mA\u001b[39m\u001b[49m\u001b[47m\u001b[30mA\u001b[39m\u001b[49m\u001b[47m\u001b[30mT\u001b[39m\u001b[49m\u001b[47m\u001b[30mA\u001b[39m\u001b[49m\u001b[47m\u001b[30mA\u001b[39m\u001b[49m\u001b[47m\u001b[30mA\u001b[39m\u001b[49m...\u001b[47m\u001b[30mT\u001b[39m\u001b[49m\u001b[47m\u001b[30mT\u001b[39m\u001b[49m\u001b[47m\u001b[30mT\u001b[39m\u001b[49m\u001b[47m\u001b[30mA\u001b[39m\u001b[49m\u001b[47m\u001b[30mA\u001b[39m\u001b[49m\u001b[47m\u001b[30mA\u001b[39m\u001b[49m\u001b[47m\u001b[30mA\u001b[39m\u001b[49m\u001b[47m\u001b[30mA\u001b[39m\u001b[49m\u001b[47m\u001b[30mT\u001b[39m\u001b[49m\u001b[47m\u001b[30mA\u001b[39m\u001b[49m\u001b[47m\u001b[30mA\u001b[39m\u001b[49m\u001b[47m\u001b[30mA\u001b[39m\u001b[49m\u001b[47m\u001b[30mA\u001b[39m\u001b[49m\u001b[47m\u001b[30mT\u001b[39m\u001b[49m\u001b[47m\u001b[30mT\u001b[39m\u001b[49m\u001b[47m\u001b[30mT\u001b[39m\u001b[49m\u001b[47m\u001b[30mT\u001b[39m\u001b[49m\u001b[47m\u001b[30mT\u001b[39m\u001b[49m\u001b[47m\u001b[30mT\u001b[39m\u001b[49m\u001b[47m\u001b[30mT\u001b[39m\u001b[49m\u001b[47m\u001b[30mT\u001b[39m\u001b[49m\u001b[47m\u001b[30mT\u001b[39m\u001b[49m\u001b[47m\u001b[30mT\u001b[39m\u001b[49m NW_003519494.1 Di...\n",
              "[6]  2224 \u001b[47m\u001b[30mA\u001b[39m\u001b[49m\u001b[47m\u001b[30mT\u001b[39m\u001b[49m\u001b[47m\u001b[30mG\u001b[39m\u001b[49m\u001b[47m\u001b[30mT\u001b[39m\u001b[49m\u001b[47m\u001b[30mT\u001b[39m\u001b[49m\u001b[47m\u001b[30mT\u001b[39m\u001b[49m\u001b[47m\u001b[30mA\u001b[39m\u001b[49m\u001b[47m\u001b[30mT\u001b[39m\u001b[49m\u001b[47m\u001b[30mC\u001b[39m\u001b[49m\u001b[47m\u001b[30mT\u001b[39m\u001b[49m\u001b[47m\u001b[30mT\u001b[39m\u001b[49m\u001b[47m\u001b[30mC\u001b[39m\u001b[49m\u001b[47m\u001b[30mT\u001b[39m\u001b[49m\u001b[47m\u001b[30mT\u001b[39m\u001b[49m\u001b[47m\u001b[30mT\u001b[39m\u001b[49m\u001b[47m\u001b[30mT\u001b[39m\u001b[49m\u001b[47m\u001b[30mT\u001b[39m\u001b[49m\u001b[47m\u001b[30mT\u001b[39m\u001b[49m\u001b[47m\u001b[30mA\u001b[39m\u001b[49m\u001b[47m\u001b[30mA\u001b[39m\u001b[49m\u001b[47m\u001b[30mT\u001b[39m\u001b[49m\u001b[47m\u001b[30mC\u001b[39m\u001b[49m\u001b[47m\u001b[30mA\u001b[39m\u001b[49m...\u001b[47m\u001b[30mT\u001b[39m\u001b[49m\u001b[47m\u001b[30mT\u001b[39m\u001b[49m\u001b[47m\u001b[30mT\u001b[39m\u001b[49m\u001b[47m\u001b[30mT\u001b[39m\u001b[49m\u001b[47m\u001b[30mA\u001b[39m\u001b[49m\u001b[47m\u001b[30mA\u001b[39m\u001b[49m\u001b[47m\u001b[30mT\u001b[39m\u001b[49m\u001b[47m\u001b[30mA\u001b[39m\u001b[49m\u001b[47m\u001b[30mG\u001b[39m\u001b[49m\u001b[47m\u001b[30mA\u001b[39m\u001b[49m\u001b[47m\u001b[30mG\u001b[39m\u001b[49m\u001b[47m\u001b[30mG\u001b[39m\u001b[49m\u001b[47m\u001b[30mA\u001b[39m\u001b[49m\u001b[47m\u001b[30mA\u001b[39m\u001b[49m\u001b[47m\u001b[30mA\u001b[39m\u001b[49m\u001b[47m\u001b[30mA\u001b[39m\u001b[49m\u001b[47m\u001b[30mT\u001b[39m\u001b[49m\u001b[47m\u001b[30mA\u001b[39m\u001b[49m\u001b[47m\u001b[30mA\u001b[39m\u001b[49m\u001b[47m\u001b[30mT\u001b[39m\u001b[49m\u001b[47m\u001b[30mT\u001b[39m\u001b[49m\u001b[47m\u001b[30mA\u001b[39m\u001b[49m\u001b[47m\u001b[30mT\u001b[39m\u001b[49m XM_003288976.1 Di..."
            ]
          },
          "metadata": {},
          "output_type": "display_data"
        }
      ],
      "source": [
        "file_name <- \"seqs_1.fasta\"\n",
        "writeLines(raw_seqs, file_name)\n",
        "seqs_1<-readDNAStringSet(file_name)\n",
        "head(seqs_1)"
      ]
    },
    {
      "cell_type": "markdown",
      "metadata": {
        "id": "rUl739k2J_pT"
      },
      "source": [
        "### Task 1.2: Sequence Preprocessing"
      ]
    },
    {
      "cell_type": "markdown",
      "metadata": {
        "id": "aZeaMqkoJ_pT"
      },
      "source": [
        "1. Identify sequences with gaps or ambiguous bases."
      ]
    },
    {
      "cell_type": "code",
      "execution_count": 6,
      "metadata": {
        "id": "UgaNhsZbWXCm",
        "vscode": {
          "languageId": "r"
        }
      },
      "outputs": [
        {
          "data": {
            "text/html": [
              "<table class=\"dataframe\">\n",
              "<caption>A matrix: 249 × 18 of type int</caption>\n",
              "<thead>\n",
              "\t<tr><th scope=col>A</th><th scope=col>C</th><th scope=col>G</th><th scope=col>T</th><th scope=col>M</th><th scope=col>R</th><th scope=col>W</th><th scope=col>S</th><th scope=col>Y</th><th scope=col>K</th><th scope=col>V</th><th scope=col>H</th><th scope=col>D</th><th scope=col>B</th><th scope=col>N</th><th scope=col>-</th><th scope=col>+</th><th scope=col>.</th></tr>\n",
              "</thead>\n",
              "<tbody>\n",
              "\t<tr><td>   8514</td><td>  2790</td><td>  2828</td><td>   8307</td><td>0</td><td>0</td><td>0</td><td>0</td><td>0</td><td>0</td><td>0</td><td>0</td><td>0</td><td>0</td><td>   0</td><td>0</td><td>0</td><td>0</td></tr>\n",
              "\t<tr><td>    706</td><td>   256</td><td>   287</td><td>    563</td><td>0</td><td>0</td><td>0</td><td>0</td><td>0</td><td>0</td><td>0</td><td>0</td><td>0</td><td>0</td><td>   0</td><td>0</td><td>0</td><td>0</td></tr>\n",
              "\t<tr><td>  18624</td><td>  5659</td><td>  5819</td><td>  18342</td><td>0</td><td>0</td><td>0</td><td>0</td><td>0</td><td>0</td><td>0</td><td>0</td><td>0</td><td>0</td><td> 288</td><td>0</td><td>0</td><td>0</td></tr>\n",
              "\t<tr><td>    463</td><td>   139</td><td>   179</td><td>    338</td><td>0</td><td>0</td><td>0</td><td>0</td><td>0</td><td>0</td><td>0</td><td>0</td><td>0</td><td>0</td><td>   0</td><td>0</td><td>0</td><td>0</td></tr>\n",
              "\t<tr><td>  25649</td><td>  8277</td><td>  8011</td><td>  24835</td><td>0</td><td>0</td><td>0</td><td>0</td><td>0</td><td>0</td><td>0</td><td>0</td><td>0</td><td>0</td><td>   0</td><td>0</td><td>0</td><td>0</td></tr>\n",
              "\t<tr><td>    711</td><td>   401</td><td>   386</td><td>    726</td><td>0</td><td>0</td><td>0</td><td>0</td><td>0</td><td>0</td><td>0</td><td>0</td><td>0</td><td>0</td><td>   0</td><td>0</td><td>0</td><td>0</td></tr>\n",
              "\t<tr><td>  29741</td><td> 10724</td><td> 10979</td><td>  31291</td><td>0</td><td>0</td><td>0</td><td>0</td><td>0</td><td>0</td><td>0</td><td>0</td><td>0</td><td>0</td><td>   0</td><td>0</td><td>0</td><td>0</td></tr>\n",
              "\t<tr><td>    596</td><td>   178</td><td>   202</td><td>    366</td><td>0</td><td>0</td><td>0</td><td>0</td><td>0</td><td>0</td><td>0</td><td>0</td><td>0</td><td>0</td><td>   0</td><td>0</td><td>0</td><td>0</td></tr>\n",
              "\t<tr><td>  31089</td><td> 10547</td><td>  9988</td><td>  31739</td><td>0</td><td>0</td><td>0</td><td>0</td><td>0</td><td>0</td><td>0</td><td>0</td><td>0</td><td>0</td><td>   0</td><td>0</td><td>0</td><td>0</td></tr>\n",
              "\t<tr><td>   1014</td><td>   407</td><td>   344</td><td>    735</td><td>0</td><td>0</td><td>0</td><td>0</td><td>0</td><td>0</td><td>0</td><td>0</td><td>0</td><td>0</td><td>   0</td><td>0</td><td>0</td><td>0</td></tr>\n",
              "\t<tr><td>  32988</td><td>  9532</td><td>  9942</td><td>  31608</td><td>0</td><td>0</td><td>0</td><td>0</td><td>0</td><td>0</td><td>0</td><td>0</td><td>0</td><td>0</td><td>1358</td><td>0</td><td>0</td><td>0</td></tr>\n",
              "\t<tr><td>    369</td><td>    67</td><td>    91</td><td>    235</td><td>0</td><td>0</td><td>0</td><td>0</td><td>0</td><td>0</td><td>0</td><td>0</td><td>0</td><td>0</td><td>   0</td><td>0</td><td>0</td><td>0</td></tr>\n",
              "\t<tr><td>  35094</td><td> 11093</td><td> 11796</td><td>  35747</td><td>0</td><td>0</td><td>0</td><td>0</td><td>0</td><td>0</td><td>0</td><td>0</td><td>0</td><td>0</td><td> 261</td><td>0</td><td>0</td><td>0</td></tr>\n",
              "\t<tr><td>    928</td><td>   337</td><td>   386</td><td>    786</td><td>0</td><td>0</td><td>0</td><td>0</td><td>0</td><td>0</td><td>0</td><td>0</td><td>0</td><td>0</td><td>   0</td><td>0</td><td>0</td><td>0</td></tr>\n",
              "\t<tr><td>  35992</td><td> 11756</td><td> 12277</td><td>  36319</td><td>0</td><td>0</td><td>0</td><td>0</td><td>0</td><td>0</td><td>0</td><td>0</td><td>0</td><td>0</td><td> 300</td><td>0</td><td>0</td><td>0</td></tr>\n",
              "\t<tr><td>    354</td><td>   206</td><td>   177</td><td>    405</td><td>0</td><td>0</td><td>0</td><td>0</td><td>0</td><td>0</td><td>0</td><td>0</td><td>0</td><td>0</td><td>   0</td><td>0</td><td>0</td><td>0</td></tr>\n",
              "\t<tr><td>  47195</td><td> 14905</td><td> 15625</td><td>  48841</td><td>0</td><td>0</td><td>0</td><td>0</td><td>0</td><td>0</td><td>0</td><td>0</td><td>0</td><td>0</td><td> 960</td><td>0</td><td>0</td><td>0</td></tr>\n",
              "\t<tr><td>    695</td><td>   286</td><td>   282</td><td>    537</td><td>0</td><td>0</td><td>0</td><td>0</td><td>0</td><td>0</td><td>0</td><td>0</td><td>0</td><td>0</td><td>   0</td><td>0</td><td>0</td><td>0</td></tr>\n",
              "\t<tr><td>  50030</td><td> 16913</td><td> 15660</td><td>  49085</td><td>0</td><td>0</td><td>0</td><td>0</td><td>0</td><td>0</td><td>0</td><td>0</td><td>0</td><td>0</td><td> 219</td><td>0</td><td>0</td><td>0</td></tr>\n",
              "\t<tr><td>    442</td><td>   116</td><td>   197</td><td>    256</td><td>0</td><td>0</td><td>0</td><td>0</td><td>0</td><td>0</td><td>0</td><td>0</td><td>0</td><td>0</td><td>   0</td><td>0</td><td>0</td><td>0</td></tr>\n",
              "\t<tr><td>    375</td><td>   505</td><td>   498</td><td>    379</td><td>0</td><td>0</td><td>0</td><td>0</td><td>0</td><td>0</td><td>0</td><td>0</td><td>0</td><td>0</td><td>   0</td><td>0</td><td>0</td><td>0</td></tr>\n",
              "\t<tr><td>    307</td><td>   252</td><td>   285</td><td>    359</td><td>0</td><td>0</td><td>0</td><td>0</td><td>0</td><td>0</td><td>0</td><td>0</td><td>0</td><td>0</td><td>   0</td><td>0</td><td>0</td><td>0</td></tr>\n",
              "\t<tr><td>    176</td><td>   166</td><td>   123</td><td>    123</td><td>0</td><td>0</td><td>0</td><td>0</td><td>0</td><td>0</td><td>0</td><td>0</td><td>0</td><td>0</td><td>   0</td><td>0</td><td>0</td><td>0</td></tr>\n",
              "\t<tr><td>    159</td><td>   157</td><td>   104</td><td>    118</td><td>0</td><td>0</td><td>0</td><td>0</td><td>0</td><td>0</td><td>0</td><td>0</td><td>0</td><td>0</td><td>   0</td><td>0</td><td>0</td><td>0</td></tr>\n",
              "\t<tr><td>    210</td><td>   203</td><td>   145</td><td>    147</td><td>0</td><td>0</td><td>0</td><td>0</td><td>0</td><td>0</td><td>0</td><td>0</td><td>0</td><td>0</td><td>   0</td><td>0</td><td>0</td><td>0</td></tr>\n",
              "\t<tr><td>    133</td><td>   136</td><td>   101</td><td>    102</td><td>0</td><td>0</td><td>0</td><td>0</td><td>0</td><td>0</td><td>0</td><td>0</td><td>0</td><td>0</td><td>   0</td><td>0</td><td>0</td><td>0</td></tr>\n",
              "\t<tr><td>    116</td><td>   127</td><td>    82</td><td>     97</td><td>0</td><td>0</td><td>0</td><td>0</td><td>0</td><td>0</td><td>0</td><td>0</td><td>0</td><td>0</td><td>   0</td><td>0</td><td>0</td><td>0</td></tr>\n",
              "\t<tr><td>    213</td><td>   209</td><td>   153</td><td>    160</td><td>0</td><td>0</td><td>0</td><td>0</td><td>0</td><td>0</td><td>0</td><td>0</td><td>0</td><td>0</td><td>   0</td><td>0</td><td>0</td><td>0</td></tr>\n",
              "\t<tr><td>    193</td><td>   194</td><td>   126</td><td>    142</td><td>0</td><td>0</td><td>0</td><td>0</td><td>0</td><td>0</td><td>0</td><td>0</td><td>0</td><td>0</td><td>   0</td><td>0</td><td>0</td><td>0</td></tr>\n",
              "\t<tr><td>1359219</td><td>860540</td><td>861608</td><td>1351851</td><td>0</td><td>0</td><td>0</td><td>0</td><td>0</td><td>0</td><td>0</td><td>0</td><td>0</td><td>0</td><td>   0</td><td>0</td><td>0</td><td>0</td></tr>\n",
              "\t<tr><td>⋮</td><td>⋮</td><td>⋮</td><td>⋮</td><td>⋮</td><td>⋮</td><td>⋮</td><td>⋮</td><td>⋮</td><td>⋮</td><td>⋮</td><td>⋮</td><td>⋮</td><td>⋮</td><td>⋮</td><td>⋮</td><td>⋮</td><td>⋮</td></tr>\n",
              "\t<tr><td> 98</td><td> 101</td><td> 41</td><td>126</td><td>0</td><td>0</td><td>0</td><td>0</td><td>0</td><td>0</td><td>0</td><td>0</td><td>0</td><td>0</td><td>0</td><td>0</td><td>0</td><td>0</td></tr>\n",
              "\t<tr><td>433</td><td> 545</td><td>446</td><td>310</td><td>0</td><td>0</td><td>0</td><td>0</td><td>0</td><td>0</td><td>0</td><td>0</td><td>0</td><td>0</td><td>0</td><td>0</td><td>0</td><td>0</td></tr>\n",
              "\t<tr><td>730</td><td> 684</td><td>689</td><td>741</td><td>0</td><td>0</td><td>0</td><td>0</td><td>0</td><td>0</td><td>0</td><td>0</td><td>0</td><td>0</td><td>0</td><td>0</td><td>0</td><td>0</td></tr>\n",
              "\t<tr><td>568</td><td> 608</td><td>562</td><td>500</td><td>0</td><td>0</td><td>0</td><td>0</td><td>0</td><td>0</td><td>0</td><td>0</td><td>0</td><td>0</td><td>0</td><td>0</td><td>0</td><td>0</td></tr>\n",
              "\t<tr><td>399</td><td> 437</td><td>404</td><td>410</td><td>0</td><td>0</td><td>0</td><td>0</td><td>0</td><td>0</td><td>0</td><td>0</td><td>0</td><td>0</td><td>0</td><td>0</td><td>0</td><td>0</td></tr>\n",
              "\t<tr><td>358</td><td> 543</td><td>321</td><td>362</td><td>0</td><td>0</td><td>0</td><td>0</td><td>0</td><td>0</td><td>0</td><td>0</td><td>0</td><td>0</td><td>0</td><td>0</td><td>0</td><td>0</td></tr>\n",
              "\t<tr><td>693</td><td>1275</td><td>881</td><td>925</td><td>0</td><td>0</td><td>0</td><td>0</td><td>0</td><td>0</td><td>0</td><td>0</td><td>0</td><td>0</td><td>0</td><td>0</td><td>0</td><td>0</td></tr>\n",
              "\t<tr><td>226</td><td> 301</td><td>294</td><td>244</td><td>0</td><td>0</td><td>0</td><td>0</td><td>0</td><td>0</td><td>0</td><td>0</td><td>0</td><td>0</td><td>0</td><td>0</td><td>0</td><td>0</td></tr>\n",
              "\t<tr><td>375</td><td> 561</td><td>451</td><td>344</td><td>0</td><td>0</td><td>0</td><td>0</td><td>0</td><td>0</td><td>0</td><td>0</td><td>0</td><td>0</td><td>0</td><td>0</td><td>0</td><td>0</td></tr>\n",
              "\t<tr><td>309</td><td> 517</td><td>368</td><td>294</td><td>0</td><td>0</td><td>0</td><td>0</td><td>0</td><td>0</td><td>0</td><td>0</td><td>0</td><td>0</td><td>0</td><td>0</td><td>0</td><td>0</td></tr>\n",
              "\t<tr><td>328</td><td> 365</td><td>340</td><td>308</td><td>0</td><td>0</td><td>0</td><td>0</td><td>0</td><td>0</td><td>0</td><td>0</td><td>0</td><td>0</td><td>0</td><td>0</td><td>0</td><td>0</td></tr>\n",
              "\t<tr><td>487</td><td> 625</td><td>510</td><td>475</td><td>0</td><td>0</td><td>0</td><td>0</td><td>0</td><td>0</td><td>0</td><td>0</td><td>0</td><td>0</td><td>0</td><td>0</td><td>0</td><td>0</td></tr>\n",
              "\t<tr><td>446</td><td> 410</td><td>383</td><td>363</td><td>0</td><td>0</td><td>0</td><td>0</td><td>0</td><td>0</td><td>0</td><td>0</td><td>0</td><td>0</td><td>0</td><td>0</td><td>0</td><td>0</td></tr>\n",
              "\t<tr><td>365</td><td> 468</td><td>382</td><td>276</td><td>0</td><td>0</td><td>0</td><td>0</td><td>0</td><td>0</td><td>0</td><td>0</td><td>0</td><td>0</td><td>0</td><td>0</td><td>0</td><td>0</td></tr>\n",
              "\t<tr><td>543</td><td> 749</td><td>669</td><td>499</td><td>0</td><td>0</td><td>0</td><td>0</td><td>0</td><td>0</td><td>0</td><td>0</td><td>0</td><td>0</td><td>0</td><td>0</td><td>0</td><td>0</td></tr>\n",
              "\t<tr><td>126</td><td> 266</td><td>170</td><td>131</td><td>0</td><td>0</td><td>0</td><td>0</td><td>0</td><td>0</td><td>0</td><td>0</td><td>0</td><td>0</td><td>0</td><td>0</td><td>0</td><td>0</td></tr>\n",
              "\t<tr><td>434</td><td> 416</td><td>399</td><td>317</td><td>0</td><td>0</td><td>0</td><td>0</td><td>0</td><td>0</td><td>0</td><td>0</td><td>0</td><td>0</td><td>0</td><td>0</td><td>0</td><td>0</td></tr>\n",
              "\t<tr><td>215</td><td> 281</td><td>215</td><td>168</td><td>0</td><td>0</td><td>0</td><td>0</td><td>0</td><td>0</td><td>0</td><td>0</td><td>0</td><td>0</td><td>0</td><td>0</td><td>0</td><td>0</td></tr>\n",
              "\t<tr><td>349</td><td> 359</td><td>438</td><td>414</td><td>0</td><td>0</td><td>0</td><td>0</td><td>0</td><td>0</td><td>0</td><td>0</td><td>0</td><td>0</td><td>0</td><td>0</td><td>0</td><td>0</td></tr>\n",
              "\t<tr><td>783</td><td> 936</td><td>819</td><td>709</td><td>0</td><td>0</td><td>0</td><td>0</td><td>0</td><td>0</td><td>0</td><td>0</td><td>0</td><td>0</td><td>2</td><td>0</td><td>0</td><td>0</td></tr>\n",
              "\t<tr><td>215</td><td> 395</td><td>329</td><td>228</td><td>0</td><td>0</td><td>0</td><td>0</td><td>0</td><td>0</td><td>0</td><td>0</td><td>0</td><td>0</td><td>0</td><td>0</td><td>0</td><td>0</td></tr>\n",
              "\t<tr><td>390</td><td> 383</td><td>345</td><td>349</td><td>0</td><td>0</td><td>0</td><td>0</td><td>0</td><td>0</td><td>0</td><td>0</td><td>0</td><td>0</td><td>0</td><td>0</td><td>0</td><td>0</td></tr>\n",
              "\t<tr><td>105</td><td> 113</td><td>152</td><td> 83</td><td>0</td><td>0</td><td>0</td><td>0</td><td>0</td><td>0</td><td>0</td><td>0</td><td>0</td><td>0</td><td>0</td><td>0</td><td>0</td><td>0</td></tr>\n",
              "\t<tr><td>604</td><td> 676</td><td>628</td><td>534</td><td>0</td><td>0</td><td>0</td><td>0</td><td>0</td><td>0</td><td>0</td><td>0</td><td>0</td><td>0</td><td>0</td><td>0</td><td>0</td><td>0</td></tr>\n",
              "\t<tr><td>176</td><td> 138</td><td>146</td><td> 92</td><td>0</td><td>0</td><td>0</td><td>0</td><td>0</td><td>0</td><td>0</td><td>0</td><td>0</td><td>0</td><td>0</td><td>0</td><td>0</td><td>0</td></tr>\n",
              "\t<tr><td> 91</td><td>  82</td><td>136</td><td>120</td><td>0</td><td>0</td><td>0</td><td>0</td><td>0</td><td>0</td><td>0</td><td>0</td><td>0</td><td>0</td><td>0</td><td>0</td><td>0</td><td>0</td></tr>\n",
              "\t<tr><td>314</td><td> 451</td><td>304</td><td>320</td><td>0</td><td>0</td><td>0</td><td>0</td><td>0</td><td>0</td><td>0</td><td>0</td><td>0</td><td>0</td><td>0</td><td>0</td><td>0</td><td>0</td></tr>\n",
              "\t<tr><td>250</td><td> 389</td><td>322</td><td>221</td><td>0</td><td>0</td><td>0</td><td>0</td><td>0</td><td>0</td><td>0</td><td>0</td><td>0</td><td>0</td><td>0</td><td>0</td><td>0</td><td>0</td></tr>\n",
              "\t<tr><td>244</td><td> 358</td><td>280</td><td>207</td><td>0</td><td>0</td><td>0</td><td>0</td><td>0</td><td>0</td><td>0</td><td>0</td><td>0</td><td>0</td><td>0</td><td>0</td><td>0</td><td>0</td></tr>\n",
              "\t<tr><td>253</td><td> 317</td><td>338</td><td>229</td><td>0</td><td>0</td><td>0</td><td>0</td><td>0</td><td>0</td><td>0</td><td>0</td><td>0</td><td>0</td><td>0</td><td>0</td><td>0</td><td>0</td></tr>\n",
              "</tbody>\n",
              "</table>\n"
            ],
            "text/latex": [
              "A matrix: 249 × 18 of type int\n",
              "\\begin{tabular}{llllllllllllllllll}\n",
              " A & C & G & T & M & R & W & S & Y & K & V & H & D & B & N & - & + & .\\\\\n",
              "\\hline\n",
              "\t    8514 &   2790 &   2828 &    8307 & 0 & 0 & 0 & 0 & 0 & 0 & 0 & 0 & 0 & 0 &    0 & 0 & 0 & 0\\\\\n",
              "\t     706 &    256 &    287 &     563 & 0 & 0 & 0 & 0 & 0 & 0 & 0 & 0 & 0 & 0 &    0 & 0 & 0 & 0\\\\\n",
              "\t   18624 &   5659 &   5819 &   18342 & 0 & 0 & 0 & 0 & 0 & 0 & 0 & 0 & 0 & 0 &  288 & 0 & 0 & 0\\\\\n",
              "\t     463 &    139 &    179 &     338 & 0 & 0 & 0 & 0 & 0 & 0 & 0 & 0 & 0 & 0 &    0 & 0 & 0 & 0\\\\\n",
              "\t   25649 &   8277 &   8011 &   24835 & 0 & 0 & 0 & 0 & 0 & 0 & 0 & 0 & 0 & 0 &    0 & 0 & 0 & 0\\\\\n",
              "\t     711 &    401 &    386 &     726 & 0 & 0 & 0 & 0 & 0 & 0 & 0 & 0 & 0 & 0 &    0 & 0 & 0 & 0\\\\\n",
              "\t   29741 &  10724 &  10979 &   31291 & 0 & 0 & 0 & 0 & 0 & 0 & 0 & 0 & 0 & 0 &    0 & 0 & 0 & 0\\\\\n",
              "\t     596 &    178 &    202 &     366 & 0 & 0 & 0 & 0 & 0 & 0 & 0 & 0 & 0 & 0 &    0 & 0 & 0 & 0\\\\\n",
              "\t   31089 &  10547 &   9988 &   31739 & 0 & 0 & 0 & 0 & 0 & 0 & 0 & 0 & 0 & 0 &    0 & 0 & 0 & 0\\\\\n",
              "\t    1014 &    407 &    344 &     735 & 0 & 0 & 0 & 0 & 0 & 0 & 0 & 0 & 0 & 0 &    0 & 0 & 0 & 0\\\\\n",
              "\t   32988 &   9532 &   9942 &   31608 & 0 & 0 & 0 & 0 & 0 & 0 & 0 & 0 & 0 & 0 & 1358 & 0 & 0 & 0\\\\\n",
              "\t     369 &     67 &     91 &     235 & 0 & 0 & 0 & 0 & 0 & 0 & 0 & 0 & 0 & 0 &    0 & 0 & 0 & 0\\\\\n",
              "\t   35094 &  11093 &  11796 &   35747 & 0 & 0 & 0 & 0 & 0 & 0 & 0 & 0 & 0 & 0 &  261 & 0 & 0 & 0\\\\\n",
              "\t     928 &    337 &    386 &     786 & 0 & 0 & 0 & 0 & 0 & 0 & 0 & 0 & 0 & 0 &    0 & 0 & 0 & 0\\\\\n",
              "\t   35992 &  11756 &  12277 &   36319 & 0 & 0 & 0 & 0 & 0 & 0 & 0 & 0 & 0 & 0 &  300 & 0 & 0 & 0\\\\\n",
              "\t     354 &    206 &    177 &     405 & 0 & 0 & 0 & 0 & 0 & 0 & 0 & 0 & 0 & 0 &    0 & 0 & 0 & 0\\\\\n",
              "\t   47195 &  14905 &  15625 &   48841 & 0 & 0 & 0 & 0 & 0 & 0 & 0 & 0 & 0 & 0 &  960 & 0 & 0 & 0\\\\\n",
              "\t     695 &    286 &    282 &     537 & 0 & 0 & 0 & 0 & 0 & 0 & 0 & 0 & 0 & 0 &    0 & 0 & 0 & 0\\\\\n",
              "\t   50030 &  16913 &  15660 &   49085 & 0 & 0 & 0 & 0 & 0 & 0 & 0 & 0 & 0 & 0 &  219 & 0 & 0 & 0\\\\\n",
              "\t     442 &    116 &    197 &     256 & 0 & 0 & 0 & 0 & 0 & 0 & 0 & 0 & 0 & 0 &    0 & 0 & 0 & 0\\\\\n",
              "\t     375 &    505 &    498 &     379 & 0 & 0 & 0 & 0 & 0 & 0 & 0 & 0 & 0 & 0 &    0 & 0 & 0 & 0\\\\\n",
              "\t     307 &    252 &    285 &     359 & 0 & 0 & 0 & 0 & 0 & 0 & 0 & 0 & 0 & 0 &    0 & 0 & 0 & 0\\\\\n",
              "\t     176 &    166 &    123 &     123 & 0 & 0 & 0 & 0 & 0 & 0 & 0 & 0 & 0 & 0 &    0 & 0 & 0 & 0\\\\\n",
              "\t     159 &    157 &    104 &     118 & 0 & 0 & 0 & 0 & 0 & 0 & 0 & 0 & 0 & 0 &    0 & 0 & 0 & 0\\\\\n",
              "\t     210 &    203 &    145 &     147 & 0 & 0 & 0 & 0 & 0 & 0 & 0 & 0 & 0 & 0 &    0 & 0 & 0 & 0\\\\\n",
              "\t     133 &    136 &    101 &     102 & 0 & 0 & 0 & 0 & 0 & 0 & 0 & 0 & 0 & 0 &    0 & 0 & 0 & 0\\\\\n",
              "\t     116 &    127 &     82 &      97 & 0 & 0 & 0 & 0 & 0 & 0 & 0 & 0 & 0 & 0 &    0 & 0 & 0 & 0\\\\\n",
              "\t     213 &    209 &    153 &     160 & 0 & 0 & 0 & 0 & 0 & 0 & 0 & 0 & 0 & 0 &    0 & 0 & 0 & 0\\\\\n",
              "\t     193 &    194 &    126 &     142 & 0 & 0 & 0 & 0 & 0 & 0 & 0 & 0 & 0 & 0 &    0 & 0 & 0 & 0\\\\\n",
              "\t 1359219 & 860540 & 861608 & 1351851 & 0 & 0 & 0 & 0 & 0 & 0 & 0 & 0 & 0 & 0 &    0 & 0 & 0 & 0\\\\\n",
              "\t ⋮ & ⋮ & ⋮ & ⋮ & ⋮ & ⋮ & ⋮ & ⋮ & ⋮ & ⋮ & ⋮ & ⋮ & ⋮ & ⋮ & ⋮ & ⋮ & ⋮ & ⋮\\\\\n",
              "\t  98 &  101 &  41 & 126 & 0 & 0 & 0 & 0 & 0 & 0 & 0 & 0 & 0 & 0 & 0 & 0 & 0 & 0\\\\\n",
              "\t 433 &  545 & 446 & 310 & 0 & 0 & 0 & 0 & 0 & 0 & 0 & 0 & 0 & 0 & 0 & 0 & 0 & 0\\\\\n",
              "\t 730 &  684 & 689 & 741 & 0 & 0 & 0 & 0 & 0 & 0 & 0 & 0 & 0 & 0 & 0 & 0 & 0 & 0\\\\\n",
              "\t 568 &  608 & 562 & 500 & 0 & 0 & 0 & 0 & 0 & 0 & 0 & 0 & 0 & 0 & 0 & 0 & 0 & 0\\\\\n",
              "\t 399 &  437 & 404 & 410 & 0 & 0 & 0 & 0 & 0 & 0 & 0 & 0 & 0 & 0 & 0 & 0 & 0 & 0\\\\\n",
              "\t 358 &  543 & 321 & 362 & 0 & 0 & 0 & 0 & 0 & 0 & 0 & 0 & 0 & 0 & 0 & 0 & 0 & 0\\\\\n",
              "\t 693 & 1275 & 881 & 925 & 0 & 0 & 0 & 0 & 0 & 0 & 0 & 0 & 0 & 0 & 0 & 0 & 0 & 0\\\\\n",
              "\t 226 &  301 & 294 & 244 & 0 & 0 & 0 & 0 & 0 & 0 & 0 & 0 & 0 & 0 & 0 & 0 & 0 & 0\\\\\n",
              "\t 375 &  561 & 451 & 344 & 0 & 0 & 0 & 0 & 0 & 0 & 0 & 0 & 0 & 0 & 0 & 0 & 0 & 0\\\\\n",
              "\t 309 &  517 & 368 & 294 & 0 & 0 & 0 & 0 & 0 & 0 & 0 & 0 & 0 & 0 & 0 & 0 & 0 & 0\\\\\n",
              "\t 328 &  365 & 340 & 308 & 0 & 0 & 0 & 0 & 0 & 0 & 0 & 0 & 0 & 0 & 0 & 0 & 0 & 0\\\\\n",
              "\t 487 &  625 & 510 & 475 & 0 & 0 & 0 & 0 & 0 & 0 & 0 & 0 & 0 & 0 & 0 & 0 & 0 & 0\\\\\n",
              "\t 446 &  410 & 383 & 363 & 0 & 0 & 0 & 0 & 0 & 0 & 0 & 0 & 0 & 0 & 0 & 0 & 0 & 0\\\\\n",
              "\t 365 &  468 & 382 & 276 & 0 & 0 & 0 & 0 & 0 & 0 & 0 & 0 & 0 & 0 & 0 & 0 & 0 & 0\\\\\n",
              "\t 543 &  749 & 669 & 499 & 0 & 0 & 0 & 0 & 0 & 0 & 0 & 0 & 0 & 0 & 0 & 0 & 0 & 0\\\\\n",
              "\t 126 &  266 & 170 & 131 & 0 & 0 & 0 & 0 & 0 & 0 & 0 & 0 & 0 & 0 & 0 & 0 & 0 & 0\\\\\n",
              "\t 434 &  416 & 399 & 317 & 0 & 0 & 0 & 0 & 0 & 0 & 0 & 0 & 0 & 0 & 0 & 0 & 0 & 0\\\\\n",
              "\t 215 &  281 & 215 & 168 & 0 & 0 & 0 & 0 & 0 & 0 & 0 & 0 & 0 & 0 & 0 & 0 & 0 & 0\\\\\n",
              "\t 349 &  359 & 438 & 414 & 0 & 0 & 0 & 0 & 0 & 0 & 0 & 0 & 0 & 0 & 0 & 0 & 0 & 0\\\\\n",
              "\t 783 &  936 & 819 & 709 & 0 & 0 & 0 & 0 & 0 & 0 & 0 & 0 & 0 & 0 & 2 & 0 & 0 & 0\\\\\n",
              "\t 215 &  395 & 329 & 228 & 0 & 0 & 0 & 0 & 0 & 0 & 0 & 0 & 0 & 0 & 0 & 0 & 0 & 0\\\\\n",
              "\t 390 &  383 & 345 & 349 & 0 & 0 & 0 & 0 & 0 & 0 & 0 & 0 & 0 & 0 & 0 & 0 & 0 & 0\\\\\n",
              "\t 105 &  113 & 152 &  83 & 0 & 0 & 0 & 0 & 0 & 0 & 0 & 0 & 0 & 0 & 0 & 0 & 0 & 0\\\\\n",
              "\t 604 &  676 & 628 & 534 & 0 & 0 & 0 & 0 & 0 & 0 & 0 & 0 & 0 & 0 & 0 & 0 & 0 & 0\\\\\n",
              "\t 176 &  138 & 146 &  92 & 0 & 0 & 0 & 0 & 0 & 0 & 0 & 0 & 0 & 0 & 0 & 0 & 0 & 0\\\\\n",
              "\t  91 &   82 & 136 & 120 & 0 & 0 & 0 & 0 & 0 & 0 & 0 & 0 & 0 & 0 & 0 & 0 & 0 & 0\\\\\n",
              "\t 314 &  451 & 304 & 320 & 0 & 0 & 0 & 0 & 0 & 0 & 0 & 0 & 0 & 0 & 0 & 0 & 0 & 0\\\\\n",
              "\t 250 &  389 & 322 & 221 & 0 & 0 & 0 & 0 & 0 & 0 & 0 & 0 & 0 & 0 & 0 & 0 & 0 & 0\\\\\n",
              "\t 244 &  358 & 280 & 207 & 0 & 0 & 0 & 0 & 0 & 0 & 0 & 0 & 0 & 0 & 0 & 0 & 0 & 0\\\\\n",
              "\t 253 &  317 & 338 & 229 & 0 & 0 & 0 & 0 & 0 & 0 & 0 & 0 & 0 & 0 & 0 & 0 & 0 & 0\\\\\n",
              "\\end{tabular}\n"
            ],
            "text/markdown": [
              "\n",
              "A matrix: 249 × 18 of type int\n",
              "\n",
              "| A | C | G | T | M | R | W | S | Y | K | V | H | D | B | N | - | + | . |\n",
              "|---|---|---|---|---|---|---|---|---|---|---|---|---|---|---|---|---|---|\n",
              "|    8514 |   2790 |   2828 |    8307 | 0 | 0 | 0 | 0 | 0 | 0 | 0 | 0 | 0 | 0 |    0 | 0 | 0 | 0 |\n",
              "|     706 |    256 |    287 |     563 | 0 | 0 | 0 | 0 | 0 | 0 | 0 | 0 | 0 | 0 |    0 | 0 | 0 | 0 |\n",
              "|   18624 |   5659 |   5819 |   18342 | 0 | 0 | 0 | 0 | 0 | 0 | 0 | 0 | 0 | 0 |  288 | 0 | 0 | 0 |\n",
              "|     463 |    139 |    179 |     338 | 0 | 0 | 0 | 0 | 0 | 0 | 0 | 0 | 0 | 0 |    0 | 0 | 0 | 0 |\n",
              "|   25649 |   8277 |   8011 |   24835 | 0 | 0 | 0 | 0 | 0 | 0 | 0 | 0 | 0 | 0 |    0 | 0 | 0 | 0 |\n",
              "|     711 |    401 |    386 |     726 | 0 | 0 | 0 | 0 | 0 | 0 | 0 | 0 | 0 | 0 |    0 | 0 | 0 | 0 |\n",
              "|   29741 |  10724 |  10979 |   31291 | 0 | 0 | 0 | 0 | 0 | 0 | 0 | 0 | 0 | 0 |    0 | 0 | 0 | 0 |\n",
              "|     596 |    178 |    202 |     366 | 0 | 0 | 0 | 0 | 0 | 0 | 0 | 0 | 0 | 0 |    0 | 0 | 0 | 0 |\n",
              "|   31089 |  10547 |   9988 |   31739 | 0 | 0 | 0 | 0 | 0 | 0 | 0 | 0 | 0 | 0 |    0 | 0 | 0 | 0 |\n",
              "|    1014 |    407 |    344 |     735 | 0 | 0 | 0 | 0 | 0 | 0 | 0 | 0 | 0 | 0 |    0 | 0 | 0 | 0 |\n",
              "|   32988 |   9532 |   9942 |   31608 | 0 | 0 | 0 | 0 | 0 | 0 | 0 | 0 | 0 | 0 | 1358 | 0 | 0 | 0 |\n",
              "|     369 |     67 |     91 |     235 | 0 | 0 | 0 | 0 | 0 | 0 | 0 | 0 | 0 | 0 |    0 | 0 | 0 | 0 |\n",
              "|   35094 |  11093 |  11796 |   35747 | 0 | 0 | 0 | 0 | 0 | 0 | 0 | 0 | 0 | 0 |  261 | 0 | 0 | 0 |\n",
              "|     928 |    337 |    386 |     786 | 0 | 0 | 0 | 0 | 0 | 0 | 0 | 0 | 0 | 0 |    0 | 0 | 0 | 0 |\n",
              "|   35992 |  11756 |  12277 |   36319 | 0 | 0 | 0 | 0 | 0 | 0 | 0 | 0 | 0 | 0 |  300 | 0 | 0 | 0 |\n",
              "|     354 |    206 |    177 |     405 | 0 | 0 | 0 | 0 | 0 | 0 | 0 | 0 | 0 | 0 |    0 | 0 | 0 | 0 |\n",
              "|   47195 |  14905 |  15625 |   48841 | 0 | 0 | 0 | 0 | 0 | 0 | 0 | 0 | 0 | 0 |  960 | 0 | 0 | 0 |\n",
              "|     695 |    286 |    282 |     537 | 0 | 0 | 0 | 0 | 0 | 0 | 0 | 0 | 0 | 0 |    0 | 0 | 0 | 0 |\n",
              "|   50030 |  16913 |  15660 |   49085 | 0 | 0 | 0 | 0 | 0 | 0 | 0 | 0 | 0 | 0 |  219 | 0 | 0 | 0 |\n",
              "|     442 |    116 |    197 |     256 | 0 | 0 | 0 | 0 | 0 | 0 | 0 | 0 | 0 | 0 |    0 | 0 | 0 | 0 |\n",
              "|     375 |    505 |    498 |     379 | 0 | 0 | 0 | 0 | 0 | 0 | 0 | 0 | 0 | 0 |    0 | 0 | 0 | 0 |\n",
              "|     307 |    252 |    285 |     359 | 0 | 0 | 0 | 0 | 0 | 0 | 0 | 0 | 0 | 0 |    0 | 0 | 0 | 0 |\n",
              "|     176 |    166 |    123 |     123 | 0 | 0 | 0 | 0 | 0 | 0 | 0 | 0 | 0 | 0 |    0 | 0 | 0 | 0 |\n",
              "|     159 |    157 |    104 |     118 | 0 | 0 | 0 | 0 | 0 | 0 | 0 | 0 | 0 | 0 |    0 | 0 | 0 | 0 |\n",
              "|     210 |    203 |    145 |     147 | 0 | 0 | 0 | 0 | 0 | 0 | 0 | 0 | 0 | 0 |    0 | 0 | 0 | 0 |\n",
              "|     133 |    136 |    101 |     102 | 0 | 0 | 0 | 0 | 0 | 0 | 0 | 0 | 0 | 0 |    0 | 0 | 0 | 0 |\n",
              "|     116 |    127 |     82 |      97 | 0 | 0 | 0 | 0 | 0 | 0 | 0 | 0 | 0 | 0 |    0 | 0 | 0 | 0 |\n",
              "|     213 |    209 |    153 |     160 | 0 | 0 | 0 | 0 | 0 | 0 | 0 | 0 | 0 | 0 |    0 | 0 | 0 | 0 |\n",
              "|     193 |    194 |    126 |     142 | 0 | 0 | 0 | 0 | 0 | 0 | 0 | 0 | 0 | 0 |    0 | 0 | 0 | 0 |\n",
              "| 1359219 | 860540 | 861608 | 1351851 | 0 | 0 | 0 | 0 | 0 | 0 | 0 | 0 | 0 | 0 |    0 | 0 | 0 | 0 |\n",
              "| ⋮ | ⋮ | ⋮ | ⋮ | ⋮ | ⋮ | ⋮ | ⋮ | ⋮ | ⋮ | ⋮ | ⋮ | ⋮ | ⋮ | ⋮ | ⋮ | ⋮ | ⋮ |\n",
              "|  98 |  101 |  41 | 126 | 0 | 0 | 0 | 0 | 0 | 0 | 0 | 0 | 0 | 0 | 0 | 0 | 0 | 0 |\n",
              "| 433 |  545 | 446 | 310 | 0 | 0 | 0 | 0 | 0 | 0 | 0 | 0 | 0 | 0 | 0 | 0 | 0 | 0 |\n",
              "| 730 |  684 | 689 | 741 | 0 | 0 | 0 | 0 | 0 | 0 | 0 | 0 | 0 | 0 | 0 | 0 | 0 | 0 |\n",
              "| 568 |  608 | 562 | 500 | 0 | 0 | 0 | 0 | 0 | 0 | 0 | 0 | 0 | 0 | 0 | 0 | 0 | 0 |\n",
              "| 399 |  437 | 404 | 410 | 0 | 0 | 0 | 0 | 0 | 0 | 0 | 0 | 0 | 0 | 0 | 0 | 0 | 0 |\n",
              "| 358 |  543 | 321 | 362 | 0 | 0 | 0 | 0 | 0 | 0 | 0 | 0 | 0 | 0 | 0 | 0 | 0 | 0 |\n",
              "| 693 | 1275 | 881 | 925 | 0 | 0 | 0 | 0 | 0 | 0 | 0 | 0 | 0 | 0 | 0 | 0 | 0 | 0 |\n",
              "| 226 |  301 | 294 | 244 | 0 | 0 | 0 | 0 | 0 | 0 | 0 | 0 | 0 | 0 | 0 | 0 | 0 | 0 |\n",
              "| 375 |  561 | 451 | 344 | 0 | 0 | 0 | 0 | 0 | 0 | 0 | 0 | 0 | 0 | 0 | 0 | 0 | 0 |\n",
              "| 309 |  517 | 368 | 294 | 0 | 0 | 0 | 0 | 0 | 0 | 0 | 0 | 0 | 0 | 0 | 0 | 0 | 0 |\n",
              "| 328 |  365 | 340 | 308 | 0 | 0 | 0 | 0 | 0 | 0 | 0 | 0 | 0 | 0 | 0 | 0 | 0 | 0 |\n",
              "| 487 |  625 | 510 | 475 | 0 | 0 | 0 | 0 | 0 | 0 | 0 | 0 | 0 | 0 | 0 | 0 | 0 | 0 |\n",
              "| 446 |  410 | 383 | 363 | 0 | 0 | 0 | 0 | 0 | 0 | 0 | 0 | 0 | 0 | 0 | 0 | 0 | 0 |\n",
              "| 365 |  468 | 382 | 276 | 0 | 0 | 0 | 0 | 0 | 0 | 0 | 0 | 0 | 0 | 0 | 0 | 0 | 0 |\n",
              "| 543 |  749 | 669 | 499 | 0 | 0 | 0 | 0 | 0 | 0 | 0 | 0 | 0 | 0 | 0 | 0 | 0 | 0 |\n",
              "| 126 |  266 | 170 | 131 | 0 | 0 | 0 | 0 | 0 | 0 | 0 | 0 | 0 | 0 | 0 | 0 | 0 | 0 |\n",
              "| 434 |  416 | 399 | 317 | 0 | 0 | 0 | 0 | 0 | 0 | 0 | 0 | 0 | 0 | 0 | 0 | 0 | 0 |\n",
              "| 215 |  281 | 215 | 168 | 0 | 0 | 0 | 0 | 0 | 0 | 0 | 0 | 0 | 0 | 0 | 0 | 0 | 0 |\n",
              "| 349 |  359 | 438 | 414 | 0 | 0 | 0 | 0 | 0 | 0 | 0 | 0 | 0 | 0 | 0 | 0 | 0 | 0 |\n",
              "| 783 |  936 | 819 | 709 | 0 | 0 | 0 | 0 | 0 | 0 | 0 | 0 | 0 | 0 | 2 | 0 | 0 | 0 |\n",
              "| 215 |  395 | 329 | 228 | 0 | 0 | 0 | 0 | 0 | 0 | 0 | 0 | 0 | 0 | 0 | 0 | 0 | 0 |\n",
              "| 390 |  383 | 345 | 349 | 0 | 0 | 0 | 0 | 0 | 0 | 0 | 0 | 0 | 0 | 0 | 0 | 0 | 0 |\n",
              "| 105 |  113 | 152 |  83 | 0 | 0 | 0 | 0 | 0 | 0 | 0 | 0 | 0 | 0 | 0 | 0 | 0 | 0 |\n",
              "| 604 |  676 | 628 | 534 | 0 | 0 | 0 | 0 | 0 | 0 | 0 | 0 | 0 | 0 | 0 | 0 | 0 | 0 |\n",
              "| 176 |  138 | 146 |  92 | 0 | 0 | 0 | 0 | 0 | 0 | 0 | 0 | 0 | 0 | 0 | 0 | 0 | 0 |\n",
              "|  91 |   82 | 136 | 120 | 0 | 0 | 0 | 0 | 0 | 0 | 0 | 0 | 0 | 0 | 0 | 0 | 0 | 0 |\n",
              "| 314 |  451 | 304 | 320 | 0 | 0 | 0 | 0 | 0 | 0 | 0 | 0 | 0 | 0 | 0 | 0 | 0 | 0 |\n",
              "| 250 |  389 | 322 | 221 | 0 | 0 | 0 | 0 | 0 | 0 | 0 | 0 | 0 | 0 | 0 | 0 | 0 | 0 |\n",
              "| 244 |  358 | 280 | 207 | 0 | 0 | 0 | 0 | 0 | 0 | 0 | 0 | 0 | 0 | 0 | 0 | 0 | 0 |\n",
              "| 253 |  317 | 338 | 229 | 0 | 0 | 0 | 0 | 0 | 0 | 0 | 0 | 0 | 0 | 0 | 0 | 0 | 0 |\n",
              "\n"
            ],
            "text/plain": [
              "      A       C      G      T       M R W S Y K V H D B N    - + .\n",
              " [1,]    8514   2790   2828    8307 0 0 0 0 0 0 0 0 0 0    0 0 0 0\n",
              " [2,]     706    256    287     563 0 0 0 0 0 0 0 0 0 0    0 0 0 0\n",
              " [3,]   18624   5659   5819   18342 0 0 0 0 0 0 0 0 0 0  288 0 0 0\n",
              " [4,]     463    139    179     338 0 0 0 0 0 0 0 0 0 0    0 0 0 0\n",
              " [5,]   25649   8277   8011   24835 0 0 0 0 0 0 0 0 0 0    0 0 0 0\n",
              " [6,]     711    401    386     726 0 0 0 0 0 0 0 0 0 0    0 0 0 0\n",
              " [7,]   29741  10724  10979   31291 0 0 0 0 0 0 0 0 0 0    0 0 0 0\n",
              " [8,]     596    178    202     366 0 0 0 0 0 0 0 0 0 0    0 0 0 0\n",
              " [9,]   31089  10547   9988   31739 0 0 0 0 0 0 0 0 0 0    0 0 0 0\n",
              "[10,]    1014    407    344     735 0 0 0 0 0 0 0 0 0 0    0 0 0 0\n",
              "[11,]   32988   9532   9942   31608 0 0 0 0 0 0 0 0 0 0 1358 0 0 0\n",
              "[12,]     369     67     91     235 0 0 0 0 0 0 0 0 0 0    0 0 0 0\n",
              "[13,]   35094  11093  11796   35747 0 0 0 0 0 0 0 0 0 0  261 0 0 0\n",
              "[14,]     928    337    386     786 0 0 0 0 0 0 0 0 0 0    0 0 0 0\n",
              "[15,]   35992  11756  12277   36319 0 0 0 0 0 0 0 0 0 0  300 0 0 0\n",
              "[16,]     354    206    177     405 0 0 0 0 0 0 0 0 0 0    0 0 0 0\n",
              "[17,]   47195  14905  15625   48841 0 0 0 0 0 0 0 0 0 0  960 0 0 0\n",
              "[18,]     695    286    282     537 0 0 0 0 0 0 0 0 0 0    0 0 0 0\n",
              "[19,]   50030  16913  15660   49085 0 0 0 0 0 0 0 0 0 0  219 0 0 0\n",
              "[20,]     442    116    197     256 0 0 0 0 0 0 0 0 0 0    0 0 0 0\n",
              "[21,]     375    505    498     379 0 0 0 0 0 0 0 0 0 0    0 0 0 0\n",
              "[22,]     307    252    285     359 0 0 0 0 0 0 0 0 0 0    0 0 0 0\n",
              "[23,]     176    166    123     123 0 0 0 0 0 0 0 0 0 0    0 0 0 0\n",
              "[24,]     159    157    104     118 0 0 0 0 0 0 0 0 0 0    0 0 0 0\n",
              "[25,]     210    203    145     147 0 0 0 0 0 0 0 0 0 0    0 0 0 0\n",
              "[26,]     133    136    101     102 0 0 0 0 0 0 0 0 0 0    0 0 0 0\n",
              "[27,]     116    127     82      97 0 0 0 0 0 0 0 0 0 0    0 0 0 0\n",
              "[28,]     213    209    153     160 0 0 0 0 0 0 0 0 0 0    0 0 0 0\n",
              "[29,]     193    194    126     142 0 0 0 0 0 0 0 0 0 0    0 0 0 0\n",
              "[30,] 1359219 860540 861608 1351851 0 0 0 0 0 0 0 0 0 0    0 0 0 0\n",
              "[31,] ?       ?      ?      ?       ? ? ? ? ? ? ? ? ? ? ?    ? ? ?\n",
              "[32,]  98      101    41    126     0 0 0 0 0 0 0 0 0 0 0    0 0 0\n",
              "[33,] 433      545   446    310     0 0 0 0 0 0 0 0 0 0 0    0 0 0\n",
              "[34,] 730      684   689    741     0 0 0 0 0 0 0 0 0 0 0    0 0 0\n",
              "[35,] 568      608   562    500     0 0 0 0 0 0 0 0 0 0 0    0 0 0\n",
              "[36,] 399      437   404    410     0 0 0 0 0 0 0 0 0 0 0    0 0 0\n",
              "[37,] 358      543   321    362     0 0 0 0 0 0 0 0 0 0 0    0 0 0\n",
              "[38,] 693     1275   881    925     0 0 0 0 0 0 0 0 0 0 0    0 0 0\n",
              "[39,] 226      301   294    244     0 0 0 0 0 0 0 0 0 0 0    0 0 0\n",
              "[40,] 375      561   451    344     0 0 0 0 0 0 0 0 0 0 0    0 0 0\n",
              "[41,] 309      517   368    294     0 0 0 0 0 0 0 0 0 0 0    0 0 0\n",
              "[42,] 328      365   340    308     0 0 0 0 0 0 0 0 0 0 0    0 0 0\n",
              "[43,] 487      625   510    475     0 0 0 0 0 0 0 0 0 0 0    0 0 0\n",
              "[44,] 446      410   383    363     0 0 0 0 0 0 0 0 0 0 0    0 0 0\n",
              "[45,] 365      468   382    276     0 0 0 0 0 0 0 0 0 0 0    0 0 0\n",
              "[46,] 543      749   669    499     0 0 0 0 0 0 0 0 0 0 0    0 0 0\n",
              "[47,] 126      266   170    131     0 0 0 0 0 0 0 0 0 0 0    0 0 0\n",
              "[48,] 434      416   399    317     0 0 0 0 0 0 0 0 0 0 0    0 0 0\n",
              "[49,] 215      281   215    168     0 0 0 0 0 0 0 0 0 0 0    0 0 0\n",
              "[50,] 349      359   438    414     0 0 0 0 0 0 0 0 0 0 0    0 0 0\n",
              "[51,] 783      936   819    709     0 0 0 0 0 0 0 0 0 0 2    0 0 0\n",
              "[52,] 215      395   329    228     0 0 0 0 0 0 0 0 0 0 0    0 0 0\n",
              "[53,] 390      383   345    349     0 0 0 0 0 0 0 0 0 0 0    0 0 0\n",
              "[54,] 105      113   152     83     0 0 0 0 0 0 0 0 0 0 0    0 0 0\n",
              "[55,] 604      676   628    534     0 0 0 0 0 0 0 0 0 0 0    0 0 0\n",
              "[56,] 176      138   146     92     0 0 0 0 0 0 0 0 0 0 0    0 0 0\n",
              "[57,]  91       82   136    120     0 0 0 0 0 0 0 0 0 0 0    0 0 0\n",
              "[58,] 314      451   304    320     0 0 0 0 0 0 0 0 0 0 0    0 0 0\n",
              "[59,] 250      389   322    221     0 0 0 0 0 0 0 0 0 0 0    0 0 0\n",
              "[60,] 244      358   280    207     0 0 0 0 0 0 0 0 0 0 0    0 0 0\n",
              "[61,] 253      317   338    229     0 0 0 0 0 0 0 0 0 0 0    0 0 0"
            ]
          },
          "metadata": {},
          "output_type": "display_data"
        },
        {
          "data": {
            "text/html": [
              "<table class=\"dataframe\">\n",
              "<caption>A matrix: 25 × 18 of type int</caption>\n",
              "<thead>\n",
              "\t<tr><th scope=col>A</th><th scope=col>C</th><th scope=col>G</th><th scope=col>T</th><th scope=col>M</th><th scope=col>R</th><th scope=col>W</th><th scope=col>S</th><th scope=col>Y</th><th scope=col>K</th><th scope=col>V</th><th scope=col>H</th><th scope=col>D</th><th scope=col>B</th><th scope=col>N</th><th scope=col>-</th><th scope=col>+</th><th scope=col>.</th></tr>\n",
              "</thead>\n",
              "<tbody>\n",
              "\t<tr><td> 18624</td><td>  5659</td><td>  5819</td><td> 18342</td><td>0</td><td>0</td><td>0</td><td>0</td><td>0</td><td>0</td><td>0</td><td>0</td><td>0</td><td>0</td><td>   288</td><td>0</td><td>0</td><td>0</td></tr>\n",
              "\t<tr><td> 32988</td><td>  9532</td><td>  9942</td><td> 31608</td><td>0</td><td>0</td><td>0</td><td>0</td><td>0</td><td>0</td><td>0</td><td>0</td><td>0</td><td>0</td><td>  1358</td><td>0</td><td>0</td><td>0</td></tr>\n",
              "\t<tr><td> 35094</td><td> 11093</td><td> 11796</td><td> 35747</td><td>0</td><td>0</td><td>0</td><td>0</td><td>0</td><td>0</td><td>0</td><td>0</td><td>0</td><td>0</td><td>   261</td><td>0</td><td>0</td><td>0</td></tr>\n",
              "\t<tr><td> 35992</td><td> 11756</td><td> 12277</td><td> 36319</td><td>0</td><td>0</td><td>0</td><td>0</td><td>0</td><td>0</td><td>0</td><td>0</td><td>0</td><td>0</td><td>   300</td><td>0</td><td>0</td><td>0</td></tr>\n",
              "\t<tr><td> 47195</td><td> 14905</td><td> 15625</td><td> 48841</td><td>0</td><td>0</td><td>0</td><td>0</td><td>0</td><td>0</td><td>0</td><td>0</td><td>0</td><td>0</td><td>   960</td><td>0</td><td>0</td><td>0</td></tr>\n",
              "\t<tr><td> 50030</td><td> 16913</td><td> 15660</td><td> 49085</td><td>0</td><td>0</td><td>0</td><td>0</td><td>0</td><td>0</td><td>0</td><td>0</td><td>0</td><td>0</td><td>   219</td><td>0</td><td>0</td><td>0</td></tr>\n",
              "\t<tr><td>    25</td><td>    14</td><td>    22</td><td>    21</td><td>0</td><td>0</td><td>0</td><td>0</td><td>0</td><td>0</td><td>0</td><td>0</td><td>0</td><td>0</td><td>     1</td><td>0</td><td>0</td><td>0</td></tr>\n",
              "\t<tr><td>    25</td><td>    14</td><td>    22</td><td>    21</td><td>0</td><td>0</td><td>0</td><td>0</td><td>0</td><td>0</td><td>0</td><td>0</td><td>0</td><td>0</td><td>     1</td><td>0</td><td>0</td><td>0</td></tr>\n",
              "\t<tr><td>464339</td><td>325320</td><td>325569</td><td>457531</td><td>0</td><td>0</td><td>0</td><td>0</td><td>0</td><td>0</td><td>0</td><td>0</td><td>0</td><td>0</td><td>300000</td><td>0</td><td>0</td><td>0</td></tr>\n",
              "\t<tr><td> 87457</td><td> 41262</td><td> 59207</td><td> 81556</td><td>0</td><td>0</td><td>0</td><td>0</td><td>0</td><td>0</td><td>0</td><td>0</td><td>0</td><td>0</td><td> 11357</td><td>0</td><td>0</td><td>0</td></tr>\n",
              "\t<tr><td> 40299</td><td>  8566</td><td> 33834</td><td> 23883</td><td>0</td><td>0</td><td>0</td><td>0</td><td>0</td><td>0</td><td>0</td><td>0</td><td>0</td><td>0</td><td>  5969</td><td>0</td><td>0</td><td>0</td></tr>\n",
              "\t<tr><td>  1852</td><td>  1405</td><td>  1203</td><td>  1748</td><td>0</td><td>0</td><td>0</td><td>0</td><td>0</td><td>0</td><td>0</td><td>0</td><td>0</td><td>0</td><td> 15268</td><td>0</td><td>0</td><td>0</td></tr>\n",
              "\t<tr><td>   854</td><td>   526</td><td>   620</td><td>   966</td><td>0</td><td>0</td><td>0</td><td>0</td><td>0</td><td>0</td><td>0</td><td>0</td><td>0</td><td>0</td><td>  9433</td><td>0</td><td>0</td><td>0</td></tr>\n",
              "\t<tr><td>  1192</td><td>   751</td><td>   637</td><td>  1044</td><td>0</td><td>0</td><td>0</td><td>0</td><td>0</td><td>0</td><td>0</td><td>0</td><td>0</td><td>0</td><td> 34066</td><td>0</td><td>0</td><td>0</td></tr>\n",
              "\t<tr><td>120267</td><td> 62897</td><td> 87138</td><td>100727</td><td>0</td><td>0</td><td>0</td><td>0</td><td>0</td><td>0</td><td>0</td><td>0</td><td>0</td><td>0</td><td> 21032</td><td>0</td><td>0</td><td>0</td></tr>\n",
              "\t<tr><td> 28784</td><td> 15860</td><td> 18385</td><td> 29873</td><td>0</td><td>0</td><td>0</td><td>0</td><td>0</td><td>0</td><td>0</td><td>0</td><td>0</td><td>0</td><td>    81</td><td>0</td><td>0</td><td>0</td></tr>\n",
              "\t<tr><td> 30984</td><td>  8476</td><td> 24291</td><td> 20260</td><td>0</td><td>0</td><td>0</td><td>0</td><td>0</td><td>0</td><td>0</td><td>0</td><td>0</td><td>0</td><td> 28494</td><td>0</td><td>0</td><td>0</td></tr>\n",
              "\t<tr><td> 43641</td><td> 23865</td><td> 26887</td><td> 43275</td><td>0</td><td>0</td><td>0</td><td>0</td><td>0</td><td>0</td><td>0</td><td>0</td><td>0</td><td>0</td><td>   458</td><td>0</td><td>0</td><td>0</td></tr>\n",
              "\t<tr><td> 20434</td><td> 12307</td><td> 12054</td><td> 18832</td><td>0</td><td>0</td><td>0</td><td>0</td><td>0</td><td>0</td><td>0</td><td>0</td><td>0</td><td>0</td><td> 27682</td><td>0</td><td>0</td><td>0</td></tr>\n",
              "\t<tr><td> 11133</td><td>  7540</td><td>  5750</td><td> 10973</td><td>0</td><td>0</td><td>0</td><td>0</td><td>0</td><td>0</td><td>0</td><td>0</td><td>0</td><td>0</td><td>  9078</td><td>0</td><td>0</td><td>0</td></tr>\n",
              "\t<tr><td> 44853</td><td> 32772</td><td> 33246</td><td> 44749</td><td>0</td><td>0</td><td>0</td><td>0</td><td>0</td><td>0</td><td>0</td><td>0</td><td>0</td><td>0</td><td>  1812</td><td>0</td><td>0</td><td>0</td></tr>\n",
              "\t<tr><td> 16882</td><td> 24740</td><td>  5855</td><td> 32047</td><td>0</td><td>0</td><td>0</td><td>0</td><td>0</td><td>0</td><td>0</td><td>0</td><td>0</td><td>0</td><td>    66</td><td>0</td><td>0</td><td>0</td></tr>\n",
              "\t<tr><td> 19783</td><td> 10753</td><td> 12055</td><td> 19260</td><td>0</td><td>0</td><td>0</td><td>0</td><td>0</td><td>0</td><td>0</td><td>0</td><td>0</td><td>0</td><td>  9400</td><td>0</td><td>0</td><td>0</td></tr>\n",
              "\t<tr><td> 42227</td><td> 48059</td><td> 25879</td><td> 60207</td><td>0</td><td>0</td><td>0</td><td>0</td><td>0</td><td>0</td><td>0</td><td>0</td><td>0</td><td>0</td><td>   236</td><td>0</td><td>0</td><td>0</td></tr>\n",
              "\t<tr><td>   783</td><td>   936</td><td>   819</td><td>   709</td><td>0</td><td>0</td><td>0</td><td>0</td><td>0</td><td>0</td><td>0</td><td>0</td><td>0</td><td>0</td><td>     2</td><td>0</td><td>0</td><td>0</td></tr>\n",
              "</tbody>\n",
              "</table>\n"
            ],
            "text/latex": [
              "A matrix: 25 × 18 of type int\n",
              "\\begin{tabular}{llllllllllllllllll}\n",
              " A & C & G & T & M & R & W & S & Y & K & V & H & D & B & N & - & + & .\\\\\n",
              "\\hline\n",
              "\t  18624 &   5659 &   5819 &  18342 & 0 & 0 & 0 & 0 & 0 & 0 & 0 & 0 & 0 & 0 &    288 & 0 & 0 & 0\\\\\n",
              "\t  32988 &   9532 &   9942 &  31608 & 0 & 0 & 0 & 0 & 0 & 0 & 0 & 0 & 0 & 0 &   1358 & 0 & 0 & 0\\\\\n",
              "\t  35094 &  11093 &  11796 &  35747 & 0 & 0 & 0 & 0 & 0 & 0 & 0 & 0 & 0 & 0 &    261 & 0 & 0 & 0\\\\\n",
              "\t  35992 &  11756 &  12277 &  36319 & 0 & 0 & 0 & 0 & 0 & 0 & 0 & 0 & 0 & 0 &    300 & 0 & 0 & 0\\\\\n",
              "\t  47195 &  14905 &  15625 &  48841 & 0 & 0 & 0 & 0 & 0 & 0 & 0 & 0 & 0 & 0 &    960 & 0 & 0 & 0\\\\\n",
              "\t  50030 &  16913 &  15660 &  49085 & 0 & 0 & 0 & 0 & 0 & 0 & 0 & 0 & 0 & 0 &    219 & 0 & 0 & 0\\\\\n",
              "\t     25 &     14 &     22 &     21 & 0 & 0 & 0 & 0 & 0 & 0 & 0 & 0 & 0 & 0 &      1 & 0 & 0 & 0\\\\\n",
              "\t     25 &     14 &     22 &     21 & 0 & 0 & 0 & 0 & 0 & 0 & 0 & 0 & 0 & 0 &      1 & 0 & 0 & 0\\\\\n",
              "\t 464339 & 325320 & 325569 & 457531 & 0 & 0 & 0 & 0 & 0 & 0 & 0 & 0 & 0 & 0 & 300000 & 0 & 0 & 0\\\\\n",
              "\t  87457 &  41262 &  59207 &  81556 & 0 & 0 & 0 & 0 & 0 & 0 & 0 & 0 & 0 & 0 &  11357 & 0 & 0 & 0\\\\\n",
              "\t  40299 &   8566 &  33834 &  23883 & 0 & 0 & 0 & 0 & 0 & 0 & 0 & 0 & 0 & 0 &   5969 & 0 & 0 & 0\\\\\n",
              "\t   1852 &   1405 &   1203 &   1748 & 0 & 0 & 0 & 0 & 0 & 0 & 0 & 0 & 0 & 0 &  15268 & 0 & 0 & 0\\\\\n",
              "\t    854 &    526 &    620 &    966 & 0 & 0 & 0 & 0 & 0 & 0 & 0 & 0 & 0 & 0 &   9433 & 0 & 0 & 0\\\\\n",
              "\t   1192 &    751 &    637 &   1044 & 0 & 0 & 0 & 0 & 0 & 0 & 0 & 0 & 0 & 0 &  34066 & 0 & 0 & 0\\\\\n",
              "\t 120267 &  62897 &  87138 & 100727 & 0 & 0 & 0 & 0 & 0 & 0 & 0 & 0 & 0 & 0 &  21032 & 0 & 0 & 0\\\\\n",
              "\t  28784 &  15860 &  18385 &  29873 & 0 & 0 & 0 & 0 & 0 & 0 & 0 & 0 & 0 & 0 &     81 & 0 & 0 & 0\\\\\n",
              "\t  30984 &   8476 &  24291 &  20260 & 0 & 0 & 0 & 0 & 0 & 0 & 0 & 0 & 0 & 0 &  28494 & 0 & 0 & 0\\\\\n",
              "\t  43641 &  23865 &  26887 &  43275 & 0 & 0 & 0 & 0 & 0 & 0 & 0 & 0 & 0 & 0 &    458 & 0 & 0 & 0\\\\\n",
              "\t  20434 &  12307 &  12054 &  18832 & 0 & 0 & 0 & 0 & 0 & 0 & 0 & 0 & 0 & 0 &  27682 & 0 & 0 & 0\\\\\n",
              "\t  11133 &   7540 &   5750 &  10973 & 0 & 0 & 0 & 0 & 0 & 0 & 0 & 0 & 0 & 0 &   9078 & 0 & 0 & 0\\\\\n",
              "\t  44853 &  32772 &  33246 &  44749 & 0 & 0 & 0 & 0 & 0 & 0 & 0 & 0 & 0 & 0 &   1812 & 0 & 0 & 0\\\\\n",
              "\t  16882 &  24740 &   5855 &  32047 & 0 & 0 & 0 & 0 & 0 & 0 & 0 & 0 & 0 & 0 &     66 & 0 & 0 & 0\\\\\n",
              "\t  19783 &  10753 &  12055 &  19260 & 0 & 0 & 0 & 0 & 0 & 0 & 0 & 0 & 0 & 0 &   9400 & 0 & 0 & 0\\\\\n",
              "\t  42227 &  48059 &  25879 &  60207 & 0 & 0 & 0 & 0 & 0 & 0 & 0 & 0 & 0 & 0 &    236 & 0 & 0 & 0\\\\\n",
              "\t    783 &    936 &    819 &    709 & 0 & 0 & 0 & 0 & 0 & 0 & 0 & 0 & 0 & 0 &      2 & 0 & 0 & 0\\\\\n",
              "\\end{tabular}\n"
            ],
            "text/markdown": [
              "\n",
              "A matrix: 25 × 18 of type int\n",
              "\n",
              "| A | C | G | T | M | R | W | S | Y | K | V | H | D | B | N | - | + | . |\n",
              "|---|---|---|---|---|---|---|---|---|---|---|---|---|---|---|---|---|---|\n",
              "|  18624 |   5659 |   5819 |  18342 | 0 | 0 | 0 | 0 | 0 | 0 | 0 | 0 | 0 | 0 |    288 | 0 | 0 | 0 |\n",
              "|  32988 |   9532 |   9942 |  31608 | 0 | 0 | 0 | 0 | 0 | 0 | 0 | 0 | 0 | 0 |   1358 | 0 | 0 | 0 |\n",
              "|  35094 |  11093 |  11796 |  35747 | 0 | 0 | 0 | 0 | 0 | 0 | 0 | 0 | 0 | 0 |    261 | 0 | 0 | 0 |\n",
              "|  35992 |  11756 |  12277 |  36319 | 0 | 0 | 0 | 0 | 0 | 0 | 0 | 0 | 0 | 0 |    300 | 0 | 0 | 0 |\n",
              "|  47195 |  14905 |  15625 |  48841 | 0 | 0 | 0 | 0 | 0 | 0 | 0 | 0 | 0 | 0 |    960 | 0 | 0 | 0 |\n",
              "|  50030 |  16913 |  15660 |  49085 | 0 | 0 | 0 | 0 | 0 | 0 | 0 | 0 | 0 | 0 |    219 | 0 | 0 | 0 |\n",
              "|     25 |     14 |     22 |     21 | 0 | 0 | 0 | 0 | 0 | 0 | 0 | 0 | 0 | 0 |      1 | 0 | 0 | 0 |\n",
              "|     25 |     14 |     22 |     21 | 0 | 0 | 0 | 0 | 0 | 0 | 0 | 0 | 0 | 0 |      1 | 0 | 0 | 0 |\n",
              "| 464339 | 325320 | 325569 | 457531 | 0 | 0 | 0 | 0 | 0 | 0 | 0 | 0 | 0 | 0 | 300000 | 0 | 0 | 0 |\n",
              "|  87457 |  41262 |  59207 |  81556 | 0 | 0 | 0 | 0 | 0 | 0 | 0 | 0 | 0 | 0 |  11357 | 0 | 0 | 0 |\n",
              "|  40299 |   8566 |  33834 |  23883 | 0 | 0 | 0 | 0 | 0 | 0 | 0 | 0 | 0 | 0 |   5969 | 0 | 0 | 0 |\n",
              "|   1852 |   1405 |   1203 |   1748 | 0 | 0 | 0 | 0 | 0 | 0 | 0 | 0 | 0 | 0 |  15268 | 0 | 0 | 0 |\n",
              "|    854 |    526 |    620 |    966 | 0 | 0 | 0 | 0 | 0 | 0 | 0 | 0 | 0 | 0 |   9433 | 0 | 0 | 0 |\n",
              "|   1192 |    751 |    637 |   1044 | 0 | 0 | 0 | 0 | 0 | 0 | 0 | 0 | 0 | 0 |  34066 | 0 | 0 | 0 |\n",
              "| 120267 |  62897 |  87138 | 100727 | 0 | 0 | 0 | 0 | 0 | 0 | 0 | 0 | 0 | 0 |  21032 | 0 | 0 | 0 |\n",
              "|  28784 |  15860 |  18385 |  29873 | 0 | 0 | 0 | 0 | 0 | 0 | 0 | 0 | 0 | 0 |     81 | 0 | 0 | 0 |\n",
              "|  30984 |   8476 |  24291 |  20260 | 0 | 0 | 0 | 0 | 0 | 0 | 0 | 0 | 0 | 0 |  28494 | 0 | 0 | 0 |\n",
              "|  43641 |  23865 |  26887 |  43275 | 0 | 0 | 0 | 0 | 0 | 0 | 0 | 0 | 0 | 0 |    458 | 0 | 0 | 0 |\n",
              "|  20434 |  12307 |  12054 |  18832 | 0 | 0 | 0 | 0 | 0 | 0 | 0 | 0 | 0 | 0 |  27682 | 0 | 0 | 0 |\n",
              "|  11133 |   7540 |   5750 |  10973 | 0 | 0 | 0 | 0 | 0 | 0 | 0 | 0 | 0 | 0 |   9078 | 0 | 0 | 0 |\n",
              "|  44853 |  32772 |  33246 |  44749 | 0 | 0 | 0 | 0 | 0 | 0 | 0 | 0 | 0 | 0 |   1812 | 0 | 0 | 0 |\n",
              "|  16882 |  24740 |   5855 |  32047 | 0 | 0 | 0 | 0 | 0 | 0 | 0 | 0 | 0 | 0 |     66 | 0 | 0 | 0 |\n",
              "|  19783 |  10753 |  12055 |  19260 | 0 | 0 | 0 | 0 | 0 | 0 | 0 | 0 | 0 | 0 |   9400 | 0 | 0 | 0 |\n",
              "|  42227 |  48059 |  25879 |  60207 | 0 | 0 | 0 | 0 | 0 | 0 | 0 | 0 | 0 | 0 |    236 | 0 | 0 | 0 |\n",
              "|    783 |    936 |    819 |    709 | 0 | 0 | 0 | 0 | 0 | 0 | 0 | 0 | 0 | 0 |      2 | 0 | 0 | 0 |\n",
              "\n"
            ],
            "text/plain": [
              "      A      C      G      T      M R W S Y K V H D B N      - + .\n",
              " [1,]  18624   5659   5819  18342 0 0 0 0 0 0 0 0 0 0    288 0 0 0\n",
              " [2,]  32988   9532   9942  31608 0 0 0 0 0 0 0 0 0 0   1358 0 0 0\n",
              " [3,]  35094  11093  11796  35747 0 0 0 0 0 0 0 0 0 0    261 0 0 0\n",
              " [4,]  35992  11756  12277  36319 0 0 0 0 0 0 0 0 0 0    300 0 0 0\n",
              " [5,]  47195  14905  15625  48841 0 0 0 0 0 0 0 0 0 0    960 0 0 0\n",
              " [6,]  50030  16913  15660  49085 0 0 0 0 0 0 0 0 0 0    219 0 0 0\n",
              " [7,]     25     14     22     21 0 0 0 0 0 0 0 0 0 0      1 0 0 0\n",
              " [8,]     25     14     22     21 0 0 0 0 0 0 0 0 0 0      1 0 0 0\n",
              " [9,] 464339 325320 325569 457531 0 0 0 0 0 0 0 0 0 0 300000 0 0 0\n",
              "[10,]  87457  41262  59207  81556 0 0 0 0 0 0 0 0 0 0  11357 0 0 0\n",
              "[11,]  40299   8566  33834  23883 0 0 0 0 0 0 0 0 0 0   5969 0 0 0\n",
              "[12,]   1852   1405   1203   1748 0 0 0 0 0 0 0 0 0 0  15268 0 0 0\n",
              "[13,]    854    526    620    966 0 0 0 0 0 0 0 0 0 0   9433 0 0 0\n",
              "[14,]   1192    751    637   1044 0 0 0 0 0 0 0 0 0 0  34066 0 0 0\n",
              "[15,] 120267  62897  87138 100727 0 0 0 0 0 0 0 0 0 0  21032 0 0 0\n",
              "[16,]  28784  15860  18385  29873 0 0 0 0 0 0 0 0 0 0     81 0 0 0\n",
              "[17,]  30984   8476  24291  20260 0 0 0 0 0 0 0 0 0 0  28494 0 0 0\n",
              "[18,]  43641  23865  26887  43275 0 0 0 0 0 0 0 0 0 0    458 0 0 0\n",
              "[19,]  20434  12307  12054  18832 0 0 0 0 0 0 0 0 0 0  27682 0 0 0\n",
              "[20,]  11133   7540   5750  10973 0 0 0 0 0 0 0 0 0 0   9078 0 0 0\n",
              "[21,]  44853  32772  33246  44749 0 0 0 0 0 0 0 0 0 0   1812 0 0 0\n",
              "[22,]  16882  24740   5855  32047 0 0 0 0 0 0 0 0 0 0     66 0 0 0\n",
              "[23,]  19783  10753  12055  19260 0 0 0 0 0 0 0 0 0 0   9400 0 0 0\n",
              "[24,]  42227  48059  25879  60207 0 0 0 0 0 0 0 0 0 0    236 0 0 0\n",
              "[25,]    783    936    819    709 0 0 0 0 0 0 0 0 0 0      2 0 0 0"
            ]
          },
          "metadata": {},
          "output_type": "display_data"
        },
        {
          "data": {
            "text/html": [
              "<table class=\"dataframe\">\n",
              "<caption>A matrix: 0 × 18 of type int</caption>\n",
              "<thead>\n",
              "\t<tr><th scope=col>A</th><th scope=col>C</th><th scope=col>G</th><th scope=col>T</th><th scope=col>M</th><th scope=col>R</th><th scope=col>W</th><th scope=col>S</th><th scope=col>Y</th><th scope=col>K</th><th scope=col>V</th><th scope=col>H</th><th scope=col>D</th><th scope=col>B</th><th scope=col>N</th><th scope=col>-</th><th scope=col>+</th><th scope=col>.</th></tr>\n",
              "</thead>\n",
              "<tbody>\n",
              "</tbody>\n",
              "</table>\n"
            ],
            "text/latex": [
              "A matrix: 0 × 18 of type int\n",
              "\\begin{tabular}{llllllllllllllllll}\n",
              " A & C & G & T & M & R & W & S & Y & K & V & H & D & B & N & - & + & .\\\\\n",
              "\\hline\n",
              "\\end{tabular}\n"
            ],
            "text/markdown": [
              "\n",
              "A matrix: 0 × 18 of type int\n",
              "\n",
              "| A | C | G | T | M | R | W | S | Y | K | V | H | D | B | N | - | + | . |\n",
              "|---|---|---|---|---|---|---|---|---|---|---|---|---|---|---|---|---|---|\n",
              "\n"
            ],
            "text/plain": [
              "     A C G T M R W S Y K V H D B N - + ."
            ]
          },
          "metadata": {},
          "output_type": "display_data"
        }
      ],
      "source": [
        "alpha_freq <- alphabetFrequency(seqs_1)\n",
        "ambig<-alpha_freq[alpha_freq[,\"N\"] > 0,]\n",
        "gaps<-alpha_freq[alpha_freq[,\"-\"] > 0,]\n",
        "\n",
        "alpha_freq\n",
        "ambig\n",
        "gaps"
      ]
    },
    {
      "cell_type": "markdown",
      "metadata": {
        "id": "Fu30acZMJ_pT"
      },
      "source": [
        "2.  Handle sequences with gaps or ambiguous bases."
      ]
    },
    {
      "cell_type": "code",
      "execution_count": 7,
      "metadata": {
        "id": "-6lOz3ogRLaQ",
        "vscode": {
          "languageId": "r"
        }
      },
      "outputs": [
        {
          "data": {
            "text/html": [
              "<table class=\"dataframe\">\n",
              "<caption>A matrix: 6 × 18 of type int</caption>\n",
              "<thead>\n",
              "\t<tr><th scope=col>A</th><th scope=col>C</th><th scope=col>G</th><th scope=col>T</th><th scope=col>M</th><th scope=col>R</th><th scope=col>W</th><th scope=col>S</th><th scope=col>Y</th><th scope=col>K</th><th scope=col>V</th><th scope=col>H</th><th scope=col>D</th><th scope=col>B</th><th scope=col>N</th><th scope=col>-</th><th scope=col>+</th><th scope=col>.</th></tr>\n",
              "</thead>\n",
              "<tbody>\n",
              "\t<tr><td> 8514</td><td>2790</td><td>2828</td><td> 8307</td><td>0</td><td>0</td><td>0</td><td>0</td><td>0</td><td>0</td><td>0</td><td>0</td><td>0</td><td>0</td><td>  0</td><td>0</td><td>0</td><td>0</td></tr>\n",
              "\t<tr><td>  706</td><td> 256</td><td> 287</td><td>  563</td><td>0</td><td>0</td><td>0</td><td>0</td><td>0</td><td>0</td><td>0</td><td>0</td><td>0</td><td>0</td><td>  0</td><td>0</td><td>0</td><td>0</td></tr>\n",
              "\t<tr><td>18624</td><td>5659</td><td>5819</td><td>18342</td><td>0</td><td>0</td><td>0</td><td>0</td><td>0</td><td>0</td><td>0</td><td>0</td><td>0</td><td>0</td><td>288</td><td>0</td><td>0</td><td>0</td></tr>\n",
              "\t<tr><td>  463</td><td> 139</td><td> 179</td><td>  338</td><td>0</td><td>0</td><td>0</td><td>0</td><td>0</td><td>0</td><td>0</td><td>0</td><td>0</td><td>0</td><td>  0</td><td>0</td><td>0</td><td>0</td></tr>\n",
              "\t<tr><td>25649</td><td>8277</td><td>8011</td><td>24835</td><td>0</td><td>0</td><td>0</td><td>0</td><td>0</td><td>0</td><td>0</td><td>0</td><td>0</td><td>0</td><td>  0</td><td>0</td><td>0</td><td>0</td></tr>\n",
              "\t<tr><td>  711</td><td> 401</td><td> 386</td><td>  726</td><td>0</td><td>0</td><td>0</td><td>0</td><td>0</td><td>0</td><td>0</td><td>0</td><td>0</td><td>0</td><td>  0</td><td>0</td><td>0</td><td>0</td></tr>\n",
              "</tbody>\n",
              "</table>\n"
            ],
            "text/latex": [
              "A matrix: 6 × 18 of type int\n",
              "\\begin{tabular}{llllllllllllllllll}\n",
              " A & C & G & T & M & R & W & S & Y & K & V & H & D & B & N & - & + & .\\\\\n",
              "\\hline\n",
              "\t  8514 & 2790 & 2828 &  8307 & 0 & 0 & 0 & 0 & 0 & 0 & 0 & 0 & 0 & 0 &   0 & 0 & 0 & 0\\\\\n",
              "\t   706 &  256 &  287 &   563 & 0 & 0 & 0 & 0 & 0 & 0 & 0 & 0 & 0 & 0 &   0 & 0 & 0 & 0\\\\\n",
              "\t 18624 & 5659 & 5819 & 18342 & 0 & 0 & 0 & 0 & 0 & 0 & 0 & 0 & 0 & 0 & 288 & 0 & 0 & 0\\\\\n",
              "\t   463 &  139 &  179 &   338 & 0 & 0 & 0 & 0 & 0 & 0 & 0 & 0 & 0 & 0 &   0 & 0 & 0 & 0\\\\\n",
              "\t 25649 & 8277 & 8011 & 24835 & 0 & 0 & 0 & 0 & 0 & 0 & 0 & 0 & 0 & 0 &   0 & 0 & 0 & 0\\\\\n",
              "\t   711 &  401 &  386 &   726 & 0 & 0 & 0 & 0 & 0 & 0 & 0 & 0 & 0 & 0 &   0 & 0 & 0 & 0\\\\\n",
              "\\end{tabular}\n"
            ],
            "text/markdown": [
              "\n",
              "A matrix: 6 × 18 of type int\n",
              "\n",
              "| A | C | G | T | M | R | W | S | Y | K | V | H | D | B | N | - | + | . |\n",
              "|---|---|---|---|---|---|---|---|---|---|---|---|---|---|---|---|---|---|\n",
              "|  8514 | 2790 | 2828 |  8307 | 0 | 0 | 0 | 0 | 0 | 0 | 0 | 0 | 0 | 0 |   0 | 0 | 0 | 0 |\n",
              "|   706 |  256 |  287 |   563 | 0 | 0 | 0 | 0 | 0 | 0 | 0 | 0 | 0 | 0 |   0 | 0 | 0 | 0 |\n",
              "| 18624 | 5659 | 5819 | 18342 | 0 | 0 | 0 | 0 | 0 | 0 | 0 | 0 | 0 | 0 | 288 | 0 | 0 | 0 |\n",
              "|   463 |  139 |  179 |   338 | 0 | 0 | 0 | 0 | 0 | 0 | 0 | 0 | 0 | 0 |   0 | 0 | 0 | 0 |\n",
              "| 25649 | 8277 | 8011 | 24835 | 0 | 0 | 0 | 0 | 0 | 0 | 0 | 0 | 0 | 0 |   0 | 0 | 0 | 0 |\n",
              "|   711 |  401 |  386 |   726 | 0 | 0 | 0 | 0 | 0 | 0 | 0 | 0 | 0 | 0 |   0 | 0 | 0 | 0 |\n",
              "\n"
            ],
            "text/plain": [
              "     A     C    G    T     M R W S Y K V H D B N   - + .\n",
              "[1,]  8514 2790 2828  8307 0 0 0 0 0 0 0 0 0 0   0 0 0 0\n",
              "[2,]   706  256  287   563 0 0 0 0 0 0 0 0 0 0   0 0 0 0\n",
              "[3,] 18624 5659 5819 18342 0 0 0 0 0 0 0 0 0 0 288 0 0 0\n",
              "[4,]   463  139  179   338 0 0 0 0 0 0 0 0 0 0   0 0 0 0\n",
              "[5,] 25649 8277 8011 24835 0 0 0 0 0 0 0 0 0 0   0 0 0 0\n",
              "[6,]   711  401  386   726 0 0 0 0 0 0 0 0 0 0   0 0 0 0"
            ]
          },
          "metadata": {},
          "output_type": "display_data"
        },
        {
          "data": {
            "text/html": [
              "<table class=\"dataframe\">\n",
              "<caption>A matrix: 6 × 18 of type int</caption>\n",
              "<thead>\n",
              "\t<tr><th scope=col>A</th><th scope=col>C</th><th scope=col>G</th><th scope=col>T</th><th scope=col>M</th><th scope=col>R</th><th scope=col>W</th><th scope=col>S</th><th scope=col>Y</th><th scope=col>K</th><th scope=col>V</th><th scope=col>H</th><th scope=col>D</th><th scope=col>B</th><th scope=col>N</th><th scope=col>-</th><th scope=col>+</th><th scope=col>.</th></tr>\n",
              "</thead>\n",
              "<tbody>\n",
              "\t<tr><td> 8514</td><td>2790</td><td>2828</td><td> 8307</td><td>0</td><td>0</td><td>0</td><td>0</td><td>0</td><td>0</td><td>0</td><td>0</td><td>0</td><td>0</td><td>  0</td><td>0</td><td>0</td><td>0</td></tr>\n",
              "\t<tr><td>  706</td><td> 256</td><td> 287</td><td>  563</td><td>0</td><td>0</td><td>0</td><td>0</td><td>0</td><td>0</td><td>0</td><td>0</td><td>0</td><td>0</td><td>  0</td><td>0</td><td>0</td><td>0</td></tr>\n",
              "\t<tr><td>18624</td><td>5659</td><td>5819</td><td>18342</td><td>0</td><td>0</td><td>0</td><td>0</td><td>0</td><td>0</td><td>0</td><td>0</td><td>0</td><td>0</td><td>288</td><td>0</td><td>0</td><td>0</td></tr>\n",
              "\t<tr><td>  463</td><td> 139</td><td> 179</td><td>  338</td><td>0</td><td>0</td><td>0</td><td>0</td><td>0</td><td>0</td><td>0</td><td>0</td><td>0</td><td>0</td><td>  0</td><td>0</td><td>0</td><td>0</td></tr>\n",
              "\t<tr><td>25649</td><td>8277</td><td>8011</td><td>24835</td><td>0</td><td>0</td><td>0</td><td>0</td><td>0</td><td>0</td><td>0</td><td>0</td><td>0</td><td>0</td><td>  0</td><td>0</td><td>0</td><td>0</td></tr>\n",
              "\t<tr><td>  711</td><td> 401</td><td> 386</td><td>  726</td><td>0</td><td>0</td><td>0</td><td>0</td><td>0</td><td>0</td><td>0</td><td>0</td><td>0</td><td>0</td><td>  0</td><td>0</td><td>0</td><td>0</td></tr>\n",
              "</tbody>\n",
              "</table>\n"
            ],
            "text/latex": [
              "A matrix: 6 × 18 of type int\n",
              "\\begin{tabular}{llllllllllllllllll}\n",
              " A & C & G & T & M & R & W & S & Y & K & V & H & D & B & N & - & + & .\\\\\n",
              "\\hline\n",
              "\t  8514 & 2790 & 2828 &  8307 & 0 & 0 & 0 & 0 & 0 & 0 & 0 & 0 & 0 & 0 &   0 & 0 & 0 & 0\\\\\n",
              "\t   706 &  256 &  287 &   563 & 0 & 0 & 0 & 0 & 0 & 0 & 0 & 0 & 0 & 0 &   0 & 0 & 0 & 0\\\\\n",
              "\t 18624 & 5659 & 5819 & 18342 & 0 & 0 & 0 & 0 & 0 & 0 & 0 & 0 & 0 & 0 & 288 & 0 & 0 & 0\\\\\n",
              "\t   463 &  139 &  179 &   338 & 0 & 0 & 0 & 0 & 0 & 0 & 0 & 0 & 0 & 0 &   0 & 0 & 0 & 0\\\\\n",
              "\t 25649 & 8277 & 8011 & 24835 & 0 & 0 & 0 & 0 & 0 & 0 & 0 & 0 & 0 & 0 &   0 & 0 & 0 & 0\\\\\n",
              "\t   711 &  401 &  386 &   726 & 0 & 0 & 0 & 0 & 0 & 0 & 0 & 0 & 0 & 0 &   0 & 0 & 0 & 0\\\\\n",
              "\\end{tabular}\n"
            ],
            "text/markdown": [
              "\n",
              "A matrix: 6 × 18 of type int\n",
              "\n",
              "| A | C | G | T | M | R | W | S | Y | K | V | H | D | B | N | - | + | . |\n",
              "|---|---|---|---|---|---|---|---|---|---|---|---|---|---|---|---|---|---|\n",
              "|  8514 | 2790 | 2828 |  8307 | 0 | 0 | 0 | 0 | 0 | 0 | 0 | 0 | 0 | 0 |   0 | 0 | 0 | 0 |\n",
              "|   706 |  256 |  287 |   563 | 0 | 0 | 0 | 0 | 0 | 0 | 0 | 0 | 0 | 0 |   0 | 0 | 0 | 0 |\n",
              "| 18624 | 5659 | 5819 | 18342 | 0 | 0 | 0 | 0 | 0 | 0 | 0 | 0 | 0 | 0 | 288 | 0 | 0 | 0 |\n",
              "|   463 |  139 |  179 |   338 | 0 | 0 | 0 | 0 | 0 | 0 | 0 | 0 | 0 | 0 |   0 | 0 | 0 | 0 |\n",
              "| 25649 | 8277 | 8011 | 24835 | 0 | 0 | 0 | 0 | 0 | 0 | 0 | 0 | 0 | 0 |   0 | 0 | 0 | 0 |\n",
              "|   711 |  401 |  386 |   726 | 0 | 0 | 0 | 0 | 0 | 0 | 0 | 0 | 0 | 0 |   0 | 0 | 0 | 0 |\n",
              "\n"
            ],
            "text/plain": [
              "     A     C    G    T     M R W S Y K V H D B N   - + .\n",
              "[1,]  8514 2790 2828  8307 0 0 0 0 0 0 0 0 0 0   0 0 0 0\n",
              "[2,]   706  256  287   563 0 0 0 0 0 0 0 0 0 0   0 0 0 0\n",
              "[3,] 18624 5659 5819 18342 0 0 0 0 0 0 0 0 0 0 288 0 0 0\n",
              "[4,]   463  139  179   338 0 0 0 0 0 0 0 0 0 0   0 0 0 0\n",
              "[5,] 25649 8277 8011 24835 0 0 0 0 0 0 0 0 0 0   0 0 0 0\n",
              "[6,]   711  401  386   726 0 0 0 0 0 0 0 0 0 0   0 0 0 0"
            ]
          },
          "metadata": {},
          "output_type": "display_data"
        }
      ],
      "source": [
        "temp <- seqs_1\n",
        "for(i in seq_len(nrow(alpha_freq))){\n",
        "    if(alpha_freq[i,\"-\"] != 0){\n",
        "        temp[i] <- gsub(\"-\", \"\", temp[i])\n",
        "    }\n",
        "}\n",
        "seqs_1_no_gaps <- temp\n",
        "head(alphabetFrequency(seqs_1_no_gaps))\n",
        "head(alphabetFrequency(seqs_1))"
      ]
    },
    {
      "cell_type": "markdown",
      "metadata": {
        "id": "oo5tMIo3J_pU"
      },
      "source": [
        "3. Convert all sequences to uppercase."
      ]
    },
    {
      "cell_type": "code",
      "execution_count": 8,
      "metadata": {
        "id": "KqfYJMMXRMoH",
        "vscode": {
          "languageId": "r"
        }
      },
      "outputs": [
        {
          "data": {
            "text/html": [
              "<style>\n",
              ".list-inline {list-style: none; margin:0; padding: 0}\n",
              ".list-inline>li {display: inline-block}\n",
              ".list-inline>li:not(:last-child)::after {content: \"\\00b7\"; padding: 0 .5ex}\n",
              "</style>\n",
              "<ol class=list-inline><li>TRUE</li><li>TRUE</li><li>TRUE</li><li>TRUE</li><li>TRUE</li><li>TRUE</li></ol>\n"
            ],
            "text/latex": [
              "\\begin{enumerate*}\n",
              "\\item TRUE\n",
              "\\item TRUE\n",
              "\\item TRUE\n",
              "\\item TRUE\n",
              "\\item TRUE\n",
              "\\item TRUE\n",
              "\\end{enumerate*}\n"
            ],
            "text/markdown": [
              "1. TRUE\n",
              "2. TRUE\n",
              "3. TRUE\n",
              "4. TRUE\n",
              "5. TRUE\n",
              "6. TRUE\n",
              "\n",
              "\n"
            ],
            "text/plain": [
              "[1] TRUE TRUE TRUE TRUE TRUE TRUE"
            ]
          },
          "metadata": {},
          "output_type": "display_data"
        }
      ],
      "source": [
        "# Using readDNAStringSet makes sure that all sequences are converted to uppercase\n",
        "head(seqs_1) == toupper(head(seqs_1))"
      ]
    },
    {
      "cell_type": "markdown",
      "metadata": {
        "id": "dPRbEM0Q5VfD"
      },
      "source": [
        "## Part 2: Using Built-in Libraries for Sequence Alignment"
      ]
    },
    {
      "cell_type": "markdown",
      "metadata": {
        "id": "AzSS_-BiJ_pU"
      },
      "source": [
        "Use at least the below Sequences in your execution:\n",
        "1. Sequence A: AGCTGAACTAGCTAGCTGACTGACTGACTAGCTAGCTGACTAGCTG\n",
        "2. Sequence B: AGCGAACTAGCTGACTGACGACTGACTAGCTGACTAGCTGACTAGC"
      ]
    },
    {
      "cell_type": "code",
      "execution_count": 9,
      "metadata": {
        "id": "IJCSjvA11YiW",
        "vscode": {
          "languageId": "r"
        }
      },
      "outputs": [],
      "source": [
        "seq_a <- DNAString(\"AGCTGAACTAGCTAGCTGACTGACTGACTAGCTAGCTGACTAGCTG\")\n",
        "seq_b <- DNAString(\"AGCGAACTAGCTGACTGACGACTGACTAGCTGACTAGCTGACTAGC\")"
      ]
    },
    {
      "cell_type": "markdown",
      "metadata": {
        "id": "7f5WrD0QJ_pU"
      },
      "source": [
        "### Task 2.1: Pairwise Sequence Alignment with Biostrings"
      ]
    },
    {
      "cell_type": "markdown",
      "metadata": {
        "id": "DnmsLjLnJ_pU"
      },
      "source": [
        "1.  Use the ‘pairwiseAlignment’ function from the Biostrings package to perform alignments."
      ]
    },
    {
      "cell_type": "code",
      "execution_count": 10,
      "metadata": {
        "id": "wwCYv1cSROcw",
        "vscode": {
          "languageId": "r"
        }
      },
      "outputs": [
        {
          "data": {
            "text/plain": [
              "Global PairwiseAlignmentsSingleSubject (1 of 1)\n",
              "pattern: \u001b[47m\u001b[30mA\u001b[39m\u001b[49m\u001b[47m\u001b[30mG\u001b[39m\u001b[49m\u001b[47m\u001b[30mC\u001b[39m\u001b[49m\u001b[47m\u001b[30mT\u001b[39m\u001b[49m\u001b[47m\u001b[30mG\u001b[39m\u001b[49m\u001b[47m\u001b[30mA\u001b[39m\u001b[49m\u001b[47m\u001b[30mA\u001b[39m\u001b[49m\u001b[47m\u001b[30mC\u001b[39m\u001b[49m\u001b[47m\u001b[30mT\u001b[39m\u001b[49m\u001b[47m\u001b[30mA\u001b[39m\u001b[49m\u001b[47m\u001b[30mG\u001b[39m\u001b[49m\u001b[47m\u001b[30mC\u001b[39m\u001b[49m\u001b[47m\u001b[30mT\u001b[39m\u001b[49m\u001b[47m\u001b[30mA\u001b[39m\u001b[49m\u001b[47m\u001b[30mG\u001b[39m\u001b[49m\u001b[47m\u001b[30mC\u001b[39m\u001b[49m\u001b[47m\u001b[30mT\u001b[39m\u001b[49m\u001b[47m\u001b[30mG\u001b[39m\u001b[49m\u001b[47m\u001b[30mA\u001b[39m\u001b[49m\u001b[47m\u001b[30mC\u001b[39m\u001b[49m\u001b[47m\u001b[30mT\u001b[39m\u001b[49m\u001b[47m\u001b[30mG\u001b[39m\u001b[49m\u001b[47m\u001b[30mA\u001b[39m\u001b[49m\u001b[47m\u001b[30mC\u001b[39m\u001b[49m\u001b[47m\u001b[30mT\u001b[39m\u001b[49m\u001b[47m\u001b[30mG\u001b[39m\u001b[49m\u001b[47m\u001b[30mA\u001b[39m\u001b[49m\u001b[47m\u001b[30mC\u001b[39m\u001b[49m\u001b[47m\u001b[30mT\u001b[39m\u001b[49m\u001b[47m\u001b[30mA\u001b[39m\u001b[49m\u001b[47m\u001b[30mG\u001b[39m\u001b[49m\u001b[47m\u001b[30mC\u001b[39m\u001b[49m\u001b[47m\u001b[30mT\u001b[39m\u001b[49m----\u001b[47m\u001b[30mA\u001b[39m\u001b[49m\u001b[47m\u001b[30mG\u001b[39m\u001b[49m\u001b[47m\u001b[30mC\u001b[39m\u001b[49m\u001b[47m\u001b[30mT\u001b[39m\u001b[49m\u001b[47m\u001b[30mG\u001b[39m\u001b[49m\u001b[47m\u001b[30mA\u001b[39m\u001b[49m\u001b[47m\u001b[30mC\u001b[39m\u001b[49m\u001b[47m\u001b[30mT\u001b[39m\u001b[49m\u001b[47m\u001b[30mA\u001b[39m\u001b[49m\u001b[47m\u001b[30mG\u001b[39m\u001b[49m\u001b[47m\u001b[30mC\u001b[39m\u001b[49m\u001b[47m\u001b[30mT\u001b[39m\u001b[49m\u001b[47m\u001b[30mG\u001b[39m\u001b[49m\n",
              "subject: \u001b[47m\u001b[30mA\u001b[39m\u001b[49m\u001b[47m\u001b[30mG\u001b[39m\u001b[49m\u001b[47m\u001b[30mC\u001b[39m\u001b[49m-\u001b[47m\u001b[30mG\u001b[39m\u001b[49m\u001b[47m\u001b[30mA\u001b[39m\u001b[49m\u001b[47m\u001b[30mA\u001b[39m\u001b[49m\u001b[47m\u001b[30mC\u001b[39m\u001b[49m\u001b[47m\u001b[30mT\u001b[39m\u001b[49m\u001b[47m\u001b[30mA\u001b[39m\u001b[49m\u001b[47m\u001b[30mG\u001b[39m\u001b[49m\u001b[47m\u001b[30mC\u001b[39m\u001b[49m\u001b[47m\u001b[30mT\u001b[39m\u001b[49m\u001b[47m\u001b[30mG\u001b[39m\u001b[49m\u001b[47m\u001b[30mA\u001b[39m\u001b[49m\u001b[47m\u001b[30mC\u001b[39m\u001b[49m\u001b[47m\u001b[30mT\u001b[39m\u001b[49m\u001b[47m\u001b[30mG\u001b[39m\u001b[49m\u001b[47m\u001b[30mA\u001b[39m\u001b[49m\u001b[47m\u001b[30mC\u001b[39m\u001b[49m-\u001b[47m\u001b[30mG\u001b[39m\u001b[49m\u001b[47m\u001b[30mA\u001b[39m\u001b[49m\u001b[47m\u001b[30mC\u001b[39m\u001b[49m\u001b[47m\u001b[30mT\u001b[39m\u001b[49m\u001b[47m\u001b[30mG\u001b[39m\u001b[49m\u001b[47m\u001b[30mA\u001b[39m\u001b[49m\u001b[47m\u001b[30mC\u001b[39m\u001b[49m\u001b[47m\u001b[30mT\u001b[39m\u001b[49m\u001b[47m\u001b[30mA\u001b[39m\u001b[49m\u001b[47m\u001b[30mG\u001b[39m\u001b[49m\u001b[47m\u001b[30mC\u001b[39m\u001b[49m\u001b[47m\u001b[30mT\u001b[39m\u001b[49m\u001b[47m\u001b[30mG\u001b[39m\u001b[49m\u001b[47m\u001b[30mA\u001b[39m\u001b[49m\u001b[47m\u001b[30mC\u001b[39m\u001b[49m\u001b[47m\u001b[30mT\u001b[39m\u001b[49m\u001b[47m\u001b[30mA\u001b[39m\u001b[49m\u001b[47m\u001b[30mG\u001b[39m\u001b[49m\u001b[47m\u001b[30mC\u001b[39m\u001b[49m\u001b[47m\u001b[30mT\u001b[39m\u001b[49m\u001b[47m\u001b[30mG\u001b[39m\u001b[49m\u001b[47m\u001b[30mA\u001b[39m\u001b[49m\u001b[47m\u001b[30mC\u001b[39m\u001b[49m\u001b[47m\u001b[30mT\u001b[39m\u001b[49m\u001b[47m\u001b[30mA\u001b[39m\u001b[49m\u001b[47m\u001b[30mG\u001b[39m\u001b[49m\u001b[47m\u001b[30mC\u001b[39m\u001b[49m--\n",
              "score: 26 "
            ]
          },
          "metadata": {},
          "output_type": "display_data"
        }
      ],
      "source": [
        "mat <- nucleotideSubstitutionMatrix(match = 1, mismatch = -1)\n",
        "result<-pairwiseAlignment(seq_a, seq_b, type=\"global\", substitutionMatrix = mat, gapOpening = -1, gapExtension = -1)\n",
        "result"
      ]
    },
    {
      "cell_type": "markdown",
      "metadata": {
        "id": "SFeqtfUaJ_pV"
      },
      "source": [
        "2.  Compare the results (aligned sequences, scores) with those from custom implementations."
      ]
    },
    {
      "cell_type": "code",
      "execution_count": 11,
      "metadata": {
        "vscode": {
          "languageId": "r"
        }
      },
      "outputs": [],
      "source": [
        "# using the custom implementation of Needleman-Wunsch algorithm from this url https://bioboot.github.io/bimm143_W20/class-material/nw/\n",
        "seq_a_custom <- DNAString(\"AGCTGAACTAGCT-AGCTGAC-\")\n",
        "seq_a_custom <- DNAString(\"AGC-GAACTAGCTGA-CTGACG\")\n",
        "score_custom <- 14\n",
        "mat_custom <- nucleotideSubstitutionMatrix(match = 1, mismatch = -1)\n",
        "gapOpening_custom <- -1\n",
        "gapExtension_custom <- -1"
      ]
    },
    {
      "cell_type": "markdown",
      "metadata": {
        "id": "8Yy2nLvz6Nx6"
      },
      "source": [
        "## Part 3: Jupyter Notebook Report\n",
        "\n",
        "- Introduction: Use a Markdown cell to introduce the objective of this Notebook.\n",
        "- Methodology: Explain the methods and libraries used in this Notebook.\n",
        "- Results: All the code cells from Parts 1 to 4 serve as the results.\n",
        "- Discussion: Use a Markdown cell to discuss the observations and interpretations of the tasks and results.\n",
        "- Conclusion: Summarize the entire assignment and the findings in a Markdown cell."
      ]
    },
    {
      "cell_type": "markdown",
      "metadata": {
        "id": "w9hZtXJXJ_pV"
      },
      "source": [
        "#### Methodology\n",
        "\n",
        "Basic data fetching using rentrez, and using Biostings to manipulate DNA sequences, using 2 libraries (rentrez, Biostrings)"
      ]
    },
    {
      "cell_type": "markdown",
      "metadata": {
        "id": "USlCeCaLJ_pV"
      },
      "source": [
        "#### Results\n",
        "\n",
        "Biostrings make it easy to manipulate and handle the usual DNA sequences including gaps and ambiguous DNA sequences, and pairwiseAlignment creates the most optimal alignment according to a substitution matrix."
      ]
    }
  ],
  "metadata": {
    "colab": {
      "provenance": []
    },
    "kernelspec": {
      "display_name": "R",
      "language": "R",
      "name": "ir"
    },
    "language_info": {
      "codemirror_mode": "r",
      "file_extension": ".r",
      "mimetype": "text/x-r-source",
      "name": "R",
      "pygments_lexer": "r",
      "version": "4.3.1"
    }
  },
  "nbformat": 4,
  "nbformat_minor": 0
}
