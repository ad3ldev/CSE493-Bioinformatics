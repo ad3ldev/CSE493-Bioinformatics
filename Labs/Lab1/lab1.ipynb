{
  "cells": [
    {
      "cell_type": "markdown",
      "metadata": {
        "id": "m2I4tX5l03rG"
      },
      "source": [
        "# Lab 1: Introduction to R Language for Bioinformatics-1\n",
        "\n",
        "- Name: AbdelRahman Adel AbdelFattah\n",
        "- ID: 17012296"
      ]
    },
    {
      "cell_type": "markdown",
      "metadata": {
        "id": "ZNl3I_221t0A"
      },
      "source": [
        "\n",
        "## Objective\n",
        "\n",
        "Introduce students to basic R programming and its applications in bioinformatics. Upon completion, students should be able to use basic R syntax and perform data manipulation.\n"
      ]
    },
    {
      "cell_type": "markdown",
      "metadata": {
        "id": "Ahw_xSnz1v3f"
      },
      "source": [
        "## Prerequisites\n",
        "- Basic programming knowledge.\n",
        "- Installed R, RStudio, and Jupyter Notebook with R kernel (IRkernel) local environment or Google Colab."
      ]
    },
    {
      "cell_type": "markdown",
      "metadata": {
        "id": "ODQrEoOV1zjc"
      },
      "source": [
        "\n",
        "## Part 1: Basic Syntax, Loop Structures, Conditional Statements, and Data Types"
      ]
    },
    {
      "cell_type": "markdown",
      "metadata": {
        "id": "Ha-XVeiz1gmM"
      },
      "source": [
        "### Task 1.1: Variables and Data Types\n",
        "\n",
        "1.   Declare and initialize variables of various data types (e.g., integer, double, string).*italicised text*"
      ]
    },
    {
      "cell_type": "code",
      "execution_count": 1,
      "metadata": {
        "id": "eX3ENKnN0pgD",
        "vscode": {
          "languageId": "r"
        }
      },
      "outputs": [],
      "source": [
        "x_char <- 'a'\n",
        "x_string <- \"string\"\n",
        "x_integer <- 2L\n",
        "x_numeric <- 23\n",
        "x_real <- 2.0324\n",
        "x_bool <- TRUE\n",
        "x_complex <- 1+4i"
      ]
    },
    {
      "cell_type": "markdown",
      "metadata": {
        "id": "xU-uybdO2GEo"
      },
      "source": [
        "2. Display the variables."
      ]
    },
    {
      "cell_type": "code",
      "execution_count": 2,
      "metadata": {
        "colab": {
          "base_uri": "https://localhost:8080/",
          "height": 136
        },
        "id": "BdeUTzyu2L6c",
        "outputId": "e96471c3-7216-4746-c2d1-5c6d43e91a5f",
        "vscode": {
          "languageId": "r"
        }
      },
      "outputs": [
        {
          "data": {
            "text/html": [
              "'a'"
            ],
            "text/latex": [
              "'a'"
            ],
            "text/markdown": [
              "'a'"
            ],
            "text/plain": [
              "[1] \"a\""
            ]
          },
          "metadata": {},
          "output_type": "display_data"
        },
        {
          "data": {
            "text/html": [
              "'string'"
            ],
            "text/latex": [
              "'string'"
            ],
            "text/markdown": [
              "'string'"
            ],
            "text/plain": [
              "[1] \"string\""
            ]
          },
          "metadata": {},
          "output_type": "display_data"
        },
        {
          "data": {
            "text/html": [
              "2"
            ],
            "text/latex": [
              "2"
            ],
            "text/markdown": [
              "2"
            ],
            "text/plain": [
              "[1] 2"
            ]
          },
          "metadata": {},
          "output_type": "display_data"
        },
        {
          "data": {
            "text/html": [
              "23"
            ],
            "text/latex": [
              "23"
            ],
            "text/markdown": [
              "23"
            ],
            "text/plain": [
              "[1] 23"
            ]
          },
          "metadata": {},
          "output_type": "display_data"
        },
        {
          "data": {
            "text/html": [
              "2.0324"
            ],
            "text/latex": [
              "2.0324"
            ],
            "text/markdown": [
              "2.0324"
            ],
            "text/plain": [
              "[1] 2.0324"
            ]
          },
          "metadata": {},
          "output_type": "display_data"
        },
        {
          "data": {
            "text/html": [
              "TRUE"
            ],
            "text/latex": [
              "TRUE"
            ],
            "text/markdown": [
              "TRUE"
            ],
            "text/plain": [
              "[1] TRUE"
            ]
          },
          "metadata": {},
          "output_type": "display_data"
        },
        {
          "data": {
            "text/html": [
              "1+4i"
            ],
            "text/latex": [
              "1+4i"
            ],
            "text/markdown": [
              "1+4i"
            ],
            "text/plain": [
              "[1] 1+4i"
            ]
          },
          "metadata": {},
          "output_type": "display_data"
        }
      ],
      "source": [
        "x_char\n",
        "x_string\n",
        "x_integer\n",
        "x_numeric\n",
        "x_real\n",
        "x_bool\n",
        "x_complex"
      ]
    },
    {
      "cell_type": "markdown",
      "metadata": {
        "id": "cF6x4iHG2gki"
      },
      "source": [
        "3. Identify the data types of these variables using R functions."
      ]
    },
    {
      "cell_type": "code",
      "execution_count": 3,
      "metadata": {
        "id": "EZu4nrSW2hxl",
        "vscode": {
          "languageId": "r"
        }
      },
      "outputs": [
        {
          "data": {
            "text/html": [
              "'character'"
            ],
            "text/latex": [
              "'character'"
            ],
            "text/markdown": [
              "'character'"
            ],
            "text/plain": [
              "[1] \"character\""
            ]
          },
          "metadata": {},
          "output_type": "display_data"
        },
        {
          "data": {
            "text/html": [
              "'character'"
            ],
            "text/latex": [
              "'character'"
            ],
            "text/markdown": [
              "'character'"
            ],
            "text/plain": [
              "[1] \"character\""
            ]
          },
          "metadata": {},
          "output_type": "display_data"
        },
        {
          "data": {
            "text/html": [
              "'integer'"
            ],
            "text/latex": [
              "'integer'"
            ],
            "text/markdown": [
              "'integer'"
            ],
            "text/plain": [
              "[1] \"integer\""
            ]
          },
          "metadata": {},
          "output_type": "display_data"
        },
        {
          "data": {
            "text/html": [
              "'double'"
            ],
            "text/latex": [
              "'double'"
            ],
            "text/markdown": [
              "'double'"
            ],
            "text/plain": [
              "[1] \"double\""
            ]
          },
          "metadata": {},
          "output_type": "display_data"
        },
        {
          "data": {
            "text/html": [
              "'double'"
            ],
            "text/latex": [
              "'double'"
            ],
            "text/markdown": [
              "'double'"
            ],
            "text/plain": [
              "[1] \"double\""
            ]
          },
          "metadata": {},
          "output_type": "display_data"
        },
        {
          "data": {
            "text/html": [
              "'logical'"
            ],
            "text/latex": [
              "'logical'"
            ],
            "text/markdown": [
              "'logical'"
            ],
            "text/plain": [
              "[1] \"logical\""
            ]
          },
          "metadata": {},
          "output_type": "display_data"
        },
        {
          "data": {
            "text/html": [
              "'complex'"
            ],
            "text/latex": [
              "'complex'"
            ],
            "text/markdown": [
              "'complex'"
            ],
            "text/plain": [
              "[1] \"complex\""
            ]
          },
          "metadata": {},
          "output_type": "display_data"
        }
      ],
      "source": [
        "typeof(x_char)\n",
        "typeof(x_string)\n",
        "typeof(x_integer)\n",
        "typeof(x_numeric)\n",
        "typeof(x_real)\n",
        "typeof(x_bool)\n",
        "typeof(x_complex)"
      ]
    },
    {
      "cell_type": "markdown",
      "metadata": {
        "id": "0Bs82E2-20N0"
      },
      "source": [
        "### Task 1.2: Loop Structures and Conditional Statements\n",
        "\n",
        "1. Write a for loop to iterate over a vector and print each element."
      ]
    },
    {
      "cell_type": "code",
      "execution_count": 4,
      "metadata": {
        "colab": {
          "base_uri": "https://localhost:8080/"
        },
        "id": "SxXZ1iN83ImA",
        "outputId": "3a9e518d-cbb7-41a5-9dfc-1538890c2e9a",
        "vscode": {
          "languageId": "r"
        }
      },
      "outputs": [
        {
          "name": "stdout",
          "output_type": "stream",
          "text": [
            "[1] \"banana\"\n",
            "[1] \"apple\"\n",
            "[1] \"orange\"\n"
          ]
        }
      ],
      "source": [
        "fruits <- c(\"banana\", \"apple\", \"orange\")\n",
        "for (x in fruits){\n",
        "  print (x)\n",
        "}"
      ]
    },
    {
      "cell_type": "markdown",
      "metadata": {
        "id": "FZIWd5812-jZ"
      },
      "source": [
        "2. Implement a while loop to perform a countdown from 10 to 0."
      ]
    },
    {
      "cell_type": "code",
      "execution_count": 5,
      "metadata": {
        "colab": {
          "base_uri": "https://localhost:8080/"
        },
        "id": "F9HO_l-O3JJI",
        "outputId": "c6dfc274-7b29-4312-a2d9-359dc40fbdc8",
        "vscode": {
          "languageId": "r"
        }
      },
      "outputs": [
        {
          "name": "stdout",
          "output_type": "stream",
          "text": [
            "[1] 10\n",
            "[1] 9\n",
            "[1] 8\n",
            "[1] 7\n",
            "[1] 6\n",
            "[1] 5\n",
            "[1] 4\n",
            "[1] 3\n",
            "[1] 2\n",
            "[1] 1\n",
            "[1] 0\n"
          ]
        }
      ],
      "source": [
        "i <- 10\n",
        "while (i >= 0){\n",
        "  print(i)\n",
        "  i <- i - 1\n",
        "}"
      ]
    },
    {
      "cell_type": "markdown",
      "metadata": {
        "id": "yT11Ie7a3FW2"
      },
      "source": [
        "3. Create an if-else statement to check if a number is even or odd."
      ]
    },
    {
      "cell_type": "code",
      "execution_count": 6,
      "metadata": {
        "colab": {
          "base_uri": "https://localhost:8080/"
        },
        "id": "z2GSIrWQ3Jrh",
        "outputId": "a2d3a5d1-0446-4ec6-c688-4a042f598570",
        "vscode": {
          "languageId": "r"
        }
      },
      "outputs": [
        {
          "name": "stdout",
          "output_type": "stream",
          "text": [
            "[1] \"odd\"\n"
          ]
        }
      ],
      "source": [
        "num <- 25\n",
        "\n",
        "if (num %% 2 == 0){\n",
        "  print(\"even\")\n",
        "}else{\n",
        "  print(\"odd\")\n",
        "}"
      ]
    },
    {
      "cell_type": "markdown",
      "metadata": {
        "id": "dMfUqhkB4mhg"
      },
      "source": [
        "### Task 1.3: Vectors, Matrices, Tables, and Data Frames\n",
        "\n",
        "1. Generate a vector containing numbers from 1 to 10."
      ]
    },
    {
      "cell_type": "code",
      "execution_count": 7,
      "metadata": {
        "id": "e_MzCmpC4zEa",
        "vscode": {
          "languageId": "r"
        }
      },
      "outputs": [
        {
          "data": {
            "text/html": [
              "<style>\n",
              ".list-inline {list-style: none; margin:0; padding: 0}\n",
              ".list-inline>li {display: inline-block}\n",
              ".list-inline>li:not(:last-child)::after {content: \"\\00b7\"; padding: 0 .5ex}\n",
              "</style>\n",
              "<ol class=list-inline><li>1</li><li>2</li><li>3</li><li>4</li><li>5</li><li>6</li><li>7</li><li>8</li><li>9</li><li>10</li></ol>\n"
            ],
            "text/latex": [
              "\\begin{enumerate*}\n",
              "\\item 1\n",
              "\\item 2\n",
              "\\item 3\n",
              "\\item 4\n",
              "\\item 5\n",
              "\\item 6\n",
              "\\item 7\n",
              "\\item 8\n",
              "\\item 9\n",
              "\\item 10\n",
              "\\end{enumerate*}\n"
            ],
            "text/markdown": [
              "1. 1\n",
              "2. 2\n",
              "3. 3\n",
              "4. 4\n",
              "5. 5\n",
              "6. 6\n",
              "7. 7\n",
              "8. 8\n",
              "9. 9\n",
              "10. 10\n",
              "\n",
              "\n"
            ],
            "text/plain": [
              " [1]  1  2  3  4  5  6  7  8  9 10"
            ]
          },
          "metadata": {},
          "output_type": "display_data"
        }
      ],
      "source": [
        "nums <- 1:10\n",
        "nums"
      ]
    },
    {
      "cell_type": "markdown",
      "metadata": {
        "id": "XlP9rB1i4zRj"
      },
      "source": [
        "2. Create a matrix with 3 rows and 3 columns and fill it with random numbers."
      ]
    },
    {
      "cell_type": "code",
      "execution_count": 8,
      "metadata": {
        "id": "DmiKsUNO42u9",
        "vscode": {
          "languageId": "r"
        }
      },
      "outputs": [
        {
          "data": {
            "text/html": [
              "<table class=\"dataframe\">\n",
              "<caption>A matrix: 3 × 3 of type int</caption>\n",
              "<tbody>\n",
              "\t<tr><td>151</td><td> 12</td><td>60</td></tr>\n",
              "\t<tr><td>187</td><td>236</td><td>55</td></tr>\n",
              "\t<tr><td>110</td><td> 19</td><td>69</td></tr>\n",
              "</tbody>\n",
              "</table>\n"
            ],
            "text/latex": [
              "A matrix: 3 × 3 of type int\n",
              "\\begin{tabular}{lll}\n",
              "\t 151 &  12 & 60\\\\\n",
              "\t 187 & 236 & 55\\\\\n",
              "\t 110 &  19 & 69\\\\\n",
              "\\end{tabular}\n"
            ],
            "text/markdown": [
              "\n",
              "A matrix: 3 × 3 of type int\n",
              "\n",
              "| 151 |  12 | 60 |\n",
              "| 187 | 236 | 55 |\n",
              "| 110 |  19 | 69 |\n",
              "\n"
            ],
            "text/plain": [
              "     [,1] [,2] [,3]\n",
              "[1,] 151   12  60  \n",
              "[2,] 187  236  55  \n",
              "[3,] 110   19  69  "
            ]
          },
          "metadata": {},
          "output_type": "display_data"
        }
      ],
      "source": [
        "x_matrix <- matrix(sample(0:250, 9), nrow = 3, ncol = 3)\n",
        "x_matrix"
      ]
    },
    {
      "cell_type": "markdown",
      "metadata": {
        "id": "vp0gDZ7s423w"
      },
      "source": [
        "3. Create a table from a categorical vector."
      ]
    },
    {
      "cell_type": "code",
      "execution_count": 9,
      "metadata": {
        "id": "zPSQGbK546Qb",
        "vscode": {
          "languageId": "r"
        }
      },
      "outputs": [
        {
          "data": {
            "text/plain": [
              "fruits\n",
              " apple banana orange \n",
              "     2      3      1 "
            ]
          },
          "metadata": {},
          "output_type": "display_data"
        }
      ],
      "source": [
        "fruits <- c(\"banana\", \"apple\", \"orange\", \"banana\", \"banana\", \"apple\")\n",
        "\n",
        "x_table <- table(fruits)\n",
        "x_table"
      ]
    },
    {
      "cell_type": "markdown",
      "metadata": {
        "id": "V0lbbV2t46mv"
      },
      "source": [
        "4. Generate a simple data frame with 3 columns: Name, Age, and Gender."
      ]
    },
    {
      "cell_type": "code",
      "execution_count": 10,
      "metadata": {
        "id": "jkmiAlvF4_wP",
        "vscode": {
          "languageId": "r"
        }
      },
      "outputs": [
        {
          "data": {
            "text/html": [
              "<table class=\"dataframe\">\n",
              "<caption>A data.frame: 3 × 3</caption>\n",
              "<thead>\n",
              "\t<tr><th scope=col>Name</th><th scope=col>Age</th><th scope=col>Gender</th></tr>\n",
              "\t<tr><th scope=col>&lt;chr&gt;</th><th scope=col>&lt;dbl&gt;</th><th scope=col>&lt;chr&gt;</th></tr>\n",
              "</thead>\n",
              "<tbody>\n",
              "\t<tr><td>Alex</td><td>12</td><td>F</td></tr>\n",
              "\t<tr><td>Bob </td><td>39</td><td>M</td></tr>\n",
              "\t<tr><td>Cat </td><td>25</td><td>F</td></tr>\n",
              "</tbody>\n",
              "</table>\n"
            ],
            "text/latex": [
              "A data.frame: 3 × 3\n",
              "\\begin{tabular}{lll}\n",
              " Name & Age & Gender\\\\\n",
              " <chr> & <dbl> & <chr>\\\\\n",
              "\\hline\n",
              "\t Alex & 12 & F\\\\\n",
              "\t Bob  & 39 & M\\\\\n",
              "\t Cat  & 25 & F\\\\\n",
              "\\end{tabular}\n"
            ],
            "text/markdown": [
              "\n",
              "A data.frame: 3 × 3\n",
              "\n",
              "| Name &lt;chr&gt; | Age &lt;dbl&gt; | Gender &lt;chr&gt; |\n",
              "|---|---|---|\n",
              "| Alex | 12 | F |\n",
              "| Bob  | 39 | M |\n",
              "| Cat  | 25 | F |\n",
              "\n"
            ],
            "text/plain": [
              "  Name Age Gender\n",
              "1 Alex 12  F     \n",
              "2 Bob  39  M     \n",
              "3 Cat  25  F     "
            ]
          },
          "metadata": {},
          "output_type": "display_data"
        }
      ],
      "source": [
        "x_data <- data.frame(\"Name\" = c(\"Alex\", \"Bob\", \"Cat\"), \"Age\"=c(12, 39, 25), \"Gender\"=c(\"F\",\"M\", \"F\"))\n",
        "\n",
        "x_data"
      ]
    },
    {
      "cell_type": "markdown",
      "metadata": {
        "id": "a4g5B1Sy5Auz"
      },
      "source": [
        "### Task 1.4: Introduction to Data Tables in R\n",
        "\n",
        "1. Install and load the data.table package."
      ]
    },
    {
      "cell_type": "code",
      "execution_count": 11,
      "metadata": {
        "id": "2sUcoEt25KNn",
        "vscode": {
          "languageId": "r"
        }
      },
      "outputs": [
        {
          "name": "stderr",
          "output_type": "stream",
          "text": [
            "Installing package into '/opt/homebrew/lib/R/4.3/site-library'\n",
            "(as 'lib' is unspecified)\n",
            "\n",
            "Warning message in install.packages(\"data.table\"):\n",
            "\"installation of package 'data.table' had non-zero exit status\"\n"
          ]
        },
        {
          "ename": "ERROR",
          "evalue": "Error in library(\"data.table\"): there is no package called 'data.table'\n",
          "output_type": "error",
          "traceback": [
            "Error in library(\"data.table\"): there is no package called 'data.table'\nTraceback:\n",
            "1. library(\"data.table\")"
          ]
        }
      ],
      "source": [
        "install.packages(\"data.table\") \n",
        "library(\"data.table\")"
      ]
    },
    {
      "cell_type": "markdown",
      "metadata": {
        "id": "-kIj9DTI5KlX"
      },
      "source": [
        "2. Convert a data.frame to a data.table."
      ]
    },
    {
      "cell_type": "code",
      "execution_count": null,
      "metadata": {
        "id": "pnmAtBuy5Nat",
        "vscode": {
          "languageId": "r"
        }
      },
      "outputs": [
        {
          "data": {
            "text/html": [
              "FALSE"
            ],
            "text/latex": [
              "FALSE"
            ],
            "text/markdown": [
              "FALSE"
            ],
            "text/plain": [
              "[1] FALSE"
            ]
          },
          "metadata": {},
          "output_type": "display_data"
        },
        {
          "data": {
            "text/html": [
              "<table class=\"dataframe\">\n",
              "<caption>A data.frame: 3 × 3</caption>\n",
              "<thead>\n",
              "\t<tr><th scope=col>Name</th><th scope=col>Age</th><th scope=col>Gender</th></tr>\n",
              "\t<tr><th scope=col>&lt;chr&gt;</th><th scope=col>&lt;dbl&gt;</th><th scope=col>&lt;chr&gt;</th></tr>\n",
              "</thead>\n",
              "<tbody>\n",
              "\t<tr><td>Alex</td><td>12</td><td>F</td></tr>\n",
              "\t<tr><td>Bob </td><td>39</td><td>M</td></tr>\n",
              "\t<tr><td>Cat </td><td>25</td><td>F</td></tr>\n",
              "</tbody>\n",
              "</table>\n"
            ],
            "text/latex": [
              "A data.frame: 3 × 3\n",
              "\\begin{tabular}{lll}\n",
              " Name & Age & Gender\\\\\n",
              " <chr> & <dbl> & <chr>\\\\\n",
              "\\hline\n",
              "\t Alex & 12 & F\\\\\n",
              "\t Bob  & 39 & M\\\\\n",
              "\t Cat  & 25 & F\\\\\n",
              "\\end{tabular}\n"
            ],
            "text/markdown": [
              "\n",
              "A data.frame: 3 × 3\n",
              "\n",
              "| Name &lt;chr&gt; | Age &lt;dbl&gt; | Gender &lt;chr&gt; |\n",
              "|---|---|---|\n",
              "| Alex | 12 | F |\n",
              "| Bob  | 39 | M |\n",
              "| Cat  | 25 | F |\n",
              "\n"
            ],
            "text/plain": [
              "  Name Age Gender\n",
              "1 Alex 12  F     \n",
              "2 Bob  39  M     \n",
              "3 Cat  25  F     "
            ]
          },
          "metadata": {},
          "output_type": "display_data"
        },
        {
          "data": {
            "text/html": [
              "TRUE"
            ],
            "text/latex": [
              "TRUE"
            ],
            "text/markdown": [
              "TRUE"
            ],
            "text/plain": [
              "[1] TRUE"
            ]
          },
          "metadata": {},
          "output_type": "display_data"
        },
        {
          "data": {
            "text/html": [
              "<table class=\"dataframe\">\n",
              "<caption>A data.table: 3 × 3</caption>\n",
              "<thead>\n",
              "\t<tr><th scope=col>Name</th><th scope=col>Age</th><th scope=col>Gender</th></tr>\n",
              "\t<tr><th scope=col>&lt;chr&gt;</th><th scope=col>&lt;dbl&gt;</th><th scope=col>&lt;chr&gt;</th></tr>\n",
              "</thead>\n",
              "<tbody>\n",
              "\t<tr><td>Alex</td><td>12</td><td>F</td></tr>\n",
              "\t<tr><td>Bob </td><td>39</td><td>M</td></tr>\n",
              "\t<tr><td>Cat </td><td>25</td><td>F</td></tr>\n",
              "</tbody>\n",
              "</table>\n"
            ],
            "text/latex": [
              "A data.table: 3 × 3\n",
              "\\begin{tabular}{lll}\n",
              " Name & Age & Gender\\\\\n",
              " <chr> & <dbl> & <chr>\\\\\n",
              "\\hline\n",
              "\t Alex & 12 & F\\\\\n",
              "\t Bob  & 39 & M\\\\\n",
              "\t Cat  & 25 & F\\\\\n",
              "\\end{tabular}\n"
            ],
            "text/markdown": [
              "\n",
              "A data.table: 3 × 3\n",
              "\n",
              "| Name &lt;chr&gt; | Age &lt;dbl&gt; | Gender &lt;chr&gt; |\n",
              "|---|---|---|\n",
              "| Alex | 12 | F |\n",
              "| Bob  | 39 | M |\n",
              "| Cat  | 25 | F |\n",
              "\n"
            ],
            "text/plain": [
              "  Name Age Gender\n",
              "1 Alex 12  F     \n",
              "2 Bob  39  M     \n",
              "3 Cat  25  F     "
            ]
          },
          "metadata": {},
          "output_type": "display_data"
        }
      ],
      "source": [
        "x_data_table <- copy(x_data)\n",
        "is.data.table(x_data_table)\n",
        "x_data_table\n",
        "\n",
        "setDT(x_data_table)\n",
        "is.data.table(x_data_table)\n",
        "x_data_table"
      ]
    },
    {
      "cell_type": "markdown",
      "metadata": {
        "id": "i3l759jT5Nin"
      },
      "source": [
        "3. Perform basic operations such as subsetting rows, updating columns by reference, performing aggregations, and joining two data tables."
      ]
    },
    {
      "cell_type": "code",
      "execution_count": null,
      "metadata": {
        "id": "EF9dIgpr5UZu",
        "vscode": {
          "languageId": "r"
        }
      },
      "outputs": [
        {
          "data": {
            "text/html": [
              "<table class=\"dataframe\">\n",
              "<caption>A data.table: 2 × 3</caption>\n",
              "<thead>\n",
              "\t<tr><th scope=col>Name</th><th scope=col>Age</th><th scope=col>Gender</th></tr>\n",
              "\t<tr><th scope=col>&lt;chr&gt;</th><th scope=col>&lt;dbl&gt;</th><th scope=col>&lt;chr&gt;</th></tr>\n",
              "</thead>\n",
              "<tbody>\n",
              "\t<tr><td>Alex</td><td>12</td><td>F</td></tr>\n",
              "\t<tr><td>Bob </td><td>39</td><td>M</td></tr>\n",
              "</tbody>\n",
              "</table>\n"
            ],
            "text/latex": [
              "A data.table: 2 × 3\n",
              "\\begin{tabular}{lll}\n",
              " Name & Age & Gender\\\\\n",
              " <chr> & <dbl> & <chr>\\\\\n",
              "\\hline\n",
              "\t Alex & 12 & F\\\\\n",
              "\t Bob  & 39 & M\\\\\n",
              "\\end{tabular}\n"
            ],
            "text/markdown": [
              "\n",
              "A data.table: 2 × 3\n",
              "\n",
              "| Name &lt;chr&gt; | Age &lt;dbl&gt; | Gender &lt;chr&gt; |\n",
              "|---|---|---|\n",
              "| Alex | 12 | F |\n",
              "| Bob  | 39 | M |\n",
              "\n"
            ],
            "text/plain": [
              "  Name Age Gender\n",
              "1 Alex 12  F     \n",
              "2 Bob  39  M     "
            ]
          },
          "metadata": {},
          "output_type": "display_data"
        },
        {
          "data": {
            "text/html": [
              "<table class=\"dataframe\">\n",
              "<caption>A data.table: 1 × 3</caption>\n",
              "<thead>\n",
              "\t<tr><th scope=col>Name</th><th scope=col>Age</th><th scope=col>Gender</th></tr>\n",
              "\t<tr><th scope=col>&lt;chr&gt;</th><th scope=col>&lt;dbl&gt;</th><th scope=col>&lt;chr&gt;</th></tr>\n",
              "</thead>\n",
              "<tbody>\n",
              "\t<tr><td>Bob</td><td>39</td><td>M</td></tr>\n",
              "</tbody>\n",
              "</table>\n"
            ],
            "text/latex": [
              "A data.table: 1 × 3\n",
              "\\begin{tabular}{lll}\n",
              " Name & Age & Gender\\\\\n",
              " <chr> & <dbl> & <chr>\\\\\n",
              "\\hline\n",
              "\t Bob & 39 & M\\\\\n",
              "\\end{tabular}\n"
            ],
            "text/markdown": [
              "\n",
              "A data.table: 1 × 3\n",
              "\n",
              "| Name &lt;chr&gt; | Age &lt;dbl&gt; | Gender &lt;chr&gt; |\n",
              "|---|---|---|\n",
              "| Bob | 39 | M |\n",
              "\n"
            ],
            "text/plain": [
              "  Name Age Gender\n",
              "1 Bob  39  M     "
            ]
          },
          "metadata": {},
          "output_type": "display_data"
        },
        {
          "data": {
            "text/html": [
              "<table class=\"dataframe\">\n",
              "<caption>A data.table: 2 × 3</caption>\n",
              "<thead>\n",
              "\t<tr><th scope=col>Name</th><th scope=col>Age</th><th scope=col>Gender</th></tr>\n",
              "\t<tr><th scope=col>&lt;chr&gt;</th><th scope=col>&lt;dbl&gt;</th><th scope=col>&lt;chr&gt;</th></tr>\n",
              "</thead>\n",
              "<tbody>\n",
              "\t<tr><td>Bob</td><td>39</td><td>M</td></tr>\n",
              "\t<tr><td>Cat</td><td>25</td><td>F</td></tr>\n",
              "</tbody>\n",
              "</table>\n"
            ],
            "text/latex": [
              "A data.table: 2 × 3\n",
              "\\begin{tabular}{lll}\n",
              " Name & Age & Gender\\\\\n",
              " <chr> & <dbl> & <chr>\\\\\n",
              "\\hline\n",
              "\t Bob & 39 & M\\\\\n",
              "\t Cat & 25 & F\\\\\n",
              "\\end{tabular}\n"
            ],
            "text/markdown": [
              "\n",
              "A data.table: 2 × 3\n",
              "\n",
              "| Name &lt;chr&gt; | Age &lt;dbl&gt; | Gender &lt;chr&gt; |\n",
              "|---|---|---|\n",
              "| Bob | 39 | M |\n",
              "| Cat | 25 | F |\n",
              "\n"
            ],
            "text/plain": [
              "  Name Age Gender\n",
              "1 Bob  39  M     \n",
              "2 Cat  25  F     "
            ]
          },
          "metadata": {},
          "output_type": "display_data"
        },
        {
          "data": {
            "text/html": [
              "<table class=\"dataframe\">\n",
              "<caption>A data.table: 3 × 3</caption>\n",
              "<thead>\n",
              "\t<tr><th scope=col>Name</th><th scope=col>Age</th><th scope=col>Gender</th></tr>\n",
              "\t<tr><th scope=col>&lt;chr&gt;</th><th scope=col>&lt;dbl&gt;</th><th scope=col>&lt;chr&gt;</th></tr>\n",
              "</thead>\n",
              "<tbody>\n",
              "\t<tr><td>Alex</td><td>15</td><td>F</td></tr>\n",
              "\t<tr><td>Bob </td><td>39</td><td>M</td></tr>\n",
              "\t<tr><td>Cat </td><td>25</td><td>F</td></tr>\n",
              "</tbody>\n",
              "</table>\n"
            ],
            "text/latex": [
              "A data.table: 3 × 3\n",
              "\\begin{tabular}{lll}\n",
              " Name & Age & Gender\\\\\n",
              " <chr> & <dbl> & <chr>\\\\\n",
              "\\hline\n",
              "\t Alex & 15 & F\\\\\n",
              "\t Bob  & 39 & M\\\\\n",
              "\t Cat  & 25 & F\\\\\n",
              "\\end{tabular}\n"
            ],
            "text/markdown": [
              "\n",
              "A data.table: 3 × 3\n",
              "\n",
              "| Name &lt;chr&gt; | Age &lt;dbl&gt; | Gender &lt;chr&gt; |\n",
              "|---|---|---|\n",
              "| Alex | 15 | F |\n",
              "| Bob  | 39 | M |\n",
              "| Cat  | 25 | F |\n",
              "\n"
            ],
            "text/plain": [
              "  Name Age Gender\n",
              "1 Alex 15  F     \n",
              "2 Bob  39  M     \n",
              "3 Cat  25  F     "
            ]
          },
          "metadata": {},
          "output_type": "display_data"
        },
        {
          "data": {
            "text/html": [
              "<table class=\"dataframe\">\n",
              "<caption>A data.table: 3 × 3</caption>\n",
              "<thead>\n",
              "\t<tr><th scope=col>Name</th><th scope=col>Age</th><th scope=col>Gender</th></tr>\n",
              "\t<tr><th scope=col>&lt;chr&gt;</th><th scope=col>&lt;dbl&gt;</th><th scope=col>&lt;chr&gt;</th></tr>\n",
              "</thead>\n",
              "<tbody>\n",
              "\t<tr><td>Alex</td><td>1</td><td>F</td></tr>\n",
              "\t<tr><td>Bob </td><td>2</td><td>M</td></tr>\n",
              "\t<tr><td>Cat </td><td>3</td><td>F</td></tr>\n",
              "</tbody>\n",
              "</table>\n"
            ],
            "text/latex": [
              "A data.table: 3 × 3\n",
              "\\begin{tabular}{lll}\n",
              " Name & Age & Gender\\\\\n",
              " <chr> & <dbl> & <chr>\\\\\n",
              "\\hline\n",
              "\t Alex & 1 & F\\\\\n",
              "\t Bob  & 2 & M\\\\\n",
              "\t Cat  & 3 & F\\\\\n",
              "\\end{tabular}\n"
            ],
            "text/markdown": [
              "\n",
              "A data.table: 3 × 3\n",
              "\n",
              "| Name &lt;chr&gt; | Age &lt;dbl&gt; | Gender &lt;chr&gt; |\n",
              "|---|---|---|\n",
              "| Alex | 1 | F |\n",
              "| Bob  | 2 | M |\n",
              "| Cat  | 3 | F |\n",
              "\n"
            ],
            "text/plain": [
              "  Name Age Gender\n",
              "1 Alex 1   F     \n",
              "2 Bob  2   M     \n",
              "3 Cat  3   F     "
            ]
          },
          "metadata": {},
          "output_type": "display_data"
        },
        {
          "name": "stdout",
          "output_type": "stream",
          "text": [
            "   group group2 sum\n",
            "1:     a      b   9\n",
            "2:     b      b  12\n",
            "   value group.x group2 group.y group3\n",
            "1:     1       a      b       a      c\n",
            "2:     2       b      b       b      c\n",
            "3:     3       a      b       a      c\n",
            "4:     4       b      b       b      c\n",
            "5:     5       a      b       a      c\n",
            "6:     6       b      b       b      c\n"
          ]
        }
      ],
      "source": [
        "x_data_table[1:2,]\n",
        "x_data_table[2,]\n",
        "x_data_table[2:3,]\n",
        "\n",
        "x_data_table[1,\"Age\"] <- 15\n",
        "x_data_table\n",
        "\n",
        "x_data_table[, \"Age\"] <- c(1,2,3)\n",
        "x_data_table\n",
        "\n",
        "x_table <- data.table(value = 1:6,group = factor(letters[1:2]), group2 = factor(letters[2]))\n",
        "print(x_table[, .(sum = sum(value)), by = .(group, group2)])\n",
        "\n",
        "x_table2 <- data.table(value = 1:6,group = factor(letters[1:2]), group3 = factor(letters[3]))\n",
        "print(merge(x_table, x_table2, by = \"value\", all = TRUE))"
      ]
    },
    {
      "cell_type": "markdown",
      "metadata": {
        "id": "dPRbEM0Q5VfD"
      },
      "source": [
        "## Part 2: Data Filtering"
      ]
    },
    {
      "cell_type": "markdown",
      "metadata": {
        "id": "fDcg24E85afo"
      },
      "source": [
        "### Task 2.1: Data Filtering\n",
        "\n",
        "1.  Load the RNA-Seq dataset of Escherichia coli [Escherichia coli RNA sequence dataset](https://www.ncbi.nlm.nih.gov/geo/query/acc.cgi?acc=GSE71562)."
      ]
    },
    {
      "cell_type": "code",
      "execution_count": null,
      "metadata": {
        "vscode": {
          "languageId": "r"
        }
      },
      "outputs": [
        {
          "name": "stderr",
          "output_type": "stream",
          "text": [
            "Installing package into '/opt/homebrew/lib/R/4.3/site-library'\n",
            "(as 'lib' is unspecified)\n",
            "\n"
          ]
        }
      ],
      "source": [
        "install.packages(\"readxl\")\n",
        "library(\"readxl\")\n"
      ]
    },
    {
      "cell_type": "code",
      "execution_count": null,
      "metadata": {
        "vscode": {
          "languageId": "r"
        }
      },
      "outputs": [
        {
          "name": "stderr",
          "output_type": "stream",
          "text": [
            "\u001b[1m\u001b[22mNew names:\n",
            "\u001b[36m*\u001b[39m `` -> `...1`\n"
          ]
        }
      ],
      "source": [
        "esch_coli <- setDT(read_xlsx(\"GSE71562_E14R012_raw_counts.xlsx\"))"
      ]
    },
    {
      "cell_type": "code",
      "execution_count": null,
      "metadata": {
        "id": "ZHcJufu25wst",
        "vscode": {
          "languageId": "r"
        }
      },
      "outputs": [
        {
          "data": {
            "text/html": [
              "<table class=\"dataframe\">\n",
              "<caption>A data.table: 4319 × 19</caption>\n",
              "<thead>\n",
              "\t<tr><th scope=col>...1</th><th scope=col>E14R012a01</th><th scope=col>E14R012a02</th><th scope=col>E14R012a03</th><th scope=col>E14R012a04</th><th scope=col>E14R012a05</th><th scope=col>E14R012a06</th><th scope=col>E14R012b01</th><th scope=col>E14R012b02</th><th scope=col>E14R012b03</th><th scope=col>E14R012b04</th><th scope=col>E14R012b05</th><th scope=col>E14R012b06</th><th scope=col>E14R012c01</th><th scope=col>E14R012c02</th><th scope=col>E14R012c03</th><th scope=col>E14R012c04</th><th scope=col>E14R012c05</th><th scope=col>E14R012c06</th></tr>\n",
              "\t<tr><th scope=col>&lt;chr&gt;</th><th scope=col>&lt;dbl&gt;</th><th scope=col>&lt;dbl&gt;</th><th scope=col>&lt;dbl&gt;</th><th scope=col>&lt;dbl&gt;</th><th scope=col>&lt;dbl&gt;</th><th scope=col>&lt;dbl&gt;</th><th scope=col>&lt;dbl&gt;</th><th scope=col>&lt;dbl&gt;</th><th scope=col>&lt;dbl&gt;</th><th scope=col>&lt;dbl&gt;</th><th scope=col>&lt;dbl&gt;</th><th scope=col>&lt;dbl&gt;</th><th scope=col>&lt;dbl&gt;</th><th scope=col>&lt;dbl&gt;</th><th scope=col>&lt;dbl&gt;</th><th scope=col>&lt;dbl&gt;</th><th scope=col>&lt;dbl&gt;</th><th scope=col>&lt;dbl&gt;</th></tr>\n",
              "</thead>\n",
              "<tbody>\n",
              "\t<tr><td>aaeA</td><td>  100</td><td>   56</td><td>   44</td><td>   94</td><td>   32</td><td>   38</td><td>  55</td><td>  41</td><td>   74</td><td>   89</td><td>    88</td><td>  101</td><td>  29</td><td>  109</td><td>  132</td><td>   90</td><td>   50</td><td>   66</td></tr>\n",
              "\t<tr><td>aaeB</td><td>  116</td><td>   47</td><td>   54</td><td>   80</td><td>   37</td><td>   43</td><td>  54</td><td>  31</td><td>   72</td><td>   75</td><td>    69</td><td>  123</td><td>  22</td><td>  101</td><td>  104</td><td>   88</td><td>   58</td><td>   81</td></tr>\n",
              "\t<tr><td>aaeR</td><td>  316</td><td>  253</td><td>  249</td><td>  396</td><td>  181</td><td>  176</td><td> 220</td><td> 164</td><td>  277</td><td>  363</td><td>   400</td><td>  333</td><td> 117</td><td>  381</td><td>  521</td><td>  393</td><td>  194</td><td>  213</td></tr>\n",
              "\t<tr><td>aaeX</td><td>   77</td><td>   53</td><td>   53</td><td>   86</td><td>   46</td><td>   37</td><td>  68</td><td>  35</td><td>   70</td><td>   85</td><td>    96</td><td>   91</td><td>  52</td><td>   76</td><td>  134</td><td>  132</td><td>   45</td><td>   58</td></tr>\n",
              "\t<tr><td>aas </td><td>  407</td><td>  286</td><td>  283</td><td>  375</td><td>  188</td><td>  169</td><td> 265</td><td> 189</td><td>  380</td><td>  362</td><td>   399</td><td>  427</td><td> 128</td><td>  471</td><td>  614</td><td>  470</td><td>  208</td><td>  283</td></tr>\n",
              "\t<tr><td>aat </td><td>  243</td><td>  169</td><td>  163</td><td>  252</td><td>  104</td><td>  169</td><td> 104</td><td> 116</td><td>  219</td><td>  263</td><td>   232</td><td>  300</td><td>  68</td><td>  233</td><td>  348</td><td>  237</td><td>  123</td><td>  202</td></tr>\n",
              "\t<tr><td>abgA</td><td>   33</td><td>   14</td><td>    4</td><td>   16</td><td>    5</td><td>   10</td><td>   7</td><td>   6</td><td>   15</td><td>   25</td><td>    23</td><td>   29</td><td>   9</td><td>   19</td><td>   26</td><td>   26</td><td>   21</td><td>   16</td></tr>\n",
              "\t<tr><td>abgB</td><td>   84</td><td>   43</td><td>   39</td><td>   84</td><td>   41</td><td>   34</td><td>  45</td><td>  25</td><td>   52</td><td>   58</td><td>    68</td><td>   99</td><td>  13</td><td>   53</td><td>  104</td><td>   87</td><td>   66</td><td>   36</td></tr>\n",
              "\t<tr><td>abgR</td><td>   57</td><td>   34</td><td>   33</td><td>   49</td><td>   31</td><td>   17</td><td>  26</td><td>  29</td><td>   32</td><td>   50</td><td>    53</td><td>   65</td><td>  15</td><td>   59</td><td>   76</td><td>   53</td><td>   35</td><td>   35</td></tr>\n",
              "\t<tr><td>abgT</td><td>   54</td><td>   18</td><td>   20</td><td>   38</td><td>   16</td><td>   23</td><td>  17</td><td>  14</td><td>   26</td><td>   31</td><td>    37</td><td>   65</td><td>  16</td><td>   42</td><td>   41</td><td>   37</td><td>   33</td><td>   24</td></tr>\n",
              "\t<tr><td>abrB</td><td>  168</td><td>   87</td><td>   59</td><td>   85</td><td>   39</td><td>   28</td><td>  72</td><td>  37</td><td>   61</td><td>   62</td><td>    57</td><td>   73</td><td>  46</td><td>  121</td><td>  121</td><td>   70</td><td>   44</td><td>   44</td></tr>\n",
              "\t<tr><td>accA</td><td> 1697</td><td> 1311</td><td> 1383</td><td> 1923</td><td>  991</td><td> 1014</td><td> 843</td><td> 858</td><td> 1769</td><td> 1726</td><td>  1903</td><td> 2037</td><td> 551</td><td> 1833</td><td> 2892</td><td> 1730</td><td>  868</td><td> 1205</td></tr>\n",
              "\t<tr><td>accB</td><td> 2251</td><td> 1589</td><td> 1430</td><td> 2213</td><td> 1152</td><td> 1268</td><td>1385</td><td>1142</td><td> 2046</td><td> 1721</td><td>  1741</td><td> 1972</td><td> 714</td><td> 2738</td><td> 3616</td><td> 2274</td><td>  824</td><td> 1036</td></tr>\n",
              "\t<tr><td>accC</td><td> 3455</td><td> 2476</td><td> 2458</td><td> 3342</td><td> 1632</td><td> 2061</td><td>1918</td><td>1786</td><td> 3298</td><td> 2562</td><td>  2455</td><td> 2708</td><td>1215</td><td> 3832</td><td> 5798</td><td> 3270</td><td> 1242</td><td> 1549</td></tr>\n",
              "\t<tr><td>accD</td><td> 3703</td><td> 2782</td><td> 2698</td><td> 3801</td><td> 2094</td><td> 2245</td><td>1655</td><td>1672</td><td> 3246</td><td> 3241</td><td>  3643</td><td> 4018</td><td> 986</td><td> 4206</td><td> 5934</td><td> 4135</td><td> 2056</td><td> 2393</td></tr>\n",
              "\t<tr><td>aceA</td><td> 7504</td><td> 6128</td><td> 6266</td><td>18036</td><td>17943</td><td>19741</td><td>4890</td><td>4029</td><td>10336</td><td>17512</td><td> 36115</td><td>36246</td><td>2135</td><td> 6797</td><td>13635</td><td>13673</td><td>11191</td><td>18071</td></tr>\n",
              "\t<tr><td>aceB</td><td>14621</td><td>11841</td><td>14504</td><td>37278</td><td>26575</td><td>20508</td><td>8725</td><td>7625</td><td>23785</td><td>32095</td><td> 50934</td><td>45007</td><td>4129</td><td>14100</td><td>29049</td><td>29926</td><td>18950</td><td>23297</td></tr>\n",
              "\t<tr><td>aceE</td><td> 5014</td><td> 4015</td><td> 5592</td><td>48489</td><td>69608</td><td>62316</td><td>3236</td><td>2629</td><td>15857</td><td>50081</td><td>123510</td><td>96158</td><td>1365</td><td> 4384</td><td>11286</td><td>37133</td><td>44134</td><td>50136</td></tr>\n",
              "\t<tr><td>aceF</td><td> 2918</td><td> 2321</td><td> 2276</td><td> 5233</td><td>30171</td><td>33593</td><td>1893</td><td>1482</td><td> 3506</td><td> 6638</td><td> 59601</td><td>53738</td><td> 870</td><td> 2720</td><td> 5321</td><td> 4115</td><td>20187</td><td>29913</td></tr>\n",
              "\t<tr><td>aceK</td><td> 1100</td><td>  773</td><td>  884</td><td> 1867</td><td> 2196</td><td> 2783</td><td> 659</td><td> 475</td><td> 1180</td><td> 1964</td><td>  4593</td><td> 4751</td><td> 319</td><td> 1064</td><td> 1611</td><td> 1492</td><td> 1627</td><td> 2715</td></tr>\n",
              "\t<tr><td>ackA</td><td>12323</td><td> 9815</td><td> 9020</td><td>12770</td><td> 4441</td><td> 3811</td><td>7523</td><td>5353</td><td>11573</td><td> 9647</td><td>  8032</td><td> 5415</td><td>3644</td><td>12143</td><td>20234</td><td>11491</td><td> 3160</td><td> 2901</td></tr>\n",
              "\t<tr><td>acnA</td><td>  757</td><td>  603</td><td>  711</td><td> 2529</td><td> 2452</td><td> 2347</td><td> 507</td><td> 413</td><td> 1451</td><td> 2667</td><td>  5561</td><td> 5514</td><td> 225</td><td>  776</td><td> 1689</td><td> 2243</td><td> 1967</td><td> 2941</td></tr>\n",
              "\t<tr><td>acnB</td><td> 1654</td><td> 1312</td><td> 2198</td><td>13189</td><td>16464</td><td>15863</td><td>1029</td><td>1113</td><td> 6024</td><td>16032</td><td> 36113</td><td>26821</td><td> 481</td><td> 1638</td><td> 4988</td><td>11244</td><td>12518</td><td>14688</td></tr>\n",
              "\t<tr><td>acpP</td><td> 7934</td><td> 6968</td><td> 6921</td><td>10782</td><td> 4423</td><td> 5105</td><td>4914</td><td>4097</td><td> 7384</td><td> 8470</td><td>  9571</td><td>11074</td><td>2802</td><td>10651</td><td>14311</td><td>13139</td><td> 5210</td><td> 6717</td></tr>\n",
              "\t<tr><td>acpS</td><td>  199</td><td>  159</td><td>  162</td><td>  228</td><td>   76</td><td>   69</td><td> 119</td><td> 109</td><td>  190</td><td>  213</td><td>   212</td><td>  156</td><td>  62</td><td>  276</td><td>  350</td><td>  253</td><td>   93</td><td>   99</td></tr>\n",
              "\t<tr><td>acpT</td><td>  294</td><td>  218</td><td>  229</td><td>  271</td><td>  140</td><td>  112</td><td> 132</td><td> 128</td><td>  232</td><td>  244</td><td>   260</td><td>  290</td><td>  99</td><td>  338</td><td>  444</td><td>  318</td><td>  130</td><td>  178</td></tr>\n",
              "\t<tr><td>acrA</td><td> 1088</td><td>  837</td><td>  834</td><td> 1219</td><td>  809</td><td>  840</td><td> 671</td><td> 583</td><td> 1154</td><td> 1145</td><td>  1474</td><td> 1489</td><td> 369</td><td> 1245</td><td> 2016</td><td> 1277</td><td>  669</td><td>  873</td></tr>\n",
              "\t<tr><td>acrB</td><td> 2594</td><td> 1883</td><td> 1949</td><td> 3160</td><td> 1602</td><td> 1993</td><td>1400</td><td>1272</td><td> 2894</td><td> 2702</td><td>  3181</td><td> 3362</td><td> 727</td><td> 2570</td><td> 4171</td><td> 3181</td><td> 1582</td><td> 1959</td></tr>\n",
              "\t<tr><td>acrD</td><td>  285</td><td>  172</td><td>  170</td><td>  270</td><td>  107</td><td>  115</td><td>  96</td><td> 107</td><td>  228</td><td>  177</td><td>   223</td><td>  238</td><td>  70</td><td>  247</td><td>  331</td><td>  217</td><td>  134</td><td>  131</td></tr>\n",
              "\t<tr><td>acrE</td><td>   42</td><td>   10</td><td>   13</td><td>   13</td><td>    5</td><td>   13</td><td>   8</td><td>   4</td><td>   17</td><td>   14</td><td>    13</td><td>   31</td><td>  10</td><td>   23</td><td>   21</td><td>   17</td><td>   12</td><td>    9</td></tr>\n",
              "\t<tr><td>⋮</td><td>⋮</td><td>⋮</td><td>⋮</td><td>⋮</td><td>⋮</td><td>⋮</td><td>⋮</td><td>⋮</td><td>⋮</td><td>⋮</td><td>⋮</td><td>⋮</td><td>⋮</td><td>⋮</td><td>⋮</td><td>⋮</td><td>⋮</td><td>⋮</td></tr>\n",
              "\t<tr><td>ytfI</td><td>  43</td><td>  10</td><td>   5</td><td>  19</td><td>  13</td><td>  14</td><td> 14</td><td>  7</td><td>  11</td><td>  15</td><td>  24</td><td>  34</td><td>  9</td><td>  25</td><td>  26</td><td>  32</td><td>  19</td><td>   9</td></tr>\n",
              "\t<tr><td>ytfJ</td><td>  35</td><td>  14</td><td>   9</td><td>  29</td><td>  12</td><td>  19</td><td> 13</td><td>  6</td><td>  12</td><td>  16</td><td>  31</td><td>  59</td><td>  8</td><td>  29</td><td>  28</td><td>  30</td><td>  13</td><td>  23</td></tr>\n",
              "\t<tr><td>ytfK</td><td> 112</td><td>  88</td><td>  92</td><td> 165</td><td>  87</td><td> 237</td><td> 64</td><td> 57</td><td>  74</td><td> 132</td><td> 229</td><td> 500</td><td> 48</td><td> 157</td><td> 168</td><td> 184</td><td> 134</td><td> 353</td></tr>\n",
              "\t<tr><td>ytfL</td><td> 242</td><td> 152</td><td> 156</td><td> 231</td><td> 103</td><td> 101</td><td> 97</td><td> 78</td><td> 164</td><td> 178</td><td> 216</td><td> 239</td><td> 64</td><td> 198</td><td> 275</td><td> 210</td><td> 126</td><td> 158</td></tr>\n",
              "\t<tr><td>ytfM</td><td> 580</td><td> 484</td><td> 523</td><td> 749</td><td> 380</td><td> 333</td><td>389</td><td>337</td><td> 675</td><td> 814</td><td> 910</td><td> 938</td><td>215</td><td> 806</td><td>1299</td><td> 869</td><td> 331</td><td> 461</td></tr>\n",
              "\t<tr><td>ytfN</td><td>1195</td><td> 851</td><td> 923</td><td>1419</td><td> 605</td><td> 604</td><td>628</td><td>593</td><td>1350</td><td>1186</td><td>1327</td><td>1473</td><td>342</td><td>1434</td><td>2031</td><td>1721</td><td> 704</td><td> 887</td></tr>\n",
              "\t<tr><td>ytfP</td><td> 220</td><td> 163</td><td> 102</td><td> 217</td><td>  90</td><td>  78</td><td> 85</td><td> 76</td><td> 185</td><td> 170</td><td> 208</td><td> 220</td><td> 44</td><td> 251</td><td> 270</td><td> 259</td><td> 156</td><td> 129</td></tr>\n",
              "\t<tr><td>ytfQ</td><td>  68</td><td>  36</td><td>  43</td><td>  75</td><td>  27</td><td>  46</td><td> 24</td><td> 26</td><td>  51</td><td>  58</td><td>  75</td><td>  83</td><td> 14</td><td>  45</td><td>  84</td><td>  73</td><td>  33</td><td>  45</td></tr>\n",
              "\t<tr><td>ytfR</td><td>  95</td><td>  34</td><td>  33</td><td>  58</td><td>  30</td><td>  22</td><td> 26</td><td> 20</td><td>  57</td><td>  46</td><td>  62</td><td>  78</td><td> 10</td><td>  48</td><td>  68</td><td>  49</td><td>  27</td><td>  29</td></tr>\n",
              "\t<tr><td>ytfT</td><td>  28</td><td>  15</td><td>   4</td><td>  15</td><td>   5</td><td>  10</td><td>  7</td><td>  3</td><td>  26</td><td>  22</td><td>  21</td><td>  33</td><td>  8</td><td>  16</td><td>  29</td><td>  22</td><td>  19</td><td>  15</td></tr>\n",
              "\t<tr><td>ytjA</td><td>  99</td><td>  97</td><td>  92</td><td> 345</td><td> 396</td><td> 555</td><td> 91</td><td> 69</td><td> 219</td><td> 440</td><td>1134</td><td>1993</td><td> 38</td><td> 136</td><td> 226</td><td> 425</td><td> 384</td><td> 834</td></tr>\n",
              "\t<tr><td>ytjB</td><td> 135</td><td> 110</td><td> 124</td><td> 169</td><td>  92</td><td>  82</td><td> 71</td><td> 84</td><td> 146</td><td> 167</td><td> 191</td><td> 188</td><td> 48</td><td> 161</td><td> 278</td><td> 233</td><td>  75</td><td>  93</td></tr>\n",
              "\t<tr><td>ytjC</td><td> 507</td><td> 389</td><td> 351</td><td> 478</td><td> 279</td><td> 296</td><td>243</td><td>250</td><td> 400</td><td> 412</td><td> 499</td><td> 557</td><td>137</td><td> 574</td><td> 795</td><td> 519</td><td> 232</td><td> 348</td></tr>\n",
              "\t<tr><td>yzcX</td><td>  49</td><td>  31</td><td>  21</td><td>  34</td><td>  27</td><td>  35</td><td> 32</td><td> 21</td><td>  26</td><td>  33</td><td>  28</td><td>  69</td><td> 11</td><td>  63</td><td>  71</td><td>  37</td><td>  21</td><td>  24</td></tr>\n",
              "\t<tr><td>yzfA</td><td>  22</td><td>  12</td><td>   8</td><td>  18</td><td>   4</td><td>   8</td><td>  4</td><td>  3</td><td>   7</td><td>  11</td><td>   7</td><td>  11</td><td>  3</td><td>  10</td><td>   7</td><td>   9</td><td>   7</td><td>  12</td></tr>\n",
              "\t<tr><td>yzgL</td><td>  24</td><td>  13</td><td>  10</td><td>  21</td><td>  15</td><td>  21</td><td> 13</td><td> 10</td><td>  13</td><td>  17</td><td>  20</td><td>  40</td><td>  6</td><td>  30</td><td>  24</td><td>  27</td><td>  13</td><td>  18</td></tr>\n",
              "\t<tr><td>zapA</td><td>1573</td><td>1179</td><td>1240</td><td>1713</td><td> 879</td><td> 726</td><td>779</td><td>660</td><td>1245</td><td>1366</td><td>1789</td><td>1862</td><td>504</td><td>1850</td><td>2306</td><td>2209</td><td>1025</td><td>1145</td></tr>\n",
              "\t<tr><td>zipA</td><td>1537</td><td>1364</td><td>1331</td><td>2043</td><td>1212</td><td>1089</td><td>966</td><td>962</td><td>1775</td><td>2075</td><td>2374</td><td>2605</td><td>638</td><td>2421</td><td>3016</td><td>2445</td><td>1239</td><td>1710</td></tr>\n",
              "\t<tr><td>zitB</td><td> 542</td><td> 370</td><td> 364</td><td> 569</td><td> 239</td><td> 157</td><td>270</td><td>198</td><td> 496</td><td> 384</td><td> 406</td><td> 338</td><td>165</td><td> 563</td><td> 746</td><td> 592</td><td> 239</td><td> 250</td></tr>\n",
              "\t<tr><td>zntA</td><td> 576</td><td> 518</td><td> 428</td><td> 657</td><td> 350</td><td> 265</td><td>360</td><td>334</td><td> 545</td><td> 547</td><td> 566</td><td> 624</td><td>209</td><td> 823</td><td>1003</td><td> 707</td><td> 320</td><td> 563</td></tr>\n",
              "\t<tr><td>zntR</td><td> 189</td><td> 138</td><td> 127</td><td> 244</td><td> 119</td><td> 126</td><td>114</td><td> 70</td><td> 160</td><td> 165</td><td> 209</td><td> 261</td><td> 57</td><td> 223</td><td> 353</td><td> 262</td><td> 115</td><td> 143</td></tr>\n",
              "\t<tr><td>znuA</td><td> 327</td><td> 231</td><td> 226</td><td> 410</td><td> 238</td><td> 194</td><td>213</td><td>241</td><td> 365</td><td> 380</td><td> 422</td><td> 419</td><td>109</td><td> 433</td><td> 555</td><td> 440</td><td> 170</td><td> 226</td></tr>\n",
              "\t<tr><td>znuB</td><td> 154</td><td> 101</td><td> 123</td><td> 168</td><td>  58</td><td>  71</td><td> 57</td><td> 62</td><td> 138</td><td> 113</td><td> 138</td><td> 169</td><td> 44</td><td> 134</td><td> 185</td><td> 137</td><td>  63</td><td>  90</td></tr>\n",
              "\t<tr><td>znuC</td><td> 293</td><td> 207</td><td> 189</td><td> 326</td><td> 160</td><td> 126</td><td>137</td><td>124</td><td> 268</td><td> 276</td><td> 298</td><td> 280</td><td> 90</td><td> 255</td><td> 428</td><td> 289</td><td> 167</td><td> 151</td></tr>\n",
              "\t<tr><td>zraP</td><td> 108</td><td>  79</td><td>  66</td><td> 102</td><td>  50</td><td>  35</td><td> 52</td><td> 41</td><td>  82</td><td>  86</td><td>  98</td><td>  72</td><td> 30</td><td> 134</td><td> 188</td><td> 143</td><td>  50</td><td>  62</td></tr>\n",
              "\t<tr><td>zraR</td><td> 212</td><td> 131</td><td> 142</td><td> 195</td><td>  89</td><td>  84</td><td> 83</td><td> 77</td><td> 150</td><td> 130</td><td> 134</td><td> 188</td><td> 52</td><td> 200</td><td> 282</td><td> 181</td><td>  94</td><td>  91</td></tr>\n",
              "\t<tr><td>zraS</td><td>  75</td><td>  35</td><td>  37</td><td>  53</td><td>  27</td><td>  16</td><td> 36</td><td> 16</td><td>  60</td><td>  37</td><td>  51</td><td>  71</td><td> 16</td><td>  72</td><td>  69</td><td>  48</td><td>  30</td><td>  33</td></tr>\n",
              "\t<tr><td>zupT</td><td> 112</td><td>  60</td><td>  81</td><td> 109</td><td>  46</td><td>  35</td><td> 55</td><td> 44</td><td>  85</td><td>  66</td><td>  80</td><td> 114</td><td> 38</td><td> 111</td><td> 140</td><td> 114</td><td>  59</td><td>  57</td></tr>\n",
              "\t<tr><td>zur </td><td> 254</td><td> 192</td><td> 158</td><td> 225</td><td> 120</td><td> 136</td><td>150</td><td> 98</td><td> 194</td><td> 201</td><td> 210</td><td> 194</td><td> 78</td><td> 283</td><td> 328</td><td> 242</td><td> 109</td><td> 152</td></tr>\n",
              "\t<tr><td>zwf </td><td>1401</td><td>1125</td><td>1181</td><td>1746</td><td> 888</td><td> 917</td><td>909</td><td>692</td><td>1660</td><td>1612</td><td>1881</td><td>2095</td><td>402</td><td>1637</td><td>2896</td><td>1783</td><td> 801</td><td>1097</td></tr>\n",
              "</tbody>\n",
              "</table>\n"
            ],
            "text/latex": [
              "A data.table: 4319 × 19\n",
              "\\begin{tabular}{lllllllllllllllllll}\n",
              " ...1 & E14R012a01 & E14R012a02 & E14R012a03 & E14R012a04 & E14R012a05 & E14R012a06 & E14R012b01 & E14R012b02 & E14R012b03 & E14R012b04 & E14R012b05 & E14R012b06 & E14R012c01 & E14R012c02 & E14R012c03 & E14R012c04 & E14R012c05 & E14R012c06\\\\\n",
              " <chr> & <dbl> & <dbl> & <dbl> & <dbl> & <dbl> & <dbl> & <dbl> & <dbl> & <dbl> & <dbl> & <dbl> & <dbl> & <dbl> & <dbl> & <dbl> & <dbl> & <dbl> & <dbl>\\\\\n",
              "\\hline\n",
              "\t aaeA &   100 &    56 &    44 &    94 &    32 &    38 &   55 &   41 &    74 &    89 &     88 &   101 &   29 &   109 &   132 &    90 &    50 &    66\\\\\n",
              "\t aaeB &   116 &    47 &    54 &    80 &    37 &    43 &   54 &   31 &    72 &    75 &     69 &   123 &   22 &   101 &   104 &    88 &    58 &    81\\\\\n",
              "\t aaeR &   316 &   253 &   249 &   396 &   181 &   176 &  220 &  164 &   277 &   363 &    400 &   333 &  117 &   381 &   521 &   393 &   194 &   213\\\\\n",
              "\t aaeX &    77 &    53 &    53 &    86 &    46 &    37 &   68 &   35 &    70 &    85 &     96 &    91 &   52 &    76 &   134 &   132 &    45 &    58\\\\\n",
              "\t aas  &   407 &   286 &   283 &   375 &   188 &   169 &  265 &  189 &   380 &   362 &    399 &   427 &  128 &   471 &   614 &   470 &   208 &   283\\\\\n",
              "\t aat  &   243 &   169 &   163 &   252 &   104 &   169 &  104 &  116 &   219 &   263 &    232 &   300 &   68 &   233 &   348 &   237 &   123 &   202\\\\\n",
              "\t abgA &    33 &    14 &     4 &    16 &     5 &    10 &    7 &    6 &    15 &    25 &     23 &    29 &    9 &    19 &    26 &    26 &    21 &    16\\\\\n",
              "\t abgB &    84 &    43 &    39 &    84 &    41 &    34 &   45 &   25 &    52 &    58 &     68 &    99 &   13 &    53 &   104 &    87 &    66 &    36\\\\\n",
              "\t abgR &    57 &    34 &    33 &    49 &    31 &    17 &   26 &   29 &    32 &    50 &     53 &    65 &   15 &    59 &    76 &    53 &    35 &    35\\\\\n",
              "\t abgT &    54 &    18 &    20 &    38 &    16 &    23 &   17 &   14 &    26 &    31 &     37 &    65 &   16 &    42 &    41 &    37 &    33 &    24\\\\\n",
              "\t abrB &   168 &    87 &    59 &    85 &    39 &    28 &   72 &   37 &    61 &    62 &     57 &    73 &   46 &   121 &   121 &    70 &    44 &    44\\\\\n",
              "\t accA &  1697 &  1311 &  1383 &  1923 &   991 &  1014 &  843 &  858 &  1769 &  1726 &   1903 &  2037 &  551 &  1833 &  2892 &  1730 &   868 &  1205\\\\\n",
              "\t accB &  2251 &  1589 &  1430 &  2213 &  1152 &  1268 & 1385 & 1142 &  2046 &  1721 &   1741 &  1972 &  714 &  2738 &  3616 &  2274 &   824 &  1036\\\\\n",
              "\t accC &  3455 &  2476 &  2458 &  3342 &  1632 &  2061 & 1918 & 1786 &  3298 &  2562 &   2455 &  2708 & 1215 &  3832 &  5798 &  3270 &  1242 &  1549\\\\\n",
              "\t accD &  3703 &  2782 &  2698 &  3801 &  2094 &  2245 & 1655 & 1672 &  3246 &  3241 &   3643 &  4018 &  986 &  4206 &  5934 &  4135 &  2056 &  2393\\\\\n",
              "\t aceA &  7504 &  6128 &  6266 & 18036 & 17943 & 19741 & 4890 & 4029 & 10336 & 17512 &  36115 & 36246 & 2135 &  6797 & 13635 & 13673 & 11191 & 18071\\\\\n",
              "\t aceB & 14621 & 11841 & 14504 & 37278 & 26575 & 20508 & 8725 & 7625 & 23785 & 32095 &  50934 & 45007 & 4129 & 14100 & 29049 & 29926 & 18950 & 23297\\\\\n",
              "\t aceE &  5014 &  4015 &  5592 & 48489 & 69608 & 62316 & 3236 & 2629 & 15857 & 50081 & 123510 & 96158 & 1365 &  4384 & 11286 & 37133 & 44134 & 50136\\\\\n",
              "\t aceF &  2918 &  2321 &  2276 &  5233 & 30171 & 33593 & 1893 & 1482 &  3506 &  6638 &  59601 & 53738 &  870 &  2720 &  5321 &  4115 & 20187 & 29913\\\\\n",
              "\t aceK &  1100 &   773 &   884 &  1867 &  2196 &  2783 &  659 &  475 &  1180 &  1964 &   4593 &  4751 &  319 &  1064 &  1611 &  1492 &  1627 &  2715\\\\\n",
              "\t ackA & 12323 &  9815 &  9020 & 12770 &  4441 &  3811 & 7523 & 5353 & 11573 &  9647 &   8032 &  5415 & 3644 & 12143 & 20234 & 11491 &  3160 &  2901\\\\\n",
              "\t acnA &   757 &   603 &   711 &  2529 &  2452 &  2347 &  507 &  413 &  1451 &  2667 &   5561 &  5514 &  225 &   776 &  1689 &  2243 &  1967 &  2941\\\\\n",
              "\t acnB &  1654 &  1312 &  2198 & 13189 & 16464 & 15863 & 1029 & 1113 &  6024 & 16032 &  36113 & 26821 &  481 &  1638 &  4988 & 11244 & 12518 & 14688\\\\\n",
              "\t acpP &  7934 &  6968 &  6921 & 10782 &  4423 &  5105 & 4914 & 4097 &  7384 &  8470 &   9571 & 11074 & 2802 & 10651 & 14311 & 13139 &  5210 &  6717\\\\\n",
              "\t acpS &   199 &   159 &   162 &   228 &    76 &    69 &  119 &  109 &   190 &   213 &    212 &   156 &   62 &   276 &   350 &   253 &    93 &    99\\\\\n",
              "\t acpT &   294 &   218 &   229 &   271 &   140 &   112 &  132 &  128 &   232 &   244 &    260 &   290 &   99 &   338 &   444 &   318 &   130 &   178\\\\\n",
              "\t acrA &  1088 &   837 &   834 &  1219 &   809 &   840 &  671 &  583 &  1154 &  1145 &   1474 &  1489 &  369 &  1245 &  2016 &  1277 &   669 &   873\\\\\n",
              "\t acrB &  2594 &  1883 &  1949 &  3160 &  1602 &  1993 & 1400 & 1272 &  2894 &  2702 &   3181 &  3362 &  727 &  2570 &  4171 &  3181 &  1582 &  1959\\\\\n",
              "\t acrD &   285 &   172 &   170 &   270 &   107 &   115 &   96 &  107 &   228 &   177 &    223 &   238 &   70 &   247 &   331 &   217 &   134 &   131\\\\\n",
              "\t acrE &    42 &    10 &    13 &    13 &     5 &    13 &    8 &    4 &    17 &    14 &     13 &    31 &   10 &    23 &    21 &    17 &    12 &     9\\\\\n",
              "\t ⋮ & ⋮ & ⋮ & ⋮ & ⋮ & ⋮ & ⋮ & ⋮ & ⋮ & ⋮ & ⋮ & ⋮ & ⋮ & ⋮ & ⋮ & ⋮ & ⋮ & ⋮ & ⋮\\\\\n",
              "\t ytfI &   43 &   10 &    5 &   19 &   13 &   14 &  14 &   7 &   11 &   15 &   24 &   34 &   9 &   25 &   26 &   32 &   19 &    9\\\\\n",
              "\t ytfJ &   35 &   14 &    9 &   29 &   12 &   19 &  13 &   6 &   12 &   16 &   31 &   59 &   8 &   29 &   28 &   30 &   13 &   23\\\\\n",
              "\t ytfK &  112 &   88 &   92 &  165 &   87 &  237 &  64 &  57 &   74 &  132 &  229 &  500 &  48 &  157 &  168 &  184 &  134 &  353\\\\\n",
              "\t ytfL &  242 &  152 &  156 &  231 &  103 &  101 &  97 &  78 &  164 &  178 &  216 &  239 &  64 &  198 &  275 &  210 &  126 &  158\\\\\n",
              "\t ytfM &  580 &  484 &  523 &  749 &  380 &  333 & 389 & 337 &  675 &  814 &  910 &  938 & 215 &  806 & 1299 &  869 &  331 &  461\\\\\n",
              "\t ytfN & 1195 &  851 &  923 & 1419 &  605 &  604 & 628 & 593 & 1350 & 1186 & 1327 & 1473 & 342 & 1434 & 2031 & 1721 &  704 &  887\\\\\n",
              "\t ytfP &  220 &  163 &  102 &  217 &   90 &   78 &  85 &  76 &  185 &  170 &  208 &  220 &  44 &  251 &  270 &  259 &  156 &  129\\\\\n",
              "\t ytfQ &   68 &   36 &   43 &   75 &   27 &   46 &  24 &  26 &   51 &   58 &   75 &   83 &  14 &   45 &   84 &   73 &   33 &   45\\\\\n",
              "\t ytfR &   95 &   34 &   33 &   58 &   30 &   22 &  26 &  20 &   57 &   46 &   62 &   78 &  10 &   48 &   68 &   49 &   27 &   29\\\\\n",
              "\t ytfT &   28 &   15 &    4 &   15 &    5 &   10 &   7 &   3 &   26 &   22 &   21 &   33 &   8 &   16 &   29 &   22 &   19 &   15\\\\\n",
              "\t ytjA &   99 &   97 &   92 &  345 &  396 &  555 &  91 &  69 &  219 &  440 & 1134 & 1993 &  38 &  136 &  226 &  425 &  384 &  834\\\\\n",
              "\t ytjB &  135 &  110 &  124 &  169 &   92 &   82 &  71 &  84 &  146 &  167 &  191 &  188 &  48 &  161 &  278 &  233 &   75 &   93\\\\\n",
              "\t ytjC &  507 &  389 &  351 &  478 &  279 &  296 & 243 & 250 &  400 &  412 &  499 &  557 & 137 &  574 &  795 &  519 &  232 &  348\\\\\n",
              "\t yzcX &   49 &   31 &   21 &   34 &   27 &   35 &  32 &  21 &   26 &   33 &   28 &   69 &  11 &   63 &   71 &   37 &   21 &   24\\\\\n",
              "\t yzfA &   22 &   12 &    8 &   18 &    4 &    8 &   4 &   3 &    7 &   11 &    7 &   11 &   3 &   10 &    7 &    9 &    7 &   12\\\\\n",
              "\t yzgL &   24 &   13 &   10 &   21 &   15 &   21 &  13 &  10 &   13 &   17 &   20 &   40 &   6 &   30 &   24 &   27 &   13 &   18\\\\\n",
              "\t zapA & 1573 & 1179 & 1240 & 1713 &  879 &  726 & 779 & 660 & 1245 & 1366 & 1789 & 1862 & 504 & 1850 & 2306 & 2209 & 1025 & 1145\\\\\n",
              "\t zipA & 1537 & 1364 & 1331 & 2043 & 1212 & 1089 & 966 & 962 & 1775 & 2075 & 2374 & 2605 & 638 & 2421 & 3016 & 2445 & 1239 & 1710\\\\\n",
              "\t zitB &  542 &  370 &  364 &  569 &  239 &  157 & 270 & 198 &  496 &  384 &  406 &  338 & 165 &  563 &  746 &  592 &  239 &  250\\\\\n",
              "\t zntA &  576 &  518 &  428 &  657 &  350 &  265 & 360 & 334 &  545 &  547 &  566 &  624 & 209 &  823 & 1003 &  707 &  320 &  563\\\\\n",
              "\t zntR &  189 &  138 &  127 &  244 &  119 &  126 & 114 &  70 &  160 &  165 &  209 &  261 &  57 &  223 &  353 &  262 &  115 &  143\\\\\n",
              "\t znuA &  327 &  231 &  226 &  410 &  238 &  194 & 213 & 241 &  365 &  380 &  422 &  419 & 109 &  433 &  555 &  440 &  170 &  226\\\\\n",
              "\t znuB &  154 &  101 &  123 &  168 &   58 &   71 &  57 &  62 &  138 &  113 &  138 &  169 &  44 &  134 &  185 &  137 &   63 &   90\\\\\n",
              "\t znuC &  293 &  207 &  189 &  326 &  160 &  126 & 137 & 124 &  268 &  276 &  298 &  280 &  90 &  255 &  428 &  289 &  167 &  151\\\\\n",
              "\t zraP &  108 &   79 &   66 &  102 &   50 &   35 &  52 &  41 &   82 &   86 &   98 &   72 &  30 &  134 &  188 &  143 &   50 &   62\\\\\n",
              "\t zraR &  212 &  131 &  142 &  195 &   89 &   84 &  83 &  77 &  150 &  130 &  134 &  188 &  52 &  200 &  282 &  181 &   94 &   91\\\\\n",
              "\t zraS &   75 &   35 &   37 &   53 &   27 &   16 &  36 &  16 &   60 &   37 &   51 &   71 &  16 &   72 &   69 &   48 &   30 &   33\\\\\n",
              "\t zupT &  112 &   60 &   81 &  109 &   46 &   35 &  55 &  44 &   85 &   66 &   80 &  114 &  38 &  111 &  140 &  114 &   59 &   57\\\\\n",
              "\t zur  &  254 &  192 &  158 &  225 &  120 &  136 & 150 &  98 &  194 &  201 &  210 &  194 &  78 &  283 &  328 &  242 &  109 &  152\\\\\n",
              "\t zwf  & 1401 & 1125 & 1181 & 1746 &  888 &  917 & 909 & 692 & 1660 & 1612 & 1881 & 2095 & 402 & 1637 & 2896 & 1783 &  801 & 1097\\\\\n",
              "\\end{tabular}\n"
            ],
            "text/markdown": [
              "\n",
              "A data.table: 4319 × 19\n",
              "\n",
              "| ...1 &lt;chr&gt; | E14R012a01 &lt;dbl&gt; | E14R012a02 &lt;dbl&gt; | E14R012a03 &lt;dbl&gt; | E14R012a04 &lt;dbl&gt; | E14R012a05 &lt;dbl&gt; | E14R012a06 &lt;dbl&gt; | E14R012b01 &lt;dbl&gt; | E14R012b02 &lt;dbl&gt; | E14R012b03 &lt;dbl&gt; | E14R012b04 &lt;dbl&gt; | E14R012b05 &lt;dbl&gt; | E14R012b06 &lt;dbl&gt; | E14R012c01 &lt;dbl&gt; | E14R012c02 &lt;dbl&gt; | E14R012c03 &lt;dbl&gt; | E14R012c04 &lt;dbl&gt; | E14R012c05 &lt;dbl&gt; | E14R012c06 &lt;dbl&gt; |\n",
              "|---|---|---|---|---|---|---|---|---|---|---|---|---|---|---|---|---|---|---|\n",
              "| aaeA |   100 |    56 |    44 |    94 |    32 |    38 |   55 |   41 |    74 |    89 |     88 |   101 |   29 |   109 |   132 |    90 |    50 |    66 |\n",
              "| aaeB |   116 |    47 |    54 |    80 |    37 |    43 |   54 |   31 |    72 |    75 |     69 |   123 |   22 |   101 |   104 |    88 |    58 |    81 |\n",
              "| aaeR |   316 |   253 |   249 |   396 |   181 |   176 |  220 |  164 |   277 |   363 |    400 |   333 |  117 |   381 |   521 |   393 |   194 |   213 |\n",
              "| aaeX |    77 |    53 |    53 |    86 |    46 |    37 |   68 |   35 |    70 |    85 |     96 |    91 |   52 |    76 |   134 |   132 |    45 |    58 |\n",
              "| aas  |   407 |   286 |   283 |   375 |   188 |   169 |  265 |  189 |   380 |   362 |    399 |   427 |  128 |   471 |   614 |   470 |   208 |   283 |\n",
              "| aat  |   243 |   169 |   163 |   252 |   104 |   169 |  104 |  116 |   219 |   263 |    232 |   300 |   68 |   233 |   348 |   237 |   123 |   202 |\n",
              "| abgA |    33 |    14 |     4 |    16 |     5 |    10 |    7 |    6 |    15 |    25 |     23 |    29 |    9 |    19 |    26 |    26 |    21 |    16 |\n",
              "| abgB |    84 |    43 |    39 |    84 |    41 |    34 |   45 |   25 |    52 |    58 |     68 |    99 |   13 |    53 |   104 |    87 |    66 |    36 |\n",
              "| abgR |    57 |    34 |    33 |    49 |    31 |    17 |   26 |   29 |    32 |    50 |     53 |    65 |   15 |    59 |    76 |    53 |    35 |    35 |\n",
              "| abgT |    54 |    18 |    20 |    38 |    16 |    23 |   17 |   14 |    26 |    31 |     37 |    65 |   16 |    42 |    41 |    37 |    33 |    24 |\n",
              "| abrB |   168 |    87 |    59 |    85 |    39 |    28 |   72 |   37 |    61 |    62 |     57 |    73 |   46 |   121 |   121 |    70 |    44 |    44 |\n",
              "| accA |  1697 |  1311 |  1383 |  1923 |   991 |  1014 |  843 |  858 |  1769 |  1726 |   1903 |  2037 |  551 |  1833 |  2892 |  1730 |   868 |  1205 |\n",
              "| accB |  2251 |  1589 |  1430 |  2213 |  1152 |  1268 | 1385 | 1142 |  2046 |  1721 |   1741 |  1972 |  714 |  2738 |  3616 |  2274 |   824 |  1036 |\n",
              "| accC |  3455 |  2476 |  2458 |  3342 |  1632 |  2061 | 1918 | 1786 |  3298 |  2562 |   2455 |  2708 | 1215 |  3832 |  5798 |  3270 |  1242 |  1549 |\n",
              "| accD |  3703 |  2782 |  2698 |  3801 |  2094 |  2245 | 1655 | 1672 |  3246 |  3241 |   3643 |  4018 |  986 |  4206 |  5934 |  4135 |  2056 |  2393 |\n",
              "| aceA |  7504 |  6128 |  6266 | 18036 | 17943 | 19741 | 4890 | 4029 | 10336 | 17512 |  36115 | 36246 | 2135 |  6797 | 13635 | 13673 | 11191 | 18071 |\n",
              "| aceB | 14621 | 11841 | 14504 | 37278 | 26575 | 20508 | 8725 | 7625 | 23785 | 32095 |  50934 | 45007 | 4129 | 14100 | 29049 | 29926 | 18950 | 23297 |\n",
              "| aceE |  5014 |  4015 |  5592 | 48489 | 69608 | 62316 | 3236 | 2629 | 15857 | 50081 | 123510 | 96158 | 1365 |  4384 | 11286 | 37133 | 44134 | 50136 |\n",
              "| aceF |  2918 |  2321 |  2276 |  5233 | 30171 | 33593 | 1893 | 1482 |  3506 |  6638 |  59601 | 53738 |  870 |  2720 |  5321 |  4115 | 20187 | 29913 |\n",
              "| aceK |  1100 |   773 |   884 |  1867 |  2196 |  2783 |  659 |  475 |  1180 |  1964 |   4593 |  4751 |  319 |  1064 |  1611 |  1492 |  1627 |  2715 |\n",
              "| ackA | 12323 |  9815 |  9020 | 12770 |  4441 |  3811 | 7523 | 5353 | 11573 |  9647 |   8032 |  5415 | 3644 | 12143 | 20234 | 11491 |  3160 |  2901 |\n",
              "| acnA |   757 |   603 |   711 |  2529 |  2452 |  2347 |  507 |  413 |  1451 |  2667 |   5561 |  5514 |  225 |   776 |  1689 |  2243 |  1967 |  2941 |\n",
              "| acnB |  1654 |  1312 |  2198 | 13189 | 16464 | 15863 | 1029 | 1113 |  6024 | 16032 |  36113 | 26821 |  481 |  1638 |  4988 | 11244 | 12518 | 14688 |\n",
              "| acpP |  7934 |  6968 |  6921 | 10782 |  4423 |  5105 | 4914 | 4097 |  7384 |  8470 |   9571 | 11074 | 2802 | 10651 | 14311 | 13139 |  5210 |  6717 |\n",
              "| acpS |   199 |   159 |   162 |   228 |    76 |    69 |  119 |  109 |   190 |   213 |    212 |   156 |   62 |   276 |   350 |   253 |    93 |    99 |\n",
              "| acpT |   294 |   218 |   229 |   271 |   140 |   112 |  132 |  128 |   232 |   244 |    260 |   290 |   99 |   338 |   444 |   318 |   130 |   178 |\n",
              "| acrA |  1088 |   837 |   834 |  1219 |   809 |   840 |  671 |  583 |  1154 |  1145 |   1474 |  1489 |  369 |  1245 |  2016 |  1277 |   669 |   873 |\n",
              "| acrB |  2594 |  1883 |  1949 |  3160 |  1602 |  1993 | 1400 | 1272 |  2894 |  2702 |   3181 |  3362 |  727 |  2570 |  4171 |  3181 |  1582 |  1959 |\n",
              "| acrD |   285 |   172 |   170 |   270 |   107 |   115 |   96 |  107 |   228 |   177 |    223 |   238 |   70 |   247 |   331 |   217 |   134 |   131 |\n",
              "| acrE |    42 |    10 |    13 |    13 |     5 |    13 |    8 |    4 |    17 |    14 |     13 |    31 |   10 |    23 |    21 |    17 |    12 |     9 |\n",
              "| ⋮ | ⋮ | ⋮ | ⋮ | ⋮ | ⋮ | ⋮ | ⋮ | ⋮ | ⋮ | ⋮ | ⋮ | ⋮ | ⋮ | ⋮ | ⋮ | ⋮ | ⋮ | ⋮ |\n",
              "| ytfI |   43 |   10 |    5 |   19 |   13 |   14 |  14 |   7 |   11 |   15 |   24 |   34 |   9 |   25 |   26 |   32 |   19 |    9 |\n",
              "| ytfJ |   35 |   14 |    9 |   29 |   12 |   19 |  13 |   6 |   12 |   16 |   31 |   59 |   8 |   29 |   28 |   30 |   13 |   23 |\n",
              "| ytfK |  112 |   88 |   92 |  165 |   87 |  237 |  64 |  57 |   74 |  132 |  229 |  500 |  48 |  157 |  168 |  184 |  134 |  353 |\n",
              "| ytfL |  242 |  152 |  156 |  231 |  103 |  101 |  97 |  78 |  164 |  178 |  216 |  239 |  64 |  198 |  275 |  210 |  126 |  158 |\n",
              "| ytfM |  580 |  484 |  523 |  749 |  380 |  333 | 389 | 337 |  675 |  814 |  910 |  938 | 215 |  806 | 1299 |  869 |  331 |  461 |\n",
              "| ytfN | 1195 |  851 |  923 | 1419 |  605 |  604 | 628 | 593 | 1350 | 1186 | 1327 | 1473 | 342 | 1434 | 2031 | 1721 |  704 |  887 |\n",
              "| ytfP |  220 |  163 |  102 |  217 |   90 |   78 |  85 |  76 |  185 |  170 |  208 |  220 |  44 |  251 |  270 |  259 |  156 |  129 |\n",
              "| ytfQ |   68 |   36 |   43 |   75 |   27 |   46 |  24 |  26 |   51 |   58 |   75 |   83 |  14 |   45 |   84 |   73 |   33 |   45 |\n",
              "| ytfR |   95 |   34 |   33 |   58 |   30 |   22 |  26 |  20 |   57 |   46 |   62 |   78 |  10 |   48 |   68 |   49 |   27 |   29 |\n",
              "| ytfT |   28 |   15 |    4 |   15 |    5 |   10 |   7 |   3 |   26 |   22 |   21 |   33 |   8 |   16 |   29 |   22 |   19 |   15 |\n",
              "| ytjA |   99 |   97 |   92 |  345 |  396 |  555 |  91 |  69 |  219 |  440 | 1134 | 1993 |  38 |  136 |  226 |  425 |  384 |  834 |\n",
              "| ytjB |  135 |  110 |  124 |  169 |   92 |   82 |  71 |  84 |  146 |  167 |  191 |  188 |  48 |  161 |  278 |  233 |   75 |   93 |\n",
              "| ytjC |  507 |  389 |  351 |  478 |  279 |  296 | 243 | 250 |  400 |  412 |  499 |  557 | 137 |  574 |  795 |  519 |  232 |  348 |\n",
              "| yzcX |   49 |   31 |   21 |   34 |   27 |   35 |  32 |  21 |   26 |   33 |   28 |   69 |  11 |   63 |   71 |   37 |   21 |   24 |\n",
              "| yzfA |   22 |   12 |    8 |   18 |    4 |    8 |   4 |   3 |    7 |   11 |    7 |   11 |   3 |   10 |    7 |    9 |    7 |   12 |\n",
              "| yzgL |   24 |   13 |   10 |   21 |   15 |   21 |  13 |  10 |   13 |   17 |   20 |   40 |   6 |   30 |   24 |   27 |   13 |   18 |\n",
              "| zapA | 1573 | 1179 | 1240 | 1713 |  879 |  726 | 779 | 660 | 1245 | 1366 | 1789 | 1862 | 504 | 1850 | 2306 | 2209 | 1025 | 1145 |\n",
              "| zipA | 1537 | 1364 | 1331 | 2043 | 1212 | 1089 | 966 | 962 | 1775 | 2075 | 2374 | 2605 | 638 | 2421 | 3016 | 2445 | 1239 | 1710 |\n",
              "| zitB |  542 |  370 |  364 |  569 |  239 |  157 | 270 | 198 |  496 |  384 |  406 |  338 | 165 |  563 |  746 |  592 |  239 |  250 |\n",
              "| zntA |  576 |  518 |  428 |  657 |  350 |  265 | 360 | 334 |  545 |  547 |  566 |  624 | 209 |  823 | 1003 |  707 |  320 |  563 |\n",
              "| zntR |  189 |  138 |  127 |  244 |  119 |  126 | 114 |  70 |  160 |  165 |  209 |  261 |  57 |  223 |  353 |  262 |  115 |  143 |\n",
              "| znuA |  327 |  231 |  226 |  410 |  238 |  194 | 213 | 241 |  365 |  380 |  422 |  419 | 109 |  433 |  555 |  440 |  170 |  226 |\n",
              "| znuB |  154 |  101 |  123 |  168 |   58 |   71 |  57 |  62 |  138 |  113 |  138 |  169 |  44 |  134 |  185 |  137 |   63 |   90 |\n",
              "| znuC |  293 |  207 |  189 |  326 |  160 |  126 | 137 | 124 |  268 |  276 |  298 |  280 |  90 |  255 |  428 |  289 |  167 |  151 |\n",
              "| zraP |  108 |   79 |   66 |  102 |   50 |   35 |  52 |  41 |   82 |   86 |   98 |   72 |  30 |  134 |  188 |  143 |   50 |   62 |\n",
              "| zraR |  212 |  131 |  142 |  195 |   89 |   84 |  83 |  77 |  150 |  130 |  134 |  188 |  52 |  200 |  282 |  181 |   94 |   91 |\n",
              "| zraS |   75 |   35 |   37 |   53 |   27 |   16 |  36 |  16 |   60 |   37 |   51 |   71 |  16 |   72 |   69 |   48 |   30 |   33 |\n",
              "| zupT |  112 |   60 |   81 |  109 |   46 |   35 |  55 |  44 |   85 |   66 |   80 |  114 |  38 |  111 |  140 |  114 |   59 |   57 |\n",
              "| zur  |  254 |  192 |  158 |  225 |  120 |  136 | 150 |  98 |  194 |  201 |  210 |  194 |  78 |  283 |  328 |  242 |  109 |  152 |\n",
              "| zwf  | 1401 | 1125 | 1181 | 1746 |  888 |  917 | 909 | 692 | 1660 | 1612 | 1881 | 2095 | 402 | 1637 | 2896 | 1783 |  801 | 1097 |\n",
              "\n"
            ],
            "text/plain": [
              "     ...1 E14R012a01 E14R012a02 E14R012a03 E14R012a04 E14R012a05 E14R012a06\n",
              "1    aaeA   100         56         44         94         32         38     \n",
              "2    aaeB   116         47         54         80         37         43     \n",
              "3    aaeR   316        253        249        396        181        176     \n",
              "4    aaeX    77         53         53         86         46         37     \n",
              "5    aas    407        286        283        375        188        169     \n",
              "6    aat    243        169        163        252        104        169     \n",
              "7    abgA    33         14          4         16          5         10     \n",
              "8    abgB    84         43         39         84         41         34     \n",
              "9    abgR    57         34         33         49         31         17     \n",
              "10   abgT    54         18         20         38         16         23     \n",
              "11   abrB   168         87         59         85         39         28     \n",
              "12   accA  1697       1311       1383       1923        991       1014     \n",
              "13   accB  2251       1589       1430       2213       1152       1268     \n",
              "14   accC  3455       2476       2458       3342       1632       2061     \n",
              "15   accD  3703       2782       2698       3801       2094       2245     \n",
              "16   aceA  7504       6128       6266      18036      17943      19741     \n",
              "17   aceB 14621      11841      14504      37278      26575      20508     \n",
              "18   aceE  5014       4015       5592      48489      69608      62316     \n",
              "19   aceF  2918       2321       2276       5233      30171      33593     \n",
              "20   aceK  1100        773        884       1867       2196       2783     \n",
              "21   ackA 12323       9815       9020      12770       4441       3811     \n",
              "22   acnA   757        603        711       2529       2452       2347     \n",
              "23   acnB  1654       1312       2198      13189      16464      15863     \n",
              "24   acpP  7934       6968       6921      10782       4423       5105     \n",
              "25   acpS   199        159        162        228         76         69     \n",
              "26   acpT   294        218        229        271        140        112     \n",
              "27   acrA  1088        837        834       1219        809        840     \n",
              "28   acrB  2594       1883       1949       3160       1602       1993     \n",
              "29   acrD   285        172        170        270        107        115     \n",
              "30   acrE    42         10         13         13          5         13     \n",
              "?    ?    ?          ?          ?          ?          ?          ?         \n",
              "4290 ytfI   43         10          5         19         13         14      \n",
              "4291 ytfJ   35         14          9         29         12         19      \n",
              "4292 ytfK  112         88         92        165         87        237      \n",
              "4293 ytfL  242        152        156        231        103        101      \n",
              "4294 ytfM  580        484        523        749        380        333      \n",
              "4295 ytfN 1195        851        923       1419        605        604      \n",
              "4296 ytfP  220        163        102        217         90         78      \n",
              "4297 ytfQ   68         36         43         75         27         46      \n",
              "4298 ytfR   95         34         33         58         30         22      \n",
              "4299 ytfT   28         15          4         15          5         10      \n",
              "4300 ytjA   99         97         92        345        396        555      \n",
              "4301 ytjB  135        110        124        169         92         82      \n",
              "4302 ytjC  507        389        351        478        279        296      \n",
              "4303 yzcX   49         31         21         34         27         35      \n",
              "4304 yzfA   22         12          8         18          4          8      \n",
              "4305 yzgL   24         13         10         21         15         21      \n",
              "4306 zapA 1573       1179       1240       1713        879        726      \n",
              "4307 zipA 1537       1364       1331       2043       1212       1089      \n",
              "4308 zitB  542        370        364        569        239        157      \n",
              "4309 zntA  576        518        428        657        350        265      \n",
              "4310 zntR  189        138        127        244        119        126      \n",
              "4311 znuA  327        231        226        410        238        194      \n",
              "4312 znuB  154        101        123        168         58         71      \n",
              "4313 znuC  293        207        189        326        160        126      \n",
              "4314 zraP  108         79         66        102         50         35      \n",
              "4315 zraR  212        131        142        195         89         84      \n",
              "4316 zraS   75         35         37         53         27         16      \n",
              "4317 zupT  112         60         81        109         46         35      \n",
              "4318 zur   254        192        158        225        120        136      \n",
              "4319 zwf  1401       1125       1181       1746        888        917      \n",
              "     E14R012b01 E14R012b02 E14R012b03 E14R012b04 E14R012b05 E14R012b06\n",
              "1      55         41          74         89          88       101     \n",
              "2      54         31          72         75          69       123     \n",
              "3     220        164         277        363         400       333     \n",
              "4      68         35          70         85          96        91     \n",
              "5     265        189         380        362         399       427     \n",
              "6     104        116         219        263         232       300     \n",
              "7       7          6          15         25          23        29     \n",
              "8      45         25          52         58          68        99     \n",
              "9      26         29          32         50          53        65     \n",
              "10     17         14          26         31          37        65     \n",
              "11     72         37          61         62          57        73     \n",
              "12    843        858        1769       1726        1903      2037     \n",
              "13   1385       1142        2046       1721        1741      1972     \n",
              "14   1918       1786        3298       2562        2455      2708     \n",
              "15   1655       1672        3246       3241        3643      4018     \n",
              "16   4890       4029       10336      17512       36115     36246     \n",
              "17   8725       7625       23785      32095       50934     45007     \n",
              "18   3236       2629       15857      50081      123510     96158     \n",
              "19   1893       1482        3506       6638       59601     53738     \n",
              "20    659        475        1180       1964        4593      4751     \n",
              "21   7523       5353       11573       9647        8032      5415     \n",
              "22    507        413        1451       2667        5561      5514     \n",
              "23   1029       1113        6024      16032       36113     26821     \n",
              "24   4914       4097        7384       8470        9571     11074     \n",
              "25    119        109         190        213         212       156     \n",
              "26    132        128         232        244         260       290     \n",
              "27    671        583        1154       1145        1474      1489     \n",
              "28   1400       1272        2894       2702        3181      3362     \n",
              "29     96        107         228        177         223       238     \n",
              "30      8          4          17         14          13        31     \n",
              "?    ?          ?          ?          ?          ?          ?         \n",
              "4290  14          7          11         15         24         34      \n",
              "4291  13          6          12         16         31         59      \n",
              "4292  64         57          74        132        229        500      \n",
              "4293  97         78         164        178        216        239      \n",
              "4294 389        337         675        814        910        938      \n",
              "4295 628        593        1350       1186       1327       1473      \n",
              "4296  85         76         185        170        208        220      \n",
              "4297  24         26          51         58         75         83      \n",
              "4298  26         20          57         46         62         78      \n",
              "4299   7          3          26         22         21         33      \n",
              "4300  91         69         219        440       1134       1993      \n",
              "4301  71         84         146        167        191        188      \n",
              "4302 243        250         400        412        499        557      \n",
              "4303  32         21          26         33         28         69      \n",
              "4304   4          3           7         11          7         11      \n",
              "4305  13         10          13         17         20         40      \n",
              "4306 779        660        1245       1366       1789       1862      \n",
              "4307 966        962        1775       2075       2374       2605      \n",
              "4308 270        198         496        384        406        338      \n",
              "4309 360        334         545        547        566        624      \n",
              "4310 114         70         160        165        209        261      \n",
              "4311 213        241         365        380        422        419      \n",
              "4312  57         62         138        113        138        169      \n",
              "4313 137        124         268        276        298        280      \n",
              "4314  52         41          82         86         98         72      \n",
              "4315  83         77         150        130        134        188      \n",
              "4316  36         16          60         37         51         71      \n",
              "4317  55         44          85         66         80        114      \n",
              "4318 150         98         194        201        210        194      \n",
              "4319 909        692        1660       1612       1881       2095      \n",
              "     E14R012c01 E14R012c02 E14R012c03 E14R012c04 E14R012c05 E14R012c06\n",
              "1      29         109        132         90         50         66     \n",
              "2      22         101        104         88         58         81     \n",
              "3     117         381        521        393        194        213     \n",
              "4      52          76        134        132         45         58     \n",
              "5     128         471        614        470        208        283     \n",
              "6      68         233        348        237        123        202     \n",
              "7       9          19         26         26         21         16     \n",
              "8      13          53        104         87         66         36     \n",
              "9      15          59         76         53         35         35     \n",
              "10     16          42         41         37         33         24     \n",
              "11     46         121        121         70         44         44     \n",
              "12    551        1833       2892       1730        868       1205     \n",
              "13    714        2738       3616       2274        824       1036     \n",
              "14   1215        3832       5798       3270       1242       1549     \n",
              "15    986        4206       5934       4135       2056       2393     \n",
              "16   2135        6797      13635      13673      11191      18071     \n",
              "17   4129       14100      29049      29926      18950      23297     \n",
              "18   1365        4384      11286      37133      44134      50136     \n",
              "19    870        2720       5321       4115      20187      29913     \n",
              "20    319        1064       1611       1492       1627       2715     \n",
              "21   3644       12143      20234      11491       3160       2901     \n",
              "22    225         776       1689       2243       1967       2941     \n",
              "23    481        1638       4988      11244      12518      14688     \n",
              "24   2802       10651      14311      13139       5210       6717     \n",
              "25     62         276        350        253         93         99     \n",
              "26     99         338        444        318        130        178     \n",
              "27    369        1245       2016       1277        669        873     \n",
              "28    727        2570       4171       3181       1582       1959     \n",
              "29     70         247        331        217        134        131     \n",
              "30     10          23         21         17         12          9     \n",
              "?    ?          ?          ?          ?          ?          ?         \n",
              "4290   9          25         26         32         19          9      \n",
              "4291   8          29         28         30         13         23      \n",
              "4292  48         157        168        184        134        353      \n",
              "4293  64         198        275        210        126        158      \n",
              "4294 215         806       1299        869        331        461      \n",
              "4295 342        1434       2031       1721        704        887      \n",
              "4296  44         251        270        259        156        129      \n",
              "4297  14          45         84         73         33         45      \n",
              "4298  10          48         68         49         27         29      \n",
              "4299   8          16         29         22         19         15      \n",
              "4300  38         136        226        425        384        834      \n",
              "4301  48         161        278        233         75         93      \n",
              "4302 137         574        795        519        232        348      \n",
              "4303  11          63         71         37         21         24      \n",
              "4304   3          10          7          9          7         12      \n",
              "4305   6          30         24         27         13         18      \n",
              "4306 504        1850       2306       2209       1025       1145      \n",
              "4307 638        2421       3016       2445       1239       1710      \n",
              "4308 165         563        746        592        239        250      \n",
              "4309 209         823       1003        707        320        563      \n",
              "4310  57         223        353        262        115        143      \n",
              "4311 109         433        555        440        170        226      \n",
              "4312  44         134        185        137         63         90      \n",
              "4313  90         255        428        289        167        151      \n",
              "4314  30         134        188        143         50         62      \n",
              "4315  52         200        282        181         94         91      \n",
              "4316  16          72         69         48         30         33      \n",
              "4317  38         111        140        114         59         57      \n",
              "4318  78         283        328        242        109        152      \n",
              "4319 402        1637       2896       1783        801       1097      "
            ]
          },
          "metadata": {},
          "output_type": "display_data"
        }
      ],
      "source": [
        "esch_coli"
      ]
    },
    {
      "cell_type": "markdown",
      "metadata": {
        "id": "KylWdlso5w2E"
      },
      "source": [
        "2.  Filter rows (genes) where expression in the first sample (E14R012a01) is greater than 100 (print table size before and after filtration)"
      ]
    },
    {
      "cell_type": "code",
      "execution_count": null,
      "metadata": {
        "id": "_eYPYfnY5xGv",
        "vscode": {
          "languageId": "r"
        }
      },
      "outputs": [
        {
          "data": {
            "text/html": [
              "<style>\n",
              ".list-inline {list-style: none; margin:0; padding: 0}\n",
              ".list-inline>li {display: inline-block}\n",
              ".list-inline>li:not(:last-child)::after {content: \"\\00b7\"; padding: 0 .5ex}\n",
              "</style>\n",
              "<ol class=list-inline><li>4319</li><li>19</li></ol>\n"
            ],
            "text/latex": [
              "\\begin{enumerate*}\n",
              "\\item 4319\n",
              "\\item 19\n",
              "\\end{enumerate*}\n"
            ],
            "text/markdown": [
              "1. 4319\n",
              "2. 19\n",
              "\n",
              "\n"
            ],
            "text/plain": [
              "[1] 4319   19"
            ]
          },
          "metadata": {},
          "output_type": "display_data"
        },
        {
          "data": {
            "text/html": [
              "<style>\n",
              ".list-inline {list-style: none; margin:0; padding: 0}\n",
              ".list-inline>li {display: inline-block}\n",
              ".list-inline>li:not(:last-child)::after {content: \"\\00b7\"; padding: 0 .5ex}\n",
              "</style>\n",
              "<ol class=list-inline><li>2730</li><li>19</li></ol>\n"
            ],
            "text/latex": [
              "\\begin{enumerate*}\n",
              "\\item 2730\n",
              "\\item 19\n",
              "\\end{enumerate*}\n"
            ],
            "text/markdown": [
              "1. 2730\n",
              "2. 19\n",
              "\n",
              "\n"
            ],
            "text/plain": [
              "[1] 2730   19"
            ]
          },
          "metadata": {},
          "output_type": "display_data"
        }
      ],
      "source": [
        "dim(esch_coli)\n",
        "filtered <- esch_coli[E14R012a01>100,]\n",
        "dim(filtered)"
      ]
    },
    {
      "cell_type": "markdown",
      "metadata": {
        "id": "W0AXeV6i536c"
      },
      "source": [
        "## Part 3: Data Transformation"
      ]
    },
    {
      "cell_type": "markdown",
      "metadata": {
        "id": "aH16Bv4O6P_p"
      },
      "source": [
        "### Task 3.1: Data Transformation\n",
        "\n",
        "Add a column that calculates the mean expression for each gene across all samples (print table size before and after transformation)"
      ]
    },
    {
      "cell_type": "code",
      "execution_count": null,
      "metadata": {
        "id": "4-_oP1HA6OVY",
        "vscode": {
          "languageId": "r"
        }
      },
      "outputs": [
        {
          "data": {
            "text/html": [
              "<style>\n",
              ".list-inline {list-style: none; margin:0; padding: 0}\n",
              ".list-inline>li {display: inline-block}\n",
              ".list-inline>li:not(:last-child)::after {content: \"\\00b7\"; padding: 0 .5ex}\n",
              "</style>\n",
              "<ol class=list-inline><li>4319</li><li>19</li></ol>\n"
            ],
            "text/latex": [
              "\\begin{enumerate*}\n",
              "\\item 4319\n",
              "\\item 19\n",
              "\\end{enumerate*}\n"
            ],
            "text/markdown": [
              "1. 4319\n",
              "2. 19\n",
              "\n",
              "\n"
            ],
            "text/plain": [
              "[1] 4319   19"
            ]
          },
          "metadata": {},
          "output_type": "display_data"
        },
        {
          "data": {
            "text/html": [
              "<style>\n",
              ".list-inline {list-style: none; margin:0; padding: 0}\n",
              ".list-inline>li {display: inline-block}\n",
              ".list-inline>li:not(:last-child)::after {content: \"\\00b7\"; padding: 0 .5ex}\n",
              "</style>\n",
              "<ol class=list-inline><li>4319</li><li>20</li></ol>\n"
            ],
            "text/latex": [
              "\\begin{enumerate*}\n",
              "\\item 4319\n",
              "\\item 20\n",
              "\\end{enumerate*}\n"
            ],
            "text/markdown": [
              "1. 4319\n",
              "2. 20\n",
              "\n",
              "\n"
            ],
            "text/plain": [
              "[1] 4319   20"
            ]
          },
          "metadata": {},
          "output_type": "display_data"
        },
        {
          "data": {
            "text/html": [
              "<table class=\"dataframe\">\n",
              "<caption>A data.table: 4319 × 20</caption>\n",
              "<thead>\n",
              "\t<tr><th scope=col>...1</th><th scope=col>E14R012a01</th><th scope=col>E14R012a02</th><th scope=col>E14R012a03</th><th scope=col>E14R012a04</th><th scope=col>E14R012a05</th><th scope=col>E14R012a06</th><th scope=col>E14R012b01</th><th scope=col>E14R012b02</th><th scope=col>E14R012b03</th><th scope=col>E14R012b04</th><th scope=col>E14R012b05</th><th scope=col>E14R012b06</th><th scope=col>E14R012c01</th><th scope=col>E14R012c02</th><th scope=col>E14R012c03</th><th scope=col>E14R012c04</th><th scope=col>E14R012c05</th><th scope=col>E14R012c06</th><th scope=col>mean</th></tr>\n",
              "\t<tr><th scope=col>&lt;chr&gt;</th><th scope=col>&lt;dbl&gt;</th><th scope=col>&lt;dbl&gt;</th><th scope=col>&lt;dbl&gt;</th><th scope=col>&lt;dbl&gt;</th><th scope=col>&lt;dbl&gt;</th><th scope=col>&lt;dbl&gt;</th><th scope=col>&lt;dbl&gt;</th><th scope=col>&lt;dbl&gt;</th><th scope=col>&lt;dbl&gt;</th><th scope=col>&lt;dbl&gt;</th><th scope=col>&lt;dbl&gt;</th><th scope=col>&lt;dbl&gt;</th><th scope=col>&lt;dbl&gt;</th><th scope=col>&lt;dbl&gt;</th><th scope=col>&lt;dbl&gt;</th><th scope=col>&lt;dbl&gt;</th><th scope=col>&lt;dbl&gt;</th><th scope=col>&lt;dbl&gt;</th><th scope=col>&lt;dbl&gt;</th></tr>\n",
              "</thead>\n",
              "<tbody>\n",
              "\t<tr><td>aaeA</td><td>  100</td><td>   56</td><td>   44</td><td>   94</td><td>   32</td><td>   38</td><td>  55</td><td>  41</td><td>   74</td><td>   89</td><td>    88</td><td>  101</td><td>  29</td><td>  109</td><td>  132</td><td>   90</td><td>   50</td><td>   66</td><td>   71.55556</td></tr>\n",
              "\t<tr><td>aaeB</td><td>  116</td><td>   47</td><td>   54</td><td>   80</td><td>   37</td><td>   43</td><td>  54</td><td>  31</td><td>   72</td><td>   75</td><td>    69</td><td>  123</td><td>  22</td><td>  101</td><td>  104</td><td>   88</td><td>   58</td><td>   81</td><td>   69.72222</td></tr>\n",
              "\t<tr><td>aaeR</td><td>  316</td><td>  253</td><td>  249</td><td>  396</td><td>  181</td><td>  176</td><td> 220</td><td> 164</td><td>  277</td><td>  363</td><td>   400</td><td>  333</td><td> 117</td><td>  381</td><td>  521</td><td>  393</td><td>  194</td><td>  213</td><td>  285.94444</td></tr>\n",
              "\t<tr><td>aaeX</td><td>   77</td><td>   53</td><td>   53</td><td>   86</td><td>   46</td><td>   37</td><td>  68</td><td>  35</td><td>   70</td><td>   85</td><td>    96</td><td>   91</td><td>  52</td><td>   76</td><td>  134</td><td>  132</td><td>   45</td><td>   58</td><td>   71.88889</td></tr>\n",
              "\t<tr><td>aas </td><td>  407</td><td>  286</td><td>  283</td><td>  375</td><td>  188</td><td>  169</td><td> 265</td><td> 189</td><td>  380</td><td>  362</td><td>   399</td><td>  427</td><td> 128</td><td>  471</td><td>  614</td><td>  470</td><td>  208</td><td>  283</td><td>  328.00000</td></tr>\n",
              "\t<tr><td>aat </td><td>  243</td><td>  169</td><td>  163</td><td>  252</td><td>  104</td><td>  169</td><td> 104</td><td> 116</td><td>  219</td><td>  263</td><td>   232</td><td>  300</td><td>  68</td><td>  233</td><td>  348</td><td>  237</td><td>  123</td><td>  202</td><td>  196.94444</td></tr>\n",
              "\t<tr><td>abgA</td><td>   33</td><td>   14</td><td>    4</td><td>   16</td><td>    5</td><td>   10</td><td>   7</td><td>   6</td><td>   15</td><td>   25</td><td>    23</td><td>   29</td><td>   9</td><td>   19</td><td>   26</td><td>   26</td><td>   21</td><td>   16</td><td>   16.88889</td></tr>\n",
              "\t<tr><td>abgB</td><td>   84</td><td>   43</td><td>   39</td><td>   84</td><td>   41</td><td>   34</td><td>  45</td><td>  25</td><td>   52</td><td>   58</td><td>    68</td><td>   99</td><td>  13</td><td>   53</td><td>  104</td><td>   87</td><td>   66</td><td>   36</td><td>   57.27778</td></tr>\n",
              "\t<tr><td>abgR</td><td>   57</td><td>   34</td><td>   33</td><td>   49</td><td>   31</td><td>   17</td><td>  26</td><td>  29</td><td>   32</td><td>   50</td><td>    53</td><td>   65</td><td>  15</td><td>   59</td><td>   76</td><td>   53</td><td>   35</td><td>   35</td><td>   41.61111</td></tr>\n",
              "\t<tr><td>abgT</td><td>   54</td><td>   18</td><td>   20</td><td>   38</td><td>   16</td><td>   23</td><td>  17</td><td>  14</td><td>   26</td><td>   31</td><td>    37</td><td>   65</td><td>  16</td><td>   42</td><td>   41</td><td>   37</td><td>   33</td><td>   24</td><td>   30.66667</td></tr>\n",
              "\t<tr><td>abrB</td><td>  168</td><td>   87</td><td>   59</td><td>   85</td><td>   39</td><td>   28</td><td>  72</td><td>  37</td><td>   61</td><td>   62</td><td>    57</td><td>   73</td><td>  46</td><td>  121</td><td>  121</td><td>   70</td><td>   44</td><td>   44</td><td>   70.77778</td></tr>\n",
              "\t<tr><td>accA</td><td> 1697</td><td> 1311</td><td> 1383</td><td> 1923</td><td>  991</td><td> 1014</td><td> 843</td><td> 858</td><td> 1769</td><td> 1726</td><td>  1903</td><td> 2037</td><td> 551</td><td> 1833</td><td> 2892</td><td> 1730</td><td>  868</td><td> 1205</td><td> 1474.11111</td></tr>\n",
              "\t<tr><td>accB</td><td> 2251</td><td> 1589</td><td> 1430</td><td> 2213</td><td> 1152</td><td> 1268</td><td>1385</td><td>1142</td><td> 2046</td><td> 1721</td><td>  1741</td><td> 1972</td><td> 714</td><td> 2738</td><td> 3616</td><td> 2274</td><td>  824</td><td> 1036</td><td> 1728.44444</td></tr>\n",
              "\t<tr><td>accC</td><td> 3455</td><td> 2476</td><td> 2458</td><td> 3342</td><td> 1632</td><td> 2061</td><td>1918</td><td>1786</td><td> 3298</td><td> 2562</td><td>  2455</td><td> 2708</td><td>1215</td><td> 3832</td><td> 5798</td><td> 3270</td><td> 1242</td><td> 1549</td><td> 2614.27778</td></tr>\n",
              "\t<tr><td>accD</td><td> 3703</td><td> 2782</td><td> 2698</td><td> 3801</td><td> 2094</td><td> 2245</td><td>1655</td><td>1672</td><td> 3246</td><td> 3241</td><td>  3643</td><td> 4018</td><td> 986</td><td> 4206</td><td> 5934</td><td> 4135</td><td> 2056</td><td> 2393</td><td> 3028.22222</td></tr>\n",
              "\t<tr><td>aceA</td><td> 7504</td><td> 6128</td><td> 6266</td><td>18036</td><td>17943</td><td>19741</td><td>4890</td><td>4029</td><td>10336</td><td>17512</td><td> 36115</td><td>36246</td><td>2135</td><td> 6797</td><td>13635</td><td>13673</td><td>11191</td><td>18071</td><td>13902.66667</td></tr>\n",
              "\t<tr><td>aceB</td><td>14621</td><td>11841</td><td>14504</td><td>37278</td><td>26575</td><td>20508</td><td>8725</td><td>7625</td><td>23785</td><td>32095</td><td> 50934</td><td>45007</td><td>4129</td><td>14100</td><td>29049</td><td>29926</td><td>18950</td><td>23297</td><td>22941.61111</td></tr>\n",
              "\t<tr><td>aceE</td><td> 5014</td><td> 4015</td><td> 5592</td><td>48489</td><td>69608</td><td>62316</td><td>3236</td><td>2629</td><td>15857</td><td>50081</td><td>123510</td><td>96158</td><td>1365</td><td> 4384</td><td>11286</td><td>37133</td><td>44134</td><td>50136</td><td>35274.61111</td></tr>\n",
              "\t<tr><td>aceF</td><td> 2918</td><td> 2321</td><td> 2276</td><td> 5233</td><td>30171</td><td>33593</td><td>1893</td><td>1482</td><td> 3506</td><td> 6638</td><td> 59601</td><td>53738</td><td> 870</td><td> 2720</td><td> 5321</td><td> 4115</td><td>20187</td><td>29913</td><td>14805.33333</td></tr>\n",
              "\t<tr><td>aceK</td><td> 1100</td><td>  773</td><td>  884</td><td> 1867</td><td> 2196</td><td> 2783</td><td> 659</td><td> 475</td><td> 1180</td><td> 1964</td><td>  4593</td><td> 4751</td><td> 319</td><td> 1064</td><td> 1611</td><td> 1492</td><td> 1627</td><td> 2715</td><td> 1780.72222</td></tr>\n",
              "\t<tr><td>ackA</td><td>12323</td><td> 9815</td><td> 9020</td><td>12770</td><td> 4441</td><td> 3811</td><td>7523</td><td>5353</td><td>11573</td><td> 9647</td><td>  8032</td><td> 5415</td><td>3644</td><td>12143</td><td>20234</td><td>11491</td><td> 3160</td><td> 2901</td><td> 8516.44444</td></tr>\n",
              "\t<tr><td>acnA</td><td>  757</td><td>  603</td><td>  711</td><td> 2529</td><td> 2452</td><td> 2347</td><td> 507</td><td> 413</td><td> 1451</td><td> 2667</td><td>  5561</td><td> 5514</td><td> 225</td><td>  776</td><td> 1689</td><td> 2243</td><td> 1967</td><td> 2941</td><td> 1964.05556</td></tr>\n",
              "\t<tr><td>acnB</td><td> 1654</td><td> 1312</td><td> 2198</td><td>13189</td><td>16464</td><td>15863</td><td>1029</td><td>1113</td><td> 6024</td><td>16032</td><td> 36113</td><td>26821</td><td> 481</td><td> 1638</td><td> 4988</td><td>11244</td><td>12518</td><td>14688</td><td>10187.16667</td></tr>\n",
              "\t<tr><td>acpP</td><td> 7934</td><td> 6968</td><td> 6921</td><td>10782</td><td> 4423</td><td> 5105</td><td>4914</td><td>4097</td><td> 7384</td><td> 8470</td><td>  9571</td><td>11074</td><td>2802</td><td>10651</td><td>14311</td><td>13139</td><td> 5210</td><td> 6717</td><td> 7804.05556</td></tr>\n",
              "\t<tr><td>acpS</td><td>  199</td><td>  159</td><td>  162</td><td>  228</td><td>   76</td><td>   69</td><td> 119</td><td> 109</td><td>  190</td><td>  213</td><td>   212</td><td>  156</td><td>  62</td><td>  276</td><td>  350</td><td>  253</td><td>   93</td><td>   99</td><td>  168.05556</td></tr>\n",
              "\t<tr><td>acpT</td><td>  294</td><td>  218</td><td>  229</td><td>  271</td><td>  140</td><td>  112</td><td> 132</td><td> 128</td><td>  232</td><td>  244</td><td>   260</td><td>  290</td><td>  99</td><td>  338</td><td>  444</td><td>  318</td><td>  130</td><td>  178</td><td>  225.38889</td></tr>\n",
              "\t<tr><td>acrA</td><td> 1088</td><td>  837</td><td>  834</td><td> 1219</td><td>  809</td><td>  840</td><td> 671</td><td> 583</td><td> 1154</td><td> 1145</td><td>  1474</td><td> 1489</td><td> 369</td><td> 1245</td><td> 2016</td><td> 1277</td><td>  669</td><td>  873</td><td> 1032.88889</td></tr>\n",
              "\t<tr><td>acrB</td><td> 2594</td><td> 1883</td><td> 1949</td><td> 3160</td><td> 1602</td><td> 1993</td><td>1400</td><td>1272</td><td> 2894</td><td> 2702</td><td>  3181</td><td> 3362</td><td> 727</td><td> 2570</td><td> 4171</td><td> 3181</td><td> 1582</td><td> 1959</td><td> 2343.44444</td></tr>\n",
              "\t<tr><td>acrD</td><td>  285</td><td>  172</td><td>  170</td><td>  270</td><td>  107</td><td>  115</td><td>  96</td><td> 107</td><td>  228</td><td>  177</td><td>   223</td><td>  238</td><td>  70</td><td>  247</td><td>  331</td><td>  217</td><td>  134</td><td>  131</td><td>  184.33333</td></tr>\n",
              "\t<tr><td>acrE</td><td>   42</td><td>   10</td><td>   13</td><td>   13</td><td>    5</td><td>   13</td><td>   8</td><td>   4</td><td>   17</td><td>   14</td><td>    13</td><td>   31</td><td>  10</td><td>   23</td><td>   21</td><td>   17</td><td>   12</td><td>    9</td><td>   15.27778</td></tr>\n",
              "\t<tr><td>⋮</td><td>⋮</td><td>⋮</td><td>⋮</td><td>⋮</td><td>⋮</td><td>⋮</td><td>⋮</td><td>⋮</td><td>⋮</td><td>⋮</td><td>⋮</td><td>⋮</td><td>⋮</td><td>⋮</td><td>⋮</td><td>⋮</td><td>⋮</td><td>⋮</td><td>⋮</td></tr>\n",
              "\t<tr><td>ytfI</td><td>  43</td><td>  10</td><td>   5</td><td>  19</td><td>  13</td><td>  14</td><td> 14</td><td>  7</td><td>  11</td><td>  15</td><td>  24</td><td>  34</td><td>  9</td><td>  25</td><td>  26</td><td>  32</td><td>  19</td><td>   9</td><td>  18.277778</td></tr>\n",
              "\t<tr><td>ytfJ</td><td>  35</td><td>  14</td><td>   9</td><td>  29</td><td>  12</td><td>  19</td><td> 13</td><td>  6</td><td>  12</td><td>  16</td><td>  31</td><td>  59</td><td>  8</td><td>  29</td><td>  28</td><td>  30</td><td>  13</td><td>  23</td><td>  21.444444</td></tr>\n",
              "\t<tr><td>ytfK</td><td> 112</td><td>  88</td><td>  92</td><td> 165</td><td>  87</td><td> 237</td><td> 64</td><td> 57</td><td>  74</td><td> 132</td><td> 229</td><td> 500</td><td> 48</td><td> 157</td><td> 168</td><td> 184</td><td> 134</td><td> 353</td><td> 160.055556</td></tr>\n",
              "\t<tr><td>ytfL</td><td> 242</td><td> 152</td><td> 156</td><td> 231</td><td> 103</td><td> 101</td><td> 97</td><td> 78</td><td> 164</td><td> 178</td><td> 216</td><td> 239</td><td> 64</td><td> 198</td><td> 275</td><td> 210</td><td> 126</td><td> 158</td><td> 166.000000</td></tr>\n",
              "\t<tr><td>ytfM</td><td> 580</td><td> 484</td><td> 523</td><td> 749</td><td> 380</td><td> 333</td><td>389</td><td>337</td><td> 675</td><td> 814</td><td> 910</td><td> 938</td><td>215</td><td> 806</td><td>1299</td><td> 869</td><td> 331</td><td> 461</td><td> 616.277778</td></tr>\n",
              "\t<tr><td>ytfN</td><td>1195</td><td> 851</td><td> 923</td><td>1419</td><td> 605</td><td> 604</td><td>628</td><td>593</td><td>1350</td><td>1186</td><td>1327</td><td>1473</td><td>342</td><td>1434</td><td>2031</td><td>1721</td><td> 704</td><td> 887</td><td>1070.722222</td></tr>\n",
              "\t<tr><td>ytfP</td><td> 220</td><td> 163</td><td> 102</td><td> 217</td><td>  90</td><td>  78</td><td> 85</td><td> 76</td><td> 185</td><td> 170</td><td> 208</td><td> 220</td><td> 44</td><td> 251</td><td> 270</td><td> 259</td><td> 156</td><td> 129</td><td> 162.388889</td></tr>\n",
              "\t<tr><td>ytfQ</td><td>  68</td><td>  36</td><td>  43</td><td>  75</td><td>  27</td><td>  46</td><td> 24</td><td> 26</td><td>  51</td><td>  58</td><td>  75</td><td>  83</td><td> 14</td><td>  45</td><td>  84</td><td>  73</td><td>  33</td><td>  45</td><td>  50.333333</td></tr>\n",
              "\t<tr><td>ytfR</td><td>  95</td><td>  34</td><td>  33</td><td>  58</td><td>  30</td><td>  22</td><td> 26</td><td> 20</td><td>  57</td><td>  46</td><td>  62</td><td>  78</td><td> 10</td><td>  48</td><td>  68</td><td>  49</td><td>  27</td><td>  29</td><td>  44.000000</td></tr>\n",
              "\t<tr><td>ytfT</td><td>  28</td><td>  15</td><td>   4</td><td>  15</td><td>   5</td><td>  10</td><td>  7</td><td>  3</td><td>  26</td><td>  22</td><td>  21</td><td>  33</td><td>  8</td><td>  16</td><td>  29</td><td>  22</td><td>  19</td><td>  15</td><td>  16.555556</td></tr>\n",
              "\t<tr><td>ytjA</td><td>  99</td><td>  97</td><td>  92</td><td> 345</td><td> 396</td><td> 555</td><td> 91</td><td> 69</td><td> 219</td><td> 440</td><td>1134</td><td>1993</td><td> 38</td><td> 136</td><td> 226</td><td> 425</td><td> 384</td><td> 834</td><td> 420.722222</td></tr>\n",
              "\t<tr><td>ytjB</td><td> 135</td><td> 110</td><td> 124</td><td> 169</td><td>  92</td><td>  82</td><td> 71</td><td> 84</td><td> 146</td><td> 167</td><td> 191</td><td> 188</td><td> 48</td><td> 161</td><td> 278</td><td> 233</td><td>  75</td><td>  93</td><td> 135.944444</td></tr>\n",
              "\t<tr><td>ytjC</td><td> 507</td><td> 389</td><td> 351</td><td> 478</td><td> 279</td><td> 296</td><td>243</td><td>250</td><td> 400</td><td> 412</td><td> 499</td><td> 557</td><td>137</td><td> 574</td><td> 795</td><td> 519</td><td> 232</td><td> 348</td><td> 403.666667</td></tr>\n",
              "\t<tr><td>yzcX</td><td>  49</td><td>  31</td><td>  21</td><td>  34</td><td>  27</td><td>  35</td><td> 32</td><td> 21</td><td>  26</td><td>  33</td><td>  28</td><td>  69</td><td> 11</td><td>  63</td><td>  71</td><td>  37</td><td>  21</td><td>  24</td><td>  35.166667</td></tr>\n",
              "\t<tr><td>yzfA</td><td>  22</td><td>  12</td><td>   8</td><td>  18</td><td>   4</td><td>   8</td><td>  4</td><td>  3</td><td>   7</td><td>  11</td><td>   7</td><td>  11</td><td>  3</td><td>  10</td><td>   7</td><td>   9</td><td>   7</td><td>  12</td><td>   9.055556</td></tr>\n",
              "\t<tr><td>yzgL</td><td>  24</td><td>  13</td><td>  10</td><td>  21</td><td>  15</td><td>  21</td><td> 13</td><td> 10</td><td>  13</td><td>  17</td><td>  20</td><td>  40</td><td>  6</td><td>  30</td><td>  24</td><td>  27</td><td>  13</td><td>  18</td><td>  18.611111</td></tr>\n",
              "\t<tr><td>zapA</td><td>1573</td><td>1179</td><td>1240</td><td>1713</td><td> 879</td><td> 726</td><td>779</td><td>660</td><td>1245</td><td>1366</td><td>1789</td><td>1862</td><td>504</td><td>1850</td><td>2306</td><td>2209</td><td>1025</td><td>1145</td><td>1336.111111</td></tr>\n",
              "\t<tr><td>zipA</td><td>1537</td><td>1364</td><td>1331</td><td>2043</td><td>1212</td><td>1089</td><td>966</td><td>962</td><td>1775</td><td>2075</td><td>2374</td><td>2605</td><td>638</td><td>2421</td><td>3016</td><td>2445</td><td>1239</td><td>1710</td><td>1711.222222</td></tr>\n",
              "\t<tr><td>zitB</td><td> 542</td><td> 370</td><td> 364</td><td> 569</td><td> 239</td><td> 157</td><td>270</td><td>198</td><td> 496</td><td> 384</td><td> 406</td><td> 338</td><td>165</td><td> 563</td><td> 746</td><td> 592</td><td> 239</td><td> 250</td><td> 382.666667</td></tr>\n",
              "\t<tr><td>zntA</td><td> 576</td><td> 518</td><td> 428</td><td> 657</td><td> 350</td><td> 265</td><td>360</td><td>334</td><td> 545</td><td> 547</td><td> 566</td><td> 624</td><td>209</td><td> 823</td><td>1003</td><td> 707</td><td> 320</td><td> 563</td><td> 521.944444</td></tr>\n",
              "\t<tr><td>zntR</td><td> 189</td><td> 138</td><td> 127</td><td> 244</td><td> 119</td><td> 126</td><td>114</td><td> 70</td><td> 160</td><td> 165</td><td> 209</td><td> 261</td><td> 57</td><td> 223</td><td> 353</td><td> 262</td><td> 115</td><td> 143</td><td> 170.833333</td></tr>\n",
              "\t<tr><td>znuA</td><td> 327</td><td> 231</td><td> 226</td><td> 410</td><td> 238</td><td> 194</td><td>213</td><td>241</td><td> 365</td><td> 380</td><td> 422</td><td> 419</td><td>109</td><td> 433</td><td> 555</td><td> 440</td><td> 170</td><td> 226</td><td> 311.055556</td></tr>\n",
              "\t<tr><td>znuB</td><td> 154</td><td> 101</td><td> 123</td><td> 168</td><td>  58</td><td>  71</td><td> 57</td><td> 62</td><td> 138</td><td> 113</td><td> 138</td><td> 169</td><td> 44</td><td> 134</td><td> 185</td><td> 137</td><td>  63</td><td>  90</td><td> 111.388889</td></tr>\n",
              "\t<tr><td>znuC</td><td> 293</td><td> 207</td><td> 189</td><td> 326</td><td> 160</td><td> 126</td><td>137</td><td>124</td><td> 268</td><td> 276</td><td> 298</td><td> 280</td><td> 90</td><td> 255</td><td> 428</td><td> 289</td><td> 167</td><td> 151</td><td> 225.777778</td></tr>\n",
              "\t<tr><td>zraP</td><td> 108</td><td>  79</td><td>  66</td><td> 102</td><td>  50</td><td>  35</td><td> 52</td><td> 41</td><td>  82</td><td>  86</td><td>  98</td><td>  72</td><td> 30</td><td> 134</td><td> 188</td><td> 143</td><td>  50</td><td>  62</td><td>  82.111111</td></tr>\n",
              "\t<tr><td>zraR</td><td> 212</td><td> 131</td><td> 142</td><td> 195</td><td>  89</td><td>  84</td><td> 83</td><td> 77</td><td> 150</td><td> 130</td><td> 134</td><td> 188</td><td> 52</td><td> 200</td><td> 282</td><td> 181</td><td>  94</td><td>  91</td><td> 139.722222</td></tr>\n",
              "\t<tr><td>zraS</td><td>  75</td><td>  35</td><td>  37</td><td>  53</td><td>  27</td><td>  16</td><td> 36</td><td> 16</td><td>  60</td><td>  37</td><td>  51</td><td>  71</td><td> 16</td><td>  72</td><td>  69</td><td>  48</td><td>  30</td><td>  33</td><td>  43.444444</td></tr>\n",
              "\t<tr><td>zupT</td><td> 112</td><td>  60</td><td>  81</td><td> 109</td><td>  46</td><td>  35</td><td> 55</td><td> 44</td><td>  85</td><td>  66</td><td>  80</td><td> 114</td><td> 38</td><td> 111</td><td> 140</td><td> 114</td><td>  59</td><td>  57</td><td>  78.111111</td></tr>\n",
              "\t<tr><td>zur </td><td> 254</td><td> 192</td><td> 158</td><td> 225</td><td> 120</td><td> 136</td><td>150</td><td> 98</td><td> 194</td><td> 201</td><td> 210</td><td> 194</td><td> 78</td><td> 283</td><td> 328</td><td> 242</td><td> 109</td><td> 152</td><td> 184.666667</td></tr>\n",
              "\t<tr><td>zwf </td><td>1401</td><td>1125</td><td>1181</td><td>1746</td><td> 888</td><td> 917</td><td>909</td><td>692</td><td>1660</td><td>1612</td><td>1881</td><td>2095</td><td>402</td><td>1637</td><td>2896</td><td>1783</td><td> 801</td><td>1097</td><td>1373.500000</td></tr>\n",
              "</tbody>\n",
              "</table>\n"
            ],
            "text/latex": [
              "A data.table: 4319 × 20\n",
              "\\begin{tabular}{llllllllllllllllllll}\n",
              " ...1 & E14R012a01 & E14R012a02 & E14R012a03 & E14R012a04 & E14R012a05 & E14R012a06 & E14R012b01 & E14R012b02 & E14R012b03 & E14R012b04 & E14R012b05 & E14R012b06 & E14R012c01 & E14R012c02 & E14R012c03 & E14R012c04 & E14R012c05 & E14R012c06 & mean\\\\\n",
              " <chr> & <dbl> & <dbl> & <dbl> & <dbl> & <dbl> & <dbl> & <dbl> & <dbl> & <dbl> & <dbl> & <dbl> & <dbl> & <dbl> & <dbl> & <dbl> & <dbl> & <dbl> & <dbl> & <dbl>\\\\\n",
              "\\hline\n",
              "\t aaeA &   100 &    56 &    44 &    94 &    32 &    38 &   55 &   41 &    74 &    89 &     88 &   101 &   29 &   109 &   132 &    90 &    50 &    66 &    71.55556\\\\\n",
              "\t aaeB &   116 &    47 &    54 &    80 &    37 &    43 &   54 &   31 &    72 &    75 &     69 &   123 &   22 &   101 &   104 &    88 &    58 &    81 &    69.72222\\\\\n",
              "\t aaeR &   316 &   253 &   249 &   396 &   181 &   176 &  220 &  164 &   277 &   363 &    400 &   333 &  117 &   381 &   521 &   393 &   194 &   213 &   285.94444\\\\\n",
              "\t aaeX &    77 &    53 &    53 &    86 &    46 &    37 &   68 &   35 &    70 &    85 &     96 &    91 &   52 &    76 &   134 &   132 &    45 &    58 &    71.88889\\\\\n",
              "\t aas  &   407 &   286 &   283 &   375 &   188 &   169 &  265 &  189 &   380 &   362 &    399 &   427 &  128 &   471 &   614 &   470 &   208 &   283 &   328.00000\\\\\n",
              "\t aat  &   243 &   169 &   163 &   252 &   104 &   169 &  104 &  116 &   219 &   263 &    232 &   300 &   68 &   233 &   348 &   237 &   123 &   202 &   196.94444\\\\\n",
              "\t abgA &    33 &    14 &     4 &    16 &     5 &    10 &    7 &    6 &    15 &    25 &     23 &    29 &    9 &    19 &    26 &    26 &    21 &    16 &    16.88889\\\\\n",
              "\t abgB &    84 &    43 &    39 &    84 &    41 &    34 &   45 &   25 &    52 &    58 &     68 &    99 &   13 &    53 &   104 &    87 &    66 &    36 &    57.27778\\\\\n",
              "\t abgR &    57 &    34 &    33 &    49 &    31 &    17 &   26 &   29 &    32 &    50 &     53 &    65 &   15 &    59 &    76 &    53 &    35 &    35 &    41.61111\\\\\n",
              "\t abgT &    54 &    18 &    20 &    38 &    16 &    23 &   17 &   14 &    26 &    31 &     37 &    65 &   16 &    42 &    41 &    37 &    33 &    24 &    30.66667\\\\\n",
              "\t abrB &   168 &    87 &    59 &    85 &    39 &    28 &   72 &   37 &    61 &    62 &     57 &    73 &   46 &   121 &   121 &    70 &    44 &    44 &    70.77778\\\\\n",
              "\t accA &  1697 &  1311 &  1383 &  1923 &   991 &  1014 &  843 &  858 &  1769 &  1726 &   1903 &  2037 &  551 &  1833 &  2892 &  1730 &   868 &  1205 &  1474.11111\\\\\n",
              "\t accB &  2251 &  1589 &  1430 &  2213 &  1152 &  1268 & 1385 & 1142 &  2046 &  1721 &   1741 &  1972 &  714 &  2738 &  3616 &  2274 &   824 &  1036 &  1728.44444\\\\\n",
              "\t accC &  3455 &  2476 &  2458 &  3342 &  1632 &  2061 & 1918 & 1786 &  3298 &  2562 &   2455 &  2708 & 1215 &  3832 &  5798 &  3270 &  1242 &  1549 &  2614.27778\\\\\n",
              "\t accD &  3703 &  2782 &  2698 &  3801 &  2094 &  2245 & 1655 & 1672 &  3246 &  3241 &   3643 &  4018 &  986 &  4206 &  5934 &  4135 &  2056 &  2393 &  3028.22222\\\\\n",
              "\t aceA &  7504 &  6128 &  6266 & 18036 & 17943 & 19741 & 4890 & 4029 & 10336 & 17512 &  36115 & 36246 & 2135 &  6797 & 13635 & 13673 & 11191 & 18071 & 13902.66667\\\\\n",
              "\t aceB & 14621 & 11841 & 14504 & 37278 & 26575 & 20508 & 8725 & 7625 & 23785 & 32095 &  50934 & 45007 & 4129 & 14100 & 29049 & 29926 & 18950 & 23297 & 22941.61111\\\\\n",
              "\t aceE &  5014 &  4015 &  5592 & 48489 & 69608 & 62316 & 3236 & 2629 & 15857 & 50081 & 123510 & 96158 & 1365 &  4384 & 11286 & 37133 & 44134 & 50136 & 35274.61111\\\\\n",
              "\t aceF &  2918 &  2321 &  2276 &  5233 & 30171 & 33593 & 1893 & 1482 &  3506 &  6638 &  59601 & 53738 &  870 &  2720 &  5321 &  4115 & 20187 & 29913 & 14805.33333\\\\\n",
              "\t aceK &  1100 &   773 &   884 &  1867 &  2196 &  2783 &  659 &  475 &  1180 &  1964 &   4593 &  4751 &  319 &  1064 &  1611 &  1492 &  1627 &  2715 &  1780.72222\\\\\n",
              "\t ackA & 12323 &  9815 &  9020 & 12770 &  4441 &  3811 & 7523 & 5353 & 11573 &  9647 &   8032 &  5415 & 3644 & 12143 & 20234 & 11491 &  3160 &  2901 &  8516.44444\\\\\n",
              "\t acnA &   757 &   603 &   711 &  2529 &  2452 &  2347 &  507 &  413 &  1451 &  2667 &   5561 &  5514 &  225 &   776 &  1689 &  2243 &  1967 &  2941 &  1964.05556\\\\\n",
              "\t acnB &  1654 &  1312 &  2198 & 13189 & 16464 & 15863 & 1029 & 1113 &  6024 & 16032 &  36113 & 26821 &  481 &  1638 &  4988 & 11244 & 12518 & 14688 & 10187.16667\\\\\n",
              "\t acpP &  7934 &  6968 &  6921 & 10782 &  4423 &  5105 & 4914 & 4097 &  7384 &  8470 &   9571 & 11074 & 2802 & 10651 & 14311 & 13139 &  5210 &  6717 &  7804.05556\\\\\n",
              "\t acpS &   199 &   159 &   162 &   228 &    76 &    69 &  119 &  109 &   190 &   213 &    212 &   156 &   62 &   276 &   350 &   253 &    93 &    99 &   168.05556\\\\\n",
              "\t acpT &   294 &   218 &   229 &   271 &   140 &   112 &  132 &  128 &   232 &   244 &    260 &   290 &   99 &   338 &   444 &   318 &   130 &   178 &   225.38889\\\\\n",
              "\t acrA &  1088 &   837 &   834 &  1219 &   809 &   840 &  671 &  583 &  1154 &  1145 &   1474 &  1489 &  369 &  1245 &  2016 &  1277 &   669 &   873 &  1032.88889\\\\\n",
              "\t acrB &  2594 &  1883 &  1949 &  3160 &  1602 &  1993 & 1400 & 1272 &  2894 &  2702 &   3181 &  3362 &  727 &  2570 &  4171 &  3181 &  1582 &  1959 &  2343.44444\\\\\n",
              "\t acrD &   285 &   172 &   170 &   270 &   107 &   115 &   96 &  107 &   228 &   177 &    223 &   238 &   70 &   247 &   331 &   217 &   134 &   131 &   184.33333\\\\\n",
              "\t acrE &    42 &    10 &    13 &    13 &     5 &    13 &    8 &    4 &    17 &    14 &     13 &    31 &   10 &    23 &    21 &    17 &    12 &     9 &    15.27778\\\\\n",
              "\t ⋮ & ⋮ & ⋮ & ⋮ & ⋮ & ⋮ & ⋮ & ⋮ & ⋮ & ⋮ & ⋮ & ⋮ & ⋮ & ⋮ & ⋮ & ⋮ & ⋮ & ⋮ & ⋮ & ⋮\\\\\n",
              "\t ytfI &   43 &   10 &    5 &   19 &   13 &   14 &  14 &   7 &   11 &   15 &   24 &   34 &   9 &   25 &   26 &   32 &   19 &    9 &   18.277778\\\\\n",
              "\t ytfJ &   35 &   14 &    9 &   29 &   12 &   19 &  13 &   6 &   12 &   16 &   31 &   59 &   8 &   29 &   28 &   30 &   13 &   23 &   21.444444\\\\\n",
              "\t ytfK &  112 &   88 &   92 &  165 &   87 &  237 &  64 &  57 &   74 &  132 &  229 &  500 &  48 &  157 &  168 &  184 &  134 &  353 &  160.055556\\\\\n",
              "\t ytfL &  242 &  152 &  156 &  231 &  103 &  101 &  97 &  78 &  164 &  178 &  216 &  239 &  64 &  198 &  275 &  210 &  126 &  158 &  166.000000\\\\\n",
              "\t ytfM &  580 &  484 &  523 &  749 &  380 &  333 & 389 & 337 &  675 &  814 &  910 &  938 & 215 &  806 & 1299 &  869 &  331 &  461 &  616.277778\\\\\n",
              "\t ytfN & 1195 &  851 &  923 & 1419 &  605 &  604 & 628 & 593 & 1350 & 1186 & 1327 & 1473 & 342 & 1434 & 2031 & 1721 &  704 &  887 & 1070.722222\\\\\n",
              "\t ytfP &  220 &  163 &  102 &  217 &   90 &   78 &  85 &  76 &  185 &  170 &  208 &  220 &  44 &  251 &  270 &  259 &  156 &  129 &  162.388889\\\\\n",
              "\t ytfQ &   68 &   36 &   43 &   75 &   27 &   46 &  24 &  26 &   51 &   58 &   75 &   83 &  14 &   45 &   84 &   73 &   33 &   45 &   50.333333\\\\\n",
              "\t ytfR &   95 &   34 &   33 &   58 &   30 &   22 &  26 &  20 &   57 &   46 &   62 &   78 &  10 &   48 &   68 &   49 &   27 &   29 &   44.000000\\\\\n",
              "\t ytfT &   28 &   15 &    4 &   15 &    5 &   10 &   7 &   3 &   26 &   22 &   21 &   33 &   8 &   16 &   29 &   22 &   19 &   15 &   16.555556\\\\\n",
              "\t ytjA &   99 &   97 &   92 &  345 &  396 &  555 &  91 &  69 &  219 &  440 & 1134 & 1993 &  38 &  136 &  226 &  425 &  384 &  834 &  420.722222\\\\\n",
              "\t ytjB &  135 &  110 &  124 &  169 &   92 &   82 &  71 &  84 &  146 &  167 &  191 &  188 &  48 &  161 &  278 &  233 &   75 &   93 &  135.944444\\\\\n",
              "\t ytjC &  507 &  389 &  351 &  478 &  279 &  296 & 243 & 250 &  400 &  412 &  499 &  557 & 137 &  574 &  795 &  519 &  232 &  348 &  403.666667\\\\\n",
              "\t yzcX &   49 &   31 &   21 &   34 &   27 &   35 &  32 &  21 &   26 &   33 &   28 &   69 &  11 &   63 &   71 &   37 &   21 &   24 &   35.166667\\\\\n",
              "\t yzfA &   22 &   12 &    8 &   18 &    4 &    8 &   4 &   3 &    7 &   11 &    7 &   11 &   3 &   10 &    7 &    9 &    7 &   12 &    9.055556\\\\\n",
              "\t yzgL &   24 &   13 &   10 &   21 &   15 &   21 &  13 &  10 &   13 &   17 &   20 &   40 &   6 &   30 &   24 &   27 &   13 &   18 &   18.611111\\\\\n",
              "\t zapA & 1573 & 1179 & 1240 & 1713 &  879 &  726 & 779 & 660 & 1245 & 1366 & 1789 & 1862 & 504 & 1850 & 2306 & 2209 & 1025 & 1145 & 1336.111111\\\\\n",
              "\t zipA & 1537 & 1364 & 1331 & 2043 & 1212 & 1089 & 966 & 962 & 1775 & 2075 & 2374 & 2605 & 638 & 2421 & 3016 & 2445 & 1239 & 1710 & 1711.222222\\\\\n",
              "\t zitB &  542 &  370 &  364 &  569 &  239 &  157 & 270 & 198 &  496 &  384 &  406 &  338 & 165 &  563 &  746 &  592 &  239 &  250 &  382.666667\\\\\n",
              "\t zntA &  576 &  518 &  428 &  657 &  350 &  265 & 360 & 334 &  545 &  547 &  566 &  624 & 209 &  823 & 1003 &  707 &  320 &  563 &  521.944444\\\\\n",
              "\t zntR &  189 &  138 &  127 &  244 &  119 &  126 & 114 &  70 &  160 &  165 &  209 &  261 &  57 &  223 &  353 &  262 &  115 &  143 &  170.833333\\\\\n",
              "\t znuA &  327 &  231 &  226 &  410 &  238 &  194 & 213 & 241 &  365 &  380 &  422 &  419 & 109 &  433 &  555 &  440 &  170 &  226 &  311.055556\\\\\n",
              "\t znuB &  154 &  101 &  123 &  168 &   58 &   71 &  57 &  62 &  138 &  113 &  138 &  169 &  44 &  134 &  185 &  137 &   63 &   90 &  111.388889\\\\\n",
              "\t znuC &  293 &  207 &  189 &  326 &  160 &  126 & 137 & 124 &  268 &  276 &  298 &  280 &  90 &  255 &  428 &  289 &  167 &  151 &  225.777778\\\\\n",
              "\t zraP &  108 &   79 &   66 &  102 &   50 &   35 &  52 &  41 &   82 &   86 &   98 &   72 &  30 &  134 &  188 &  143 &   50 &   62 &   82.111111\\\\\n",
              "\t zraR &  212 &  131 &  142 &  195 &   89 &   84 &  83 &  77 &  150 &  130 &  134 &  188 &  52 &  200 &  282 &  181 &   94 &   91 &  139.722222\\\\\n",
              "\t zraS &   75 &   35 &   37 &   53 &   27 &   16 &  36 &  16 &   60 &   37 &   51 &   71 &  16 &   72 &   69 &   48 &   30 &   33 &   43.444444\\\\\n",
              "\t zupT &  112 &   60 &   81 &  109 &   46 &   35 &  55 &  44 &   85 &   66 &   80 &  114 &  38 &  111 &  140 &  114 &   59 &   57 &   78.111111\\\\\n",
              "\t zur  &  254 &  192 &  158 &  225 &  120 &  136 & 150 &  98 &  194 &  201 &  210 &  194 &  78 &  283 &  328 &  242 &  109 &  152 &  184.666667\\\\\n",
              "\t zwf  & 1401 & 1125 & 1181 & 1746 &  888 &  917 & 909 & 692 & 1660 & 1612 & 1881 & 2095 & 402 & 1637 & 2896 & 1783 &  801 & 1097 & 1373.500000\\\\\n",
              "\\end{tabular}\n"
            ],
            "text/markdown": [
              "\n",
              "A data.table: 4319 × 20\n",
              "\n",
              "| ...1 &lt;chr&gt; | E14R012a01 &lt;dbl&gt; | E14R012a02 &lt;dbl&gt; | E14R012a03 &lt;dbl&gt; | E14R012a04 &lt;dbl&gt; | E14R012a05 &lt;dbl&gt; | E14R012a06 &lt;dbl&gt; | E14R012b01 &lt;dbl&gt; | E14R012b02 &lt;dbl&gt; | E14R012b03 &lt;dbl&gt; | E14R012b04 &lt;dbl&gt; | E14R012b05 &lt;dbl&gt; | E14R012b06 &lt;dbl&gt; | E14R012c01 &lt;dbl&gt; | E14R012c02 &lt;dbl&gt; | E14R012c03 &lt;dbl&gt; | E14R012c04 &lt;dbl&gt; | E14R012c05 &lt;dbl&gt; | E14R012c06 &lt;dbl&gt; | mean &lt;dbl&gt; |\n",
              "|---|---|---|---|---|---|---|---|---|---|---|---|---|---|---|---|---|---|---|---|\n",
              "| aaeA |   100 |    56 |    44 |    94 |    32 |    38 |   55 |   41 |    74 |    89 |     88 |   101 |   29 |   109 |   132 |    90 |    50 |    66 |    71.55556 |\n",
              "| aaeB |   116 |    47 |    54 |    80 |    37 |    43 |   54 |   31 |    72 |    75 |     69 |   123 |   22 |   101 |   104 |    88 |    58 |    81 |    69.72222 |\n",
              "| aaeR |   316 |   253 |   249 |   396 |   181 |   176 |  220 |  164 |   277 |   363 |    400 |   333 |  117 |   381 |   521 |   393 |   194 |   213 |   285.94444 |\n",
              "| aaeX |    77 |    53 |    53 |    86 |    46 |    37 |   68 |   35 |    70 |    85 |     96 |    91 |   52 |    76 |   134 |   132 |    45 |    58 |    71.88889 |\n",
              "| aas  |   407 |   286 |   283 |   375 |   188 |   169 |  265 |  189 |   380 |   362 |    399 |   427 |  128 |   471 |   614 |   470 |   208 |   283 |   328.00000 |\n",
              "| aat  |   243 |   169 |   163 |   252 |   104 |   169 |  104 |  116 |   219 |   263 |    232 |   300 |   68 |   233 |   348 |   237 |   123 |   202 |   196.94444 |\n",
              "| abgA |    33 |    14 |     4 |    16 |     5 |    10 |    7 |    6 |    15 |    25 |     23 |    29 |    9 |    19 |    26 |    26 |    21 |    16 |    16.88889 |\n",
              "| abgB |    84 |    43 |    39 |    84 |    41 |    34 |   45 |   25 |    52 |    58 |     68 |    99 |   13 |    53 |   104 |    87 |    66 |    36 |    57.27778 |\n",
              "| abgR |    57 |    34 |    33 |    49 |    31 |    17 |   26 |   29 |    32 |    50 |     53 |    65 |   15 |    59 |    76 |    53 |    35 |    35 |    41.61111 |\n",
              "| abgT |    54 |    18 |    20 |    38 |    16 |    23 |   17 |   14 |    26 |    31 |     37 |    65 |   16 |    42 |    41 |    37 |    33 |    24 |    30.66667 |\n",
              "| abrB |   168 |    87 |    59 |    85 |    39 |    28 |   72 |   37 |    61 |    62 |     57 |    73 |   46 |   121 |   121 |    70 |    44 |    44 |    70.77778 |\n",
              "| accA |  1697 |  1311 |  1383 |  1923 |   991 |  1014 |  843 |  858 |  1769 |  1726 |   1903 |  2037 |  551 |  1833 |  2892 |  1730 |   868 |  1205 |  1474.11111 |\n",
              "| accB |  2251 |  1589 |  1430 |  2213 |  1152 |  1268 | 1385 | 1142 |  2046 |  1721 |   1741 |  1972 |  714 |  2738 |  3616 |  2274 |   824 |  1036 |  1728.44444 |\n",
              "| accC |  3455 |  2476 |  2458 |  3342 |  1632 |  2061 | 1918 | 1786 |  3298 |  2562 |   2455 |  2708 | 1215 |  3832 |  5798 |  3270 |  1242 |  1549 |  2614.27778 |\n",
              "| accD |  3703 |  2782 |  2698 |  3801 |  2094 |  2245 | 1655 | 1672 |  3246 |  3241 |   3643 |  4018 |  986 |  4206 |  5934 |  4135 |  2056 |  2393 |  3028.22222 |\n",
              "| aceA |  7504 |  6128 |  6266 | 18036 | 17943 | 19741 | 4890 | 4029 | 10336 | 17512 |  36115 | 36246 | 2135 |  6797 | 13635 | 13673 | 11191 | 18071 | 13902.66667 |\n",
              "| aceB | 14621 | 11841 | 14504 | 37278 | 26575 | 20508 | 8725 | 7625 | 23785 | 32095 |  50934 | 45007 | 4129 | 14100 | 29049 | 29926 | 18950 | 23297 | 22941.61111 |\n",
              "| aceE |  5014 |  4015 |  5592 | 48489 | 69608 | 62316 | 3236 | 2629 | 15857 | 50081 | 123510 | 96158 | 1365 |  4384 | 11286 | 37133 | 44134 | 50136 | 35274.61111 |\n",
              "| aceF |  2918 |  2321 |  2276 |  5233 | 30171 | 33593 | 1893 | 1482 |  3506 |  6638 |  59601 | 53738 |  870 |  2720 |  5321 |  4115 | 20187 | 29913 | 14805.33333 |\n",
              "| aceK |  1100 |   773 |   884 |  1867 |  2196 |  2783 |  659 |  475 |  1180 |  1964 |   4593 |  4751 |  319 |  1064 |  1611 |  1492 |  1627 |  2715 |  1780.72222 |\n",
              "| ackA | 12323 |  9815 |  9020 | 12770 |  4441 |  3811 | 7523 | 5353 | 11573 |  9647 |   8032 |  5415 | 3644 | 12143 | 20234 | 11491 |  3160 |  2901 |  8516.44444 |\n",
              "| acnA |   757 |   603 |   711 |  2529 |  2452 |  2347 |  507 |  413 |  1451 |  2667 |   5561 |  5514 |  225 |   776 |  1689 |  2243 |  1967 |  2941 |  1964.05556 |\n",
              "| acnB |  1654 |  1312 |  2198 | 13189 | 16464 | 15863 | 1029 | 1113 |  6024 | 16032 |  36113 | 26821 |  481 |  1638 |  4988 | 11244 | 12518 | 14688 | 10187.16667 |\n",
              "| acpP |  7934 |  6968 |  6921 | 10782 |  4423 |  5105 | 4914 | 4097 |  7384 |  8470 |   9571 | 11074 | 2802 | 10651 | 14311 | 13139 |  5210 |  6717 |  7804.05556 |\n",
              "| acpS |   199 |   159 |   162 |   228 |    76 |    69 |  119 |  109 |   190 |   213 |    212 |   156 |   62 |   276 |   350 |   253 |    93 |    99 |   168.05556 |\n",
              "| acpT |   294 |   218 |   229 |   271 |   140 |   112 |  132 |  128 |   232 |   244 |    260 |   290 |   99 |   338 |   444 |   318 |   130 |   178 |   225.38889 |\n",
              "| acrA |  1088 |   837 |   834 |  1219 |   809 |   840 |  671 |  583 |  1154 |  1145 |   1474 |  1489 |  369 |  1245 |  2016 |  1277 |   669 |   873 |  1032.88889 |\n",
              "| acrB |  2594 |  1883 |  1949 |  3160 |  1602 |  1993 | 1400 | 1272 |  2894 |  2702 |   3181 |  3362 |  727 |  2570 |  4171 |  3181 |  1582 |  1959 |  2343.44444 |\n",
              "| acrD |   285 |   172 |   170 |   270 |   107 |   115 |   96 |  107 |   228 |   177 |    223 |   238 |   70 |   247 |   331 |   217 |   134 |   131 |   184.33333 |\n",
              "| acrE |    42 |    10 |    13 |    13 |     5 |    13 |    8 |    4 |    17 |    14 |     13 |    31 |   10 |    23 |    21 |    17 |    12 |     9 |    15.27778 |\n",
              "| ⋮ | ⋮ | ⋮ | ⋮ | ⋮ | ⋮ | ⋮ | ⋮ | ⋮ | ⋮ | ⋮ | ⋮ | ⋮ | ⋮ | ⋮ | ⋮ | ⋮ | ⋮ | ⋮ | ⋮ |\n",
              "| ytfI |   43 |   10 |    5 |   19 |   13 |   14 |  14 |   7 |   11 |   15 |   24 |   34 |   9 |   25 |   26 |   32 |   19 |    9 |   18.277778 |\n",
              "| ytfJ |   35 |   14 |    9 |   29 |   12 |   19 |  13 |   6 |   12 |   16 |   31 |   59 |   8 |   29 |   28 |   30 |   13 |   23 |   21.444444 |\n",
              "| ytfK |  112 |   88 |   92 |  165 |   87 |  237 |  64 |  57 |   74 |  132 |  229 |  500 |  48 |  157 |  168 |  184 |  134 |  353 |  160.055556 |\n",
              "| ytfL |  242 |  152 |  156 |  231 |  103 |  101 |  97 |  78 |  164 |  178 |  216 |  239 |  64 |  198 |  275 |  210 |  126 |  158 |  166.000000 |\n",
              "| ytfM |  580 |  484 |  523 |  749 |  380 |  333 | 389 | 337 |  675 |  814 |  910 |  938 | 215 |  806 | 1299 |  869 |  331 |  461 |  616.277778 |\n",
              "| ytfN | 1195 |  851 |  923 | 1419 |  605 |  604 | 628 | 593 | 1350 | 1186 | 1327 | 1473 | 342 | 1434 | 2031 | 1721 |  704 |  887 | 1070.722222 |\n",
              "| ytfP |  220 |  163 |  102 |  217 |   90 |   78 |  85 |  76 |  185 |  170 |  208 |  220 |  44 |  251 |  270 |  259 |  156 |  129 |  162.388889 |\n",
              "| ytfQ |   68 |   36 |   43 |   75 |   27 |   46 |  24 |  26 |   51 |   58 |   75 |   83 |  14 |   45 |   84 |   73 |   33 |   45 |   50.333333 |\n",
              "| ytfR |   95 |   34 |   33 |   58 |   30 |   22 |  26 |  20 |   57 |   46 |   62 |   78 |  10 |   48 |   68 |   49 |   27 |   29 |   44.000000 |\n",
              "| ytfT |   28 |   15 |    4 |   15 |    5 |   10 |   7 |   3 |   26 |   22 |   21 |   33 |   8 |   16 |   29 |   22 |   19 |   15 |   16.555556 |\n",
              "| ytjA |   99 |   97 |   92 |  345 |  396 |  555 |  91 |  69 |  219 |  440 | 1134 | 1993 |  38 |  136 |  226 |  425 |  384 |  834 |  420.722222 |\n",
              "| ytjB |  135 |  110 |  124 |  169 |   92 |   82 |  71 |  84 |  146 |  167 |  191 |  188 |  48 |  161 |  278 |  233 |   75 |   93 |  135.944444 |\n",
              "| ytjC |  507 |  389 |  351 |  478 |  279 |  296 | 243 | 250 |  400 |  412 |  499 |  557 | 137 |  574 |  795 |  519 |  232 |  348 |  403.666667 |\n",
              "| yzcX |   49 |   31 |   21 |   34 |   27 |   35 |  32 |  21 |   26 |   33 |   28 |   69 |  11 |   63 |   71 |   37 |   21 |   24 |   35.166667 |\n",
              "| yzfA |   22 |   12 |    8 |   18 |    4 |    8 |   4 |   3 |    7 |   11 |    7 |   11 |   3 |   10 |    7 |    9 |    7 |   12 |    9.055556 |\n",
              "| yzgL |   24 |   13 |   10 |   21 |   15 |   21 |  13 |  10 |   13 |   17 |   20 |   40 |   6 |   30 |   24 |   27 |   13 |   18 |   18.611111 |\n",
              "| zapA | 1573 | 1179 | 1240 | 1713 |  879 |  726 | 779 | 660 | 1245 | 1366 | 1789 | 1862 | 504 | 1850 | 2306 | 2209 | 1025 | 1145 | 1336.111111 |\n",
              "| zipA | 1537 | 1364 | 1331 | 2043 | 1212 | 1089 | 966 | 962 | 1775 | 2075 | 2374 | 2605 | 638 | 2421 | 3016 | 2445 | 1239 | 1710 | 1711.222222 |\n",
              "| zitB |  542 |  370 |  364 |  569 |  239 |  157 | 270 | 198 |  496 |  384 |  406 |  338 | 165 |  563 |  746 |  592 |  239 |  250 |  382.666667 |\n",
              "| zntA |  576 |  518 |  428 |  657 |  350 |  265 | 360 | 334 |  545 |  547 |  566 |  624 | 209 |  823 | 1003 |  707 |  320 |  563 |  521.944444 |\n",
              "| zntR |  189 |  138 |  127 |  244 |  119 |  126 | 114 |  70 |  160 |  165 |  209 |  261 |  57 |  223 |  353 |  262 |  115 |  143 |  170.833333 |\n",
              "| znuA |  327 |  231 |  226 |  410 |  238 |  194 | 213 | 241 |  365 |  380 |  422 |  419 | 109 |  433 |  555 |  440 |  170 |  226 |  311.055556 |\n",
              "| znuB |  154 |  101 |  123 |  168 |   58 |   71 |  57 |  62 |  138 |  113 |  138 |  169 |  44 |  134 |  185 |  137 |   63 |   90 |  111.388889 |\n",
              "| znuC |  293 |  207 |  189 |  326 |  160 |  126 | 137 | 124 |  268 |  276 |  298 |  280 |  90 |  255 |  428 |  289 |  167 |  151 |  225.777778 |\n",
              "| zraP |  108 |   79 |   66 |  102 |   50 |   35 |  52 |  41 |   82 |   86 |   98 |   72 |  30 |  134 |  188 |  143 |   50 |   62 |   82.111111 |\n",
              "| zraR |  212 |  131 |  142 |  195 |   89 |   84 |  83 |  77 |  150 |  130 |  134 |  188 |  52 |  200 |  282 |  181 |   94 |   91 |  139.722222 |\n",
              "| zraS |   75 |   35 |   37 |   53 |   27 |   16 |  36 |  16 |   60 |   37 |   51 |   71 |  16 |   72 |   69 |   48 |   30 |   33 |   43.444444 |\n",
              "| zupT |  112 |   60 |   81 |  109 |   46 |   35 |  55 |  44 |   85 |   66 |   80 |  114 |  38 |  111 |  140 |  114 |   59 |   57 |   78.111111 |\n",
              "| zur  |  254 |  192 |  158 |  225 |  120 |  136 | 150 |  98 |  194 |  201 |  210 |  194 |  78 |  283 |  328 |  242 |  109 |  152 |  184.666667 |\n",
              "| zwf  | 1401 | 1125 | 1181 | 1746 |  888 |  917 | 909 | 692 | 1660 | 1612 | 1881 | 2095 | 402 | 1637 | 2896 | 1783 |  801 | 1097 | 1373.500000 |\n",
              "\n"
            ],
            "text/plain": [
              "     ...1 E14R012a01 E14R012a02 E14R012a03 E14R012a04 E14R012a05 E14R012a06\n",
              "1    aaeA   100         56         44         94         32         38     \n",
              "2    aaeB   116         47         54         80         37         43     \n",
              "3    aaeR   316        253        249        396        181        176     \n",
              "4    aaeX    77         53         53         86         46         37     \n",
              "5    aas    407        286        283        375        188        169     \n",
              "6    aat    243        169        163        252        104        169     \n",
              "7    abgA    33         14          4         16          5         10     \n",
              "8    abgB    84         43         39         84         41         34     \n",
              "9    abgR    57         34         33         49         31         17     \n",
              "10   abgT    54         18         20         38         16         23     \n",
              "11   abrB   168         87         59         85         39         28     \n",
              "12   accA  1697       1311       1383       1923        991       1014     \n",
              "13   accB  2251       1589       1430       2213       1152       1268     \n",
              "14   accC  3455       2476       2458       3342       1632       2061     \n",
              "15   accD  3703       2782       2698       3801       2094       2245     \n",
              "16   aceA  7504       6128       6266      18036      17943      19741     \n",
              "17   aceB 14621      11841      14504      37278      26575      20508     \n",
              "18   aceE  5014       4015       5592      48489      69608      62316     \n",
              "19   aceF  2918       2321       2276       5233      30171      33593     \n",
              "20   aceK  1100        773        884       1867       2196       2783     \n",
              "21   ackA 12323       9815       9020      12770       4441       3811     \n",
              "22   acnA   757        603        711       2529       2452       2347     \n",
              "23   acnB  1654       1312       2198      13189      16464      15863     \n",
              "24   acpP  7934       6968       6921      10782       4423       5105     \n",
              "25   acpS   199        159        162        228         76         69     \n",
              "26   acpT   294        218        229        271        140        112     \n",
              "27   acrA  1088        837        834       1219        809        840     \n",
              "28   acrB  2594       1883       1949       3160       1602       1993     \n",
              "29   acrD   285        172        170        270        107        115     \n",
              "30   acrE    42         10         13         13          5         13     \n",
              "?    ?    ?          ?          ?          ?          ?          ?         \n",
              "4290 ytfI   43         10          5         19         13         14      \n",
              "4291 ytfJ   35         14          9         29         12         19      \n",
              "4292 ytfK  112         88         92        165         87        237      \n",
              "4293 ytfL  242        152        156        231        103        101      \n",
              "4294 ytfM  580        484        523        749        380        333      \n",
              "4295 ytfN 1195        851        923       1419        605        604      \n",
              "4296 ytfP  220        163        102        217         90         78      \n",
              "4297 ytfQ   68         36         43         75         27         46      \n",
              "4298 ytfR   95         34         33         58         30         22      \n",
              "4299 ytfT   28         15          4         15          5         10      \n",
              "4300 ytjA   99         97         92        345        396        555      \n",
              "4301 ytjB  135        110        124        169         92         82      \n",
              "4302 ytjC  507        389        351        478        279        296      \n",
              "4303 yzcX   49         31         21         34         27         35      \n",
              "4304 yzfA   22         12          8         18          4          8      \n",
              "4305 yzgL   24         13         10         21         15         21      \n",
              "4306 zapA 1573       1179       1240       1713        879        726      \n",
              "4307 zipA 1537       1364       1331       2043       1212       1089      \n",
              "4308 zitB  542        370        364        569        239        157      \n",
              "4309 zntA  576        518        428        657        350        265      \n",
              "4310 zntR  189        138        127        244        119        126      \n",
              "4311 znuA  327        231        226        410        238        194      \n",
              "4312 znuB  154        101        123        168         58         71      \n",
              "4313 znuC  293        207        189        326        160        126      \n",
              "4314 zraP  108         79         66        102         50         35      \n",
              "4315 zraR  212        131        142        195         89         84      \n",
              "4316 zraS   75         35         37         53         27         16      \n",
              "4317 zupT  112         60         81        109         46         35      \n",
              "4318 zur   254        192        158        225        120        136      \n",
              "4319 zwf  1401       1125       1181       1746        888        917      \n",
              "     E14R012b01 E14R012b02 E14R012b03 E14R012b04 E14R012b05 E14R012b06\n",
              "1      55         41          74         89          88       101     \n",
              "2      54         31          72         75          69       123     \n",
              "3     220        164         277        363         400       333     \n",
              "4      68         35          70         85          96        91     \n",
              "5     265        189         380        362         399       427     \n",
              "6     104        116         219        263         232       300     \n",
              "7       7          6          15         25          23        29     \n",
              "8      45         25          52         58          68        99     \n",
              "9      26         29          32         50          53        65     \n",
              "10     17         14          26         31          37        65     \n",
              "11     72         37          61         62          57        73     \n",
              "12    843        858        1769       1726        1903      2037     \n",
              "13   1385       1142        2046       1721        1741      1972     \n",
              "14   1918       1786        3298       2562        2455      2708     \n",
              "15   1655       1672        3246       3241        3643      4018     \n",
              "16   4890       4029       10336      17512       36115     36246     \n",
              "17   8725       7625       23785      32095       50934     45007     \n",
              "18   3236       2629       15857      50081      123510     96158     \n",
              "19   1893       1482        3506       6638       59601     53738     \n",
              "20    659        475        1180       1964        4593      4751     \n",
              "21   7523       5353       11573       9647        8032      5415     \n",
              "22    507        413        1451       2667        5561      5514     \n",
              "23   1029       1113        6024      16032       36113     26821     \n",
              "24   4914       4097        7384       8470        9571     11074     \n",
              "25    119        109         190        213         212       156     \n",
              "26    132        128         232        244         260       290     \n",
              "27    671        583        1154       1145        1474      1489     \n",
              "28   1400       1272        2894       2702        3181      3362     \n",
              "29     96        107         228        177         223       238     \n",
              "30      8          4          17         14          13        31     \n",
              "?    ?          ?          ?          ?          ?          ?         \n",
              "4290  14          7          11         15         24         34      \n",
              "4291  13          6          12         16         31         59      \n",
              "4292  64         57          74        132        229        500      \n",
              "4293  97         78         164        178        216        239      \n",
              "4294 389        337         675        814        910        938      \n",
              "4295 628        593        1350       1186       1327       1473      \n",
              "4296  85         76         185        170        208        220      \n",
              "4297  24         26          51         58         75         83      \n",
              "4298  26         20          57         46         62         78      \n",
              "4299   7          3          26         22         21         33      \n",
              "4300  91         69         219        440       1134       1993      \n",
              "4301  71         84         146        167        191        188      \n",
              "4302 243        250         400        412        499        557      \n",
              "4303  32         21          26         33         28         69      \n",
              "4304   4          3           7         11          7         11      \n",
              "4305  13         10          13         17         20         40      \n",
              "4306 779        660        1245       1366       1789       1862      \n",
              "4307 966        962        1775       2075       2374       2605      \n",
              "4308 270        198         496        384        406        338      \n",
              "4309 360        334         545        547        566        624      \n",
              "4310 114         70         160        165        209        261      \n",
              "4311 213        241         365        380        422        419      \n",
              "4312  57         62         138        113        138        169      \n",
              "4313 137        124         268        276        298        280      \n",
              "4314  52         41          82         86         98         72      \n",
              "4315  83         77         150        130        134        188      \n",
              "4316  36         16          60         37         51         71      \n",
              "4317  55         44          85         66         80        114      \n",
              "4318 150         98         194        201        210        194      \n",
              "4319 909        692        1660       1612       1881       2095      \n",
              "     E14R012c01 E14R012c02 E14R012c03 E14R012c04 E14R012c05 E14R012c06\n",
              "1      29         109        132         90         50         66     \n",
              "2      22         101        104         88         58         81     \n",
              "3     117         381        521        393        194        213     \n",
              "4      52          76        134        132         45         58     \n",
              "5     128         471        614        470        208        283     \n",
              "6      68         233        348        237        123        202     \n",
              "7       9          19         26         26         21         16     \n",
              "8      13          53        104         87         66         36     \n",
              "9      15          59         76         53         35         35     \n",
              "10     16          42         41         37         33         24     \n",
              "11     46         121        121         70         44         44     \n",
              "12    551        1833       2892       1730        868       1205     \n",
              "13    714        2738       3616       2274        824       1036     \n",
              "14   1215        3832       5798       3270       1242       1549     \n",
              "15    986        4206       5934       4135       2056       2393     \n",
              "16   2135        6797      13635      13673      11191      18071     \n",
              "17   4129       14100      29049      29926      18950      23297     \n",
              "18   1365        4384      11286      37133      44134      50136     \n",
              "19    870        2720       5321       4115      20187      29913     \n",
              "20    319        1064       1611       1492       1627       2715     \n",
              "21   3644       12143      20234      11491       3160       2901     \n",
              "22    225         776       1689       2243       1967       2941     \n",
              "23    481        1638       4988      11244      12518      14688     \n",
              "24   2802       10651      14311      13139       5210       6717     \n",
              "25     62         276        350        253         93         99     \n",
              "26     99         338        444        318        130        178     \n",
              "27    369        1245       2016       1277        669        873     \n",
              "28    727        2570       4171       3181       1582       1959     \n",
              "29     70         247        331        217        134        131     \n",
              "30     10          23         21         17         12          9     \n",
              "?    ?          ?          ?          ?          ?          ?         \n",
              "4290   9          25         26         32         19          9      \n",
              "4291   8          29         28         30         13         23      \n",
              "4292  48         157        168        184        134        353      \n",
              "4293  64         198        275        210        126        158      \n",
              "4294 215         806       1299        869        331        461      \n",
              "4295 342        1434       2031       1721        704        887      \n",
              "4296  44         251        270        259        156        129      \n",
              "4297  14          45         84         73         33         45      \n",
              "4298  10          48         68         49         27         29      \n",
              "4299   8          16         29         22         19         15      \n",
              "4300  38         136        226        425        384        834      \n",
              "4301  48         161        278        233         75         93      \n",
              "4302 137         574        795        519        232        348      \n",
              "4303  11          63         71         37         21         24      \n",
              "4304   3          10          7          9          7         12      \n",
              "4305   6          30         24         27         13         18      \n",
              "4306 504        1850       2306       2209       1025       1145      \n",
              "4307 638        2421       3016       2445       1239       1710      \n",
              "4308 165         563        746        592        239        250      \n",
              "4309 209         823       1003        707        320        563      \n",
              "4310  57         223        353        262        115        143      \n",
              "4311 109         433        555        440        170        226      \n",
              "4312  44         134        185        137         63         90      \n",
              "4313  90         255        428        289        167        151      \n",
              "4314  30         134        188        143         50         62      \n",
              "4315  52         200        282        181         94         91      \n",
              "4316  16          72         69         48         30         33      \n",
              "4317  38         111        140        114         59         57      \n",
              "4318  78         283        328        242        109        152      \n",
              "4319 402        1637       2896       1783        801       1097      \n",
              "     mean       \n",
              "1       71.55556\n",
              "2       69.72222\n",
              "3      285.94444\n",
              "4       71.88889\n",
              "5      328.00000\n",
              "6      196.94444\n",
              "7       16.88889\n",
              "8       57.27778\n",
              "9       41.61111\n",
              "10      30.66667\n",
              "11      70.77778\n",
              "12    1474.11111\n",
              "13    1728.44444\n",
              "14    2614.27778\n",
              "15    3028.22222\n",
              "16   13902.66667\n",
              "17   22941.61111\n",
              "18   35274.61111\n",
              "19   14805.33333\n",
              "20    1780.72222\n",
              "21    8516.44444\n",
              "22    1964.05556\n",
              "23   10187.16667\n",
              "24    7804.05556\n",
              "25     168.05556\n",
              "26     225.38889\n",
              "27    1032.88889\n",
              "28    2343.44444\n",
              "29     184.33333\n",
              "30      15.27778\n",
              "?    ?          \n",
              "4290   18.277778\n",
              "4291   21.444444\n",
              "4292  160.055556\n",
              "4293  166.000000\n",
              "4294  616.277778\n",
              "4295 1070.722222\n",
              "4296  162.388889\n",
              "4297   50.333333\n",
              "4298   44.000000\n",
              "4299   16.555556\n",
              "4300  420.722222\n",
              "4301  135.944444\n",
              "4302  403.666667\n",
              "4303   35.166667\n",
              "4304    9.055556\n",
              "4305   18.611111\n",
              "4306 1336.111111\n",
              "4307 1711.222222\n",
              "4308  382.666667\n",
              "4309  521.944444\n",
              "4310  170.833333\n",
              "4311  311.055556\n",
              "4312  111.388889\n",
              "4313  225.777778\n",
              "4314   82.111111\n",
              "4315  139.722222\n",
              "4316   43.444444\n",
              "4317   78.111111\n",
              "4318  184.666667\n",
              "4319 1373.500000"
            ]
          },
          "metadata": {},
          "output_type": "display_data"
        }
      ],
      "source": [
        "mean <- copy(esch_coli)\n",
        "\n",
        "dim(mean)\n",
        "mean$mean <- rowMeans(esch_coli[,2:ncol(esch_coli)])\n",
        "\n",
        "dim(mean)\n",
        "mean"
      ]
    },
    {
      "cell_type": "markdown",
      "metadata": {
        "id": "8Yy2nLvz6Nx6"
      },
      "source": [
        "## Part 4: Jupyter Notebook Report\n",
        "\n",
        "- Introduction: Use a Markdown cell to introduce the objective of this Notebook.\n",
        "- Methodology: Explain the methods and libraries used in this Notebook.\n",
        "- Results: All the code cells from Parts 1 to 4 serve as the results.\n",
        "- Discussion: Use a Markdown cell to discuss the observations and interpretations of the tasks and results.\n",
        "- Conclusion: Summarize the entire assignment and the findings in a Markdown cell."
      ]
    },
    {
      "cell_type": "markdown",
      "metadata": {},
      "source": [
        "#### Methodology\n",
        "\n",
        "Basic Data Table manipulation, and using 2 libraries (data.table, readxl)"
      ]
    },
    {
      "cell_type": "markdown",
      "metadata": {},
      "source": [
        "#### Discussion\n",
        "\n",
        "R is a very good language to use with a lot of data which is very similar to Python\n"
      ]
    },
    {
      "cell_type": "markdown",
      "metadata": {},
      "source": [
        "#### Conclusion\n",
        "\n",
        "R has the similar methods and functions to all other programming language and hopefully will make the course work easier overall."
      ]
    }
  ],
  "metadata": {
    "colab": {
      "collapsed_sections": [
        "ODQrEoOV1zjc",
        "Ha-XVeiz1gmM",
        "0Bs82E2-20N0",
        "dMfUqhkB4mhg",
        "dPRbEM0Q5VfD",
        "W0AXeV6i536c",
        "aH16Bv4O6P_p"
      ],
      "provenance": []
    },
    "kernelspec": {
      "display_name": "R",
      "language": "R",
      "name": "ir"
    },
    "language_info": {
      "codemirror_mode": "r",
      "file_extension": ".r",
      "mimetype": "text/x-r-source",
      "name": "R",
      "pygments_lexer": "r",
      "version": "4.3.1"
    }
  },
  "nbformat": 4,
  "nbformat_minor": 0
}
