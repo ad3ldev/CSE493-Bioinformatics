{
 "cells": [
  {
   "cell_type": "markdown",
   "metadata": {},
   "source": [
    "# Lecture Assignment 1: Genetic Data Analysis using PLINK"
   ]
  },
  {
   "cell_type": "markdown",
   "metadata": {},
   "source": [
    "## Objective:\n",
    "To familiarize students with PLINK, a widely used open-source whole genome association analysis toolset. By the end of this lab, students should understand the basic PLINK commands and be able to perform quality control on genetic data."
   ]
  },
  {
   "cell_type": "markdown",
   "metadata": {},
   "source": [
    "## Prerequisites\n",
    "- Basic knowledge in genetics and R programming.\n",
    "- Installed PLINK software.\n",
    "- Familiarity with the terminal or command-line interface."
   ]
  },
  {
   "cell_type": "code",
   "execution_count": 24,
   "metadata": {
    "vscode": {
     "languageId": "r"
    }
   },
   "outputs": [],
   "source": [
    "shell_call <- function(command, ...) {\n",
    "    result <- system(command, intern = TRUE, ...)\n",
    "    cat(paste0(result, collapse = \"\\n\"))\n",
    "}"
   ]
  },
  {
   "cell_type": "markdown",
   "metadata": {},
   "source": [
    "## Part 1: Data Retrieval and Initial Exploration"
   ]
  },
  {
   "cell_type": "markdown",
   "metadata": {},
   "source": [
    "1.  Download the dataset of 156 Qataris from the provided link Dataset of [156 Qataris](https://www.ncbi.nlm.nih.gov/pmc/articles/PMC2896773/). "
   ]
  },
  {
   "cell_type": "code",
   "execution_count": 25,
   "metadata": {
    "vscode": {
     "languageId": "r"
    }
   },
   "outputs": [],
   "source": [
    "shell_call(\"wget https://www.ncbi.nlm.nih.gov/pmc/articles/PMC2896773/bin/mmc2.zip\")"
   ]
  },
  {
   "cell_type": "markdown",
   "metadata": {},
   "source": [
    "2. Extract and organize the files in a designated directory for easy access."
   ]
  },
  {
   "cell_type": "code",
   "execution_count": 26,
   "metadata": {
    "vscode": {
     "languageId": "r"
    }
   },
   "outputs": [
    {
     "name": "stdout",
     "output_type": "stream",
     "text": [
      "Archive:  mmc2.zip\n",
      "  inflating: Qatari156_filtered_pruned.bed  \n",
      "  inflating: Qatari156_filtered_pruned.bim  \n",
      "  inflating: Qatari156_filtered_pruned.fam  "
     ]
    }
   ],
   "source": [
    "shell_call(\"unzip mmc2.zip\")"
   ]
  },
  {
   "cell_type": "markdown",
   "metadata": {},
   "source": [
    "3.  Use PLINK to view basic statistics of the dataset."
   ]
  },
  {
   "cell_type": "code",
   "execution_count": 27,
   "metadata": {
    "vscode": {
     "languageId": "r"
    }
   },
   "outputs": [
    {
     "name": "stdout",
     "output_type": "stream",
     "text": [
      "\n",
      "@----------------------------------------------------------@\n",
      "|        PLINK!       |     v1.07      |   10/Aug/2009     |\n",
      "|----------------------------------------------------------|\n",
      "|  (C) 2009 Shaun Purcell, GNU General Public License, v2  |\n",
      "|----------------------------------------------------------|\n",
      "|  For documentation, citation & bug-report instructions:  |\n",
      "|        http://pngu.mgh.harvard.edu/purcell/plink/        |\n",
      "@----------------------------------------------------------@\n",
      "\n",
      "Skipping web check... [ --noweb ] \n",
      "Writing this text to log file [ dataset.log ]\n",
      "Analysis started: Sun Oct 22 18:51:11 2023\n",
      "\n",
      "Options in effect:\n",
      "\t--noweb\n",
      "\t--bfile Qatari156_filtered_pruned\n",
      "\t--recode\n",
      "\t--tab\n",
      "\t--out dataset\n",
      "\n",
      "Reading map (extended format) from [ Qatari156_filtered_pruned.bim ] \n",
      "67735 markers to be included from [ Qatari156_filtered_pruned.bim ]\n",
      "Reading pedigree information from [ Qatari156_filtered_pruned.fam ] \n",
      "156 individuals read from [ Qatari156_filtered_pruned.fam ] \n",
      "0 individuals with nonmissing phenotypes\n",
      "Assuming a disease phenotype (1=unaff, 2=aff, 0=miss)\n",
      "Missing phenotype value is also -9\n",
      "0 cases, 0 controls and 156 missing\n",
      "49 males, 107 females, and 0 of unspecified sex\n",
      "Reading genotype bitfile from [ Qatari156_filtered_pruned.bed ] \n",
      "Detected that binary PED file is v1.00 SNP-major mode\n",
      "Before frequency and genotyping pruning, there are 67735 SNPs\n",
      "156 founders and 0 non-founders found\n",
      "1388 heterozygous haploid genotypes; set to missing\n",
      "Writing list of heterozygous haploid genotypes to [ dataset.hh ]\n",
      "Total genotyping rate in remaining individuals is 0.998816\n",
      "0 SNPs failed missingness test ( GENO > 1 )\n",
      "0 SNPs failed frequency test ( MAF < 0 )\n",
      "After frequency and genotyping pruning, there are 67735 SNPs\n",
      "After filtering, 0 cases, 0 controls and 156 missing\n",
      "After filtering, 49 males, 107 females, and 0 of unspecified sex\n",
      "Writing recoded ped file to [ dataset.ped ] \n",
      "Writing new map file to [ dataset.map ] \n",
      "\n",
      "Analysis finished: Sun Oct 22 18:51:13 2023\n"
     ]
    }
   ],
   "source": [
    "shell_call(\"plink --noweb --bfile Qatari156_filtered_pruned --recode --tab --out dataset\")"
   ]
  },
  {
   "cell_type": "code",
   "execution_count": 28,
   "metadata": {
    "vscode": {
     "languageId": "r"
    }
   },
   "outputs": [
    {
     "name": "stdout",
     "output_type": "stream",
     "text": [
      "\n",
      "@----------------------------------------------------------@\n",
      "|        PLINK!       |     v1.07      |   10/Aug/2009     |\n",
      "|----------------------------------------------------------|\n",
      "|  (C) 2009 Shaun Purcell, GNU General Public License, v2  |\n",
      "|----------------------------------------------------------|\n",
      "|  For documentation, citation & bug-report instructions:  |\n",
      "|        http://pngu.mgh.harvard.edu/purcell/plink/        |\n",
      "@----------------------------------------------------------@\n",
      "\n",
      "Skipping web check... [ --noweb ] \n",
      "Writing this text to log file [ info.log ]\n",
      "Analysis started: Sun Oct 22 18:51:13 2023\n",
      "\n",
      "Options in effect:\n",
      "\t--noweb\n",
      "\t--file dataset\n",
      "\t--out info\n",
      "\n",
      "67735 (of 67735) markers to be included from [ dataset.map ]\n",
      "156 individuals read from [ dataset.ped ] \n",
      "0 individuals with nonmissing phenotypes\n",
      "Assuming a disease phenotype (1=unaff, 2=aff, 0=miss)\n",
      "Missing phenotype value is also -9\n",
      "0 cases, 0 controls and 156 missing\n",
      "49 males, 107 females, and 0 of unspecified sex\n",
      "Before frequency and genotyping pruning, there are 67735 SNPs\n",
      "156 founders and 0 non-founders found\n",
      "1388 heterozygous haploid genotypes; set to missing\n",
      "Writing list of heterozygous haploid genotypes to [ info.hh ]\n",
      "Total genotyping rate in remaining individuals is 0.998685\n",
      "0 SNPs failed missingness test ( GENO > 1 )\n",
      "0 SNPs failed frequency test ( MAF < 0 )\n",
      "After frequency and genotyping pruning, there are 67735 SNPs\n",
      "After filtering, 0 cases, 0 controls and 156 missing\n",
      "After filtering, 49 males, 107 females, and 0 of unspecified sex\n",
      "\n",
      "Analysis finished: Sun Oct 22 18:51:16 2023\n"
     ]
    }
   ],
   "source": [
    "shell_call(\"plink --noweb --file dataset --out info\")"
   ]
  },
  {
   "cell_type": "markdown",
   "metadata": {},
   "source": [
    "4.  Report the number of individuals, SNPs, and the gender distribution."
   ]
  },
  {
   "cell_type": "code",
   "execution_count": 29,
   "metadata": {
    "vscode": {
     "languageId": "r"
    }
   },
   "outputs": [],
   "source": [
    "individuals <- 156\n",
    "males <- 49\n",
    "females <- 107\n",
    "n_snps <- 67735"
   ]
  },
  {
   "cell_type": "markdown",
   "metadata": {},
   "source": [
    "## Part 2: Quality Control Using PLINK"
   ]
  },
  {
   "cell_type": "markdown",
   "metadata": {},
   "source": [
    "### Task 2.1: Allele Frequency (--freq)"
   ]
  },
  {
   "cell_type": "markdown",
   "metadata": {},
   "source": [
    "1. Use the --freq command in PLINK to compute allele frequencies."
   ]
  },
  {
   "cell_type": "code",
   "execution_count": 30,
   "metadata": {
    "vscode": {
     "languageId": "r"
    }
   },
   "outputs": [
    {
     "name": "stdout",
     "output_type": "stream",
     "text": [
      "\n",
      "@----------------------------------------------------------@\n",
      "|        PLINK!       |     v1.07      |   10/Aug/2009     |\n",
      "|----------------------------------------------------------|\n",
      "|  (C) 2009 Shaun Purcell, GNU General Public License, v2  |\n",
      "|----------------------------------------------------------|\n",
      "|  For documentation, citation & bug-report instructions:  |\n",
      "|        http://pngu.mgh.harvard.edu/purcell/plink/        |\n",
      "@----------------------------------------------------------@\n",
      "\n",
      "Skipping web check... [ --noweb ] \n",
      "Writing this text to log file [ task2.1.log ]\n",
      "Analysis started: Sun Oct 22 18:51:16 2023\n",
      "\n",
      "Options in effect:\n",
      "\t--noweb\n",
      "\t--file dataset\n",
      "\t--freq\n",
      "\t--out task2.1\n",
      "\n",
      "** For gPLINK compatibility, do not use '.' in --out **\n",
      "67735 (of 67735) markers to be included from [ dataset.map ]\n",
      "156 individuals read from [ dataset.ped ] \n",
      "0 individuals with nonmissing phenotypes\n",
      "Assuming a disease phenotype (1=unaff, 2=aff, 0=miss)\n",
      "Missing phenotype value is also -9\n",
      "0 cases, 0 controls and 156 missing\n",
      "49 males, 107 females, and 0 of unspecified sex\n",
      "Before frequency and genotyping pruning, there are 67735 SNPs\n",
      "156 founders and 0 non-founders found\n",
      "1388 heterozygous haploid genotypes; set to missing\n",
      "Writing list of heterozygous haploid genotypes to [ task2.1.hh ]\n",
      "Writing allele frequencies (founders-only) to [ task2.1.frq ] \n",
      "\n",
      "Analysis finished: Sun Oct 22 18:51:20 2023\n"
     ]
    }
   ],
   "source": [
    "shell_call(\"plink --noweb --file dataset --freq --out task2.1\")"
   ]
  },
  {
   "cell_type": "markdown",
   "metadata": {},
   "source": [
    "2.  Report the number of SNPs after this step."
   ]
  },
  {
   "cell_type": "code",
   "execution_count": 31,
   "metadata": {
    "vscode": {
     "languageId": "r"
    }
   },
   "outputs": [],
   "source": [
    "snps_task2_1 <- 67735"
   ]
  },
  {
   "cell_type": "markdown",
   "metadata": {},
   "source": [
    "### Task 2.2: Minor Allele Frequency (--maf 0.2)"
   ]
  },
  {
   "cell_type": "markdown",
   "metadata": {},
   "source": [
    "1. Filter SNPs with a minor allele frequency less than 0.2 using --maf 0.2."
   ]
  },
  {
   "cell_type": "code",
   "execution_count": 32,
   "metadata": {
    "vscode": {
     "languageId": "r"
    }
   },
   "outputs": [
    {
     "name": "stdout",
     "output_type": "stream",
     "text": [
      "\n",
      "@----------------------------------------------------------@\n",
      "|        PLINK!       |     v1.07      |   10/Aug/2009     |\n",
      "|----------------------------------------------------------|\n",
      "|  (C) 2009 Shaun Purcell, GNU General Public License, v2  |\n",
      "|----------------------------------------------------------|\n",
      "|  For documentation, citation & bug-report instructions:  |\n",
      "|        http://pngu.mgh.harvard.edu/purcell/plink/        |\n",
      "@----------------------------------------------------------@\n",
      "\n",
      "Skipping web check... [ --noweb ] \n",
      "Writing this text to log file [ task2.2.log ]\n",
      "Analysis started: Sun Oct 22 18:51:20 2023\n",
      "\n",
      "Options in effect:\n",
      "\t--noweb\n",
      "\t--file dataset\n",
      "\t--maf 0.2\n",
      "\t--make-bed\n",
      "\t--out task2.2\n",
      "\n",
      "** For gPLINK compatibility, do not use '.' in --out **\n",
      "67735 (of 67735) markers to be included from [ dataset.map ]\n",
      "156 individuals read from [ dataset.ped ] \n",
      "0 individuals with nonmissing phenotypes\n",
      "Assuming a disease phenotype (1=unaff, 2=aff, 0=miss)\n",
      "Missing phenotype value is also -9\n",
      "0 cases, 0 controls and 156 missing\n",
      "49 males, 107 females, and 0 of unspecified sex\n",
      "Before frequency and genotyping pruning, there are 67735 SNPs\n",
      "156 founders and 0 non-founders found\n",
      "1388 heterozygous haploid genotypes; set to missing\n",
      "Writing list of heterozygous haploid genotypes to [ task2.2.hh ]\n",
      "Total genotyping rate in remaining individuals is 0.998816\n",
      "0 SNPs failed missingness test ( GENO > 1 )\n",
      "36041 SNPs failed frequency test ( MAF < 0.2 )\n",
      "After frequency and genotyping pruning, there are 31694 SNPs\n",
      "After filtering, 0 cases, 0 controls and 156 missing\n",
      "After filtering, 49 males, 107 females, and 0 of unspecified sex\n",
      "Writing pedigree information to [ task2.2.fam ] \n",
      "Writing map (extended format) information to [ task2.2.bim ] \n",
      "Writing genotype bitfile to [ task2.2.bed ] \n",
      "Using (default) SNP-major mode\n",
      "\n",
      "Analysis finished: Sun Oct 22 18:51:23 2023\n"
     ]
    }
   ],
   "source": [
    "shell_call(\"plink --noweb --file dataset --maf 0.2 --make-bed --out task2.2\")"
   ]
  },
  {
   "cell_type": "markdown",
   "metadata": {},
   "source": [
    "2. Report the number of SNPs remaining after this step."
   ]
  },
  {
   "cell_type": "code",
   "execution_count": 33,
   "metadata": {
    "vscode": {
     "languageId": "r"
    }
   },
   "outputs": [],
   "source": [
    "snps_task2_2 <- 31694"
   ]
  },
  {
   "cell_type": "markdown",
   "metadata": {},
   "source": [
    "### Task 2.3: Genotyping Rate (--geno 0.02) "
   ]
  },
  {
   "cell_type": "markdown",
   "metadata": {},
   "source": [
    "1. Exclude SNPs with missing genotyping rate more than 2% using --geno 0.02."
   ]
  },
  {
   "cell_type": "code",
   "execution_count": 34,
   "metadata": {
    "vscode": {
     "languageId": "r"
    }
   },
   "outputs": [
    {
     "name": "stdout",
     "output_type": "stream",
     "text": [
      "\n",
      "@----------------------------------------------------------@\n",
      "|        PLINK!       |     v1.07      |   10/Aug/2009     |\n",
      "|----------------------------------------------------------|\n",
      "|  (C) 2009 Shaun Purcell, GNU General Public License, v2  |\n",
      "|----------------------------------------------------------|\n",
      "|  For documentation, citation & bug-report instructions:  |\n",
      "|        http://pngu.mgh.harvard.edu/purcell/plink/        |\n",
      "@----------------------------------------------------------@\n",
      "\n",
      "Skipping web check... [ --noweb ] \n",
      "Writing this text to log file [ task2.3.log ]\n",
      "Analysis started: Sun Oct 22 18:51:23 2023\n",
      "\n",
      "Options in effect:\n",
      "\t--noweb\n",
      "\t--file dataset\n",
      "\t--geno 0.02\n",
      "\t--make-bed\n",
      "\t--out task2.3\n",
      "\n",
      "** For gPLINK compatibility, do not use '.' in --out **\n",
      "67735 (of 67735) markers to be included from [ dataset.map ]\n",
      "156 individuals read from [ dataset.ped ] \n",
      "0 individuals with nonmissing phenotypes\n",
      "Assuming a disease phenotype (1=unaff, 2=aff, 0=miss)\n",
      "Missing phenotype value is also -9\n",
      "0 cases, 0 controls and 156 missing\n",
      "49 males, 107 females, and 0 of unspecified sex\n",
      "Before frequency and genotyping pruning, there are 67735 SNPs\n",
      "156 founders and 0 non-founders found\n",
      "1388 heterozygous haploid genotypes; set to missing\n",
      "Writing list of heterozygous haploid genotypes to [ task2.3.hh ]\n",
      "Total genotyping rate in remaining individuals is 0.998816\n",
      "0 SNPs failed missingness test ( GENO > 0.02 )\n",
      "0 SNPs failed frequency test ( MAF < 0 )\n",
      "After frequency and genotyping pruning, there are 67735 SNPs\n",
      "After filtering, 0 cases, 0 controls and 156 missing\n",
      "After filtering, 49 males, 107 females, and 0 of unspecified sex\n",
      "Writing pedigree information to [ task2.3.fam ] \n",
      "Writing map (extended format) information to [ task2.3.bim ] \n",
      "Writing genotype bitfile to [ task2.3.bed ] \n",
      "Using (default) SNP-major mode\n",
      "\n",
      "Analysis finished: Sun Oct 22 18:51:27 2023\n"
     ]
    }
   ],
   "source": [
    "shell_call(\"plink --noweb --file dataset --geno 0.02 --make-bed --out task2.3\")"
   ]
  },
  {
   "cell_type": "markdown",
   "metadata": {},
   "source": [
    "2. Report the number of SNPs remaining after this step."
   ]
  },
  {
   "cell_type": "code",
   "execution_count": 35,
   "metadata": {
    "vscode": {
     "languageId": "r"
    }
   },
   "outputs": [],
   "source": [
    "snps_task2_3 <- 67735"
   ]
  },
  {
   "cell_type": "markdown",
   "metadata": {},
   "source": [
    "### Task 2.4: Hardy-Weinberg Equilibrium (--hwe 10E-06)"
   ]
  },
  {
   "cell_type": "markdown",
   "metadata": {},
   "source": [
    "1. Exclude SNPs that fail the Hardy-Weinberg equilibrium test at threshold 10E-06 using --hwe 10E-06."
   ]
  },
  {
   "cell_type": "code",
   "execution_count": 36,
   "metadata": {
    "vscode": {
     "languageId": "r"
    }
   },
   "outputs": [
    {
     "name": "stdout",
     "output_type": "stream",
     "text": [
      "\n",
      "@----------------------------------------------------------@\n",
      "|        PLINK!       |     v1.07      |   10/Aug/2009     |\n",
      "|----------------------------------------------------------|\n",
      "|  (C) 2009 Shaun Purcell, GNU General Public License, v2  |\n",
      "|----------------------------------------------------------|\n",
      "|  For documentation, citation & bug-report instructions:  |\n",
      "|        http://pngu.mgh.harvard.edu/purcell/plink/        |\n",
      "@----------------------------------------------------------@\n",
      "\n",
      "Skipping web check... [ --noweb ] \n",
      "Writing this text to log file [ task2.4.log ]\n",
      "Analysis started: Sun Oct 22 18:51:27 2023\n",
      "\n",
      "Options in effect:\n",
      "\t--noweb\n",
      "\t--file dataset\n",
      "\t--hwe 10E-06\n",
      "\t--make-bed\n",
      "\t--out task2.4\n",
      "\n",
      "** For gPLINK compatibility, do not use '.' in --out **\n",
      "67735 (of 67735) markers to be included from [ dataset.map ]\n",
      "156 individuals read from [ dataset.ped ] \n",
      "0 individuals with nonmissing phenotypes\n",
      "Assuming a disease phenotype (1=unaff, 2=aff, 0=miss)\n",
      "Missing phenotype value is also -9\n",
      "0 cases, 0 controls and 156 missing\n",
      "49 males, 107 females, and 0 of unspecified sex\n",
      "Before frequency and genotyping pruning, there are 67735 SNPs\n",
      "156 founders and 0 non-founders found\n",
      "1388 heterozygous haploid genotypes; set to missing\n",
      "Writing list of heterozygous haploid genotypes to [ task2.4.hh ]\n",
      "0 markers to be excluded based on HWE test ( p <= 1e-05 )\n",
      "\t0 markers failed HWE test in cases\n",
      "\t0 markers failed HWE test in controls\n",
      "Total genotyping rate in remaining individuals is 0.998816\n",
      "0 SNPs failed missingness test ( GENO > 1 )\n",
      "0 SNPs failed frequency test ( MAF < 0 )\n",
      "After frequency and genotyping pruning, there are 67735 SNPs\n",
      "After filtering, 0 cases, 0 controls and 156 missing\n",
      "After filtering, 49 males, 107 females, and 0 of unspecified sex\n",
      "Writing pedigree information to [ task2.4.fam ] \n",
      "Writing map (extended format) information to [ task2.4.bim ] \n",
      "Writing genotype bitfile to [ task2.4.bed ] \n",
      "Using (default) SNP-major mode\n",
      "\n",
      "Analysis finished: Sun Oct 22 18:51:31 2023\n"
     ]
    }
   ],
   "source": [
    "shell_call(\"plink --noweb --file dataset --hwe 10E-06 --make-bed --out task2.4\")"
   ]
  },
  {
   "cell_type": "markdown",
   "metadata": {},
   "source": [
    "2. Report the number of SNPs remaining after this step."
   ]
  },
  {
   "cell_type": "code",
   "execution_count": 37,
   "metadata": {
    "vscode": {
     "languageId": "r"
    }
   },
   "outputs": [],
   "source": [
    "snps_task2_4 <- 67735"
   ]
  },
  {
   "cell_type": "markdown",
   "metadata": {},
   "source": [
    "### Task 2.5: Minor Allele Frequency (--maf 0.2) and Genotyping Rate (--geno 0.02)"
   ]
  },
  {
   "cell_type": "markdown",
   "metadata": {},
   "source": [
    "1. Execute Minor Allele Frequency and Genotyping Rate on the dataset."
   ]
  },
  {
   "cell_type": "code",
   "execution_count": 38,
   "metadata": {
    "vscode": {
     "languageId": "r"
    }
   },
   "outputs": [
    {
     "name": "stdout",
     "output_type": "stream",
     "text": [
      "\n",
      "@----------------------------------------------------------@\n",
      "|        PLINK!       |     v1.07      |   10/Aug/2009     |\n",
      "|----------------------------------------------------------|\n",
      "|  (C) 2009 Shaun Purcell, GNU General Public License, v2  |\n",
      "|----------------------------------------------------------|\n",
      "|  For documentation, citation & bug-report instructions:  |\n",
      "|        http://pngu.mgh.harvard.edu/purcell/plink/        |\n",
      "@----------------------------------------------------------@\n",
      "\n",
      "Skipping web check... [ --noweb ] \n",
      "Writing this text to log file [ task2.5.log ]\n",
      "Analysis started: Sun Oct 22 18:51:31 2023\n",
      "\n",
      "Options in effect:\n",
      "\t--noweb\n",
      "\t--file dataset\n",
      "\t--maf 0.2\n",
      "\t--geno 0.02\n",
      "\t--make-bed\n",
      "\t--out task2.5\n",
      "\n",
      "** For gPLINK compatibility, do not use '.' in --out **\n",
      "67735 (of 67735) markers to be included from [ dataset.map ]\n",
      "156 individuals read from [ dataset.ped ] \n",
      "0 individuals with nonmissing phenotypes\n",
      "Assuming a disease phenotype (1=unaff, 2=aff, 0=miss)\n",
      "Missing phenotype value is also -9\n",
      "0 cases, 0 controls and 156 missing\n",
      "49 males, 107 females, and 0 of unspecified sex\n",
      "Before frequency and genotyping pruning, there are 67735 SNPs\n",
      "156 founders and 0 non-founders found\n",
      "1388 heterozygous haploid genotypes; set to missing\n",
      "Writing list of heterozygous haploid genotypes to [ task2.5.hh ]\n",
      "Total genotyping rate in remaining individuals is 0.998816\n",
      "0 SNPs failed missingness test ( GENO > 0.02 )\n",
      "36041 SNPs failed frequency test ( MAF < 0.2 )\n",
      "After frequency and genotyping pruning, there are 31694 SNPs\n",
      "After filtering, 0 cases, 0 controls and 156 missing\n",
      "After filtering, 49 males, 107 females, and 0 of unspecified sex\n",
      "Writing pedigree information to [ task2.5.fam ] \n",
      "Writing map (extended format) information to [ task2.5.bim ] \n",
      "Writing genotype bitfile to [ task2.5.bed ] \n",
      "Using (default) SNP-major mode\n",
      "\n",
      "Analysis finished: Sun Oct 22 18:51:34 2023\n"
     ]
    }
   ],
   "source": [
    "shell_call(\"plink --noweb --file dataset --maf 0.2 --geno 0.02 --make-bed --out task2.5\")"
   ]
  },
  {
   "cell_type": "markdown",
   "metadata": {},
   "source": [
    "2. Report the number of SNPs remaining after this step."
   ]
  },
  {
   "cell_type": "code",
   "execution_count": 39,
   "metadata": {
    "vscode": {
     "languageId": "r"
    }
   },
   "outputs": [],
   "source": [
    "snps_task2_5 <- 31694"
   ]
  },
  {
   "cell_type": "markdown",
   "metadata": {},
   "source": [
    "### Task 2.6: Minor Allele Frequency (--maf 0.2) and Hardy-Weinberg Equilibrium (--hwe 10E-06)"
   ]
  },
  {
   "cell_type": "markdown",
   "metadata": {},
   "source": [
    "1.  Execute Minor Allele Frequency and Hardy-Weinberg Equilibrium on the dataset."
   ]
  },
  {
   "cell_type": "code",
   "execution_count": 40,
   "metadata": {
    "vscode": {
     "languageId": "r"
    }
   },
   "outputs": [
    {
     "name": "stdout",
     "output_type": "stream",
     "text": [
      "\n",
      "@----------------------------------------------------------@\n",
      "|        PLINK!       |     v1.07      |   10/Aug/2009     |\n",
      "|----------------------------------------------------------|\n",
      "|  (C) 2009 Shaun Purcell, GNU General Public License, v2  |\n",
      "|----------------------------------------------------------|\n",
      "|  For documentation, citation & bug-report instructions:  |\n",
      "|        http://pngu.mgh.harvard.edu/purcell/plink/        |\n",
      "@----------------------------------------------------------@\n",
      "\n",
      "Skipping web check... [ --noweb ] \n",
      "Writing this text to log file [ task2.6.log ]\n",
      "Analysis started: Sun Oct 22 18:51:34 2023\n",
      "\n",
      "Options in effect:\n",
      "\t--noweb\n",
      "\t--file dataset\n",
      "\t--maf 0.2\n",
      "\t--hwe 10E-06\n",
      "\t--make-bed\n",
      "\t--out task2.6\n",
      "\n",
      "** For gPLINK compatibility, do not use '.' in --out **\n",
      "67735 (of 67735) markers to be included from [ dataset.map ]\n",
      "156 individuals read from [ dataset.ped ] \n",
      "0 individuals with nonmissing phenotypes\n",
      "Assuming a disease phenotype (1=unaff, 2=aff, 0=miss)\n",
      "Missing phenotype value is also -9\n",
      "0 cases, 0 controls and 156 missing\n",
      "49 males, 107 females, and 0 of unspecified sex\n",
      "Before frequency and genotyping pruning, there are 67735 SNPs\n",
      "156 founders and 0 non-founders found\n",
      "1388 heterozygous haploid genotypes; set to missing\n",
      "Writing list of heterozygous haploid genotypes to [ task2.6.hh ]\n",
      "0 markers to be excluded based on HWE test ( p <= 1e-05 )\n",
      "\t0 markers failed HWE test in cases\n",
      "\t0 markers failed HWE test in controls\n",
      "Total genotyping rate in remaining individuals is 0.998816\n",
      "0 SNPs failed missingness test ( GENO > 1 )\n",
      "36041 SNPs failed frequency test ( MAF < 0.2 )\n",
      "After frequency and genotyping pruning, there are 31694 SNPs\n",
      "After filtering, 0 cases, 0 controls and 156 missing\n",
      "After filtering, 49 males, 107 females, and 0 of unspecified sex\n",
      "Writing pedigree information to [ task2.6.fam ] \n",
      "Writing map (extended format) information to [ task2.6.bim ] \n",
      "Writing genotype bitfile to [ task2.6.bed ] \n",
      "Using (default) SNP-major mode\n",
      "\n",
      "Analysis finished: Sun Oct 22 18:51:38 2023\n"
     ]
    }
   ],
   "source": [
    "shell_call(\"plink --noweb --file dataset --maf 0.2 --hwe 10E-06 --make-bed --out task2.6\")"
   ]
  },
  {
   "cell_type": "markdown",
   "metadata": {},
   "source": [
    "2.  Report the number of SNPs remaining after this step."
   ]
  },
  {
   "cell_type": "code",
   "execution_count": 41,
   "metadata": {
    "vscode": {
     "languageId": "r"
    }
   },
   "outputs": [],
   "source": [
    "snps_task2_6 <- 31694"
   ]
  },
  {
   "cell_type": "markdown",
   "metadata": {},
   "source": [
    "### Task 2.7: Genotyping Rate (--geno 0.02) and Hardy-Weinberg Equilibrium (--hwe 10E-06)"
   ]
  },
  {
   "cell_type": "markdown",
   "metadata": {},
   "source": [
    "1.  Execute Genotyping Rate and Hardy-Weinberg Equilibrium on the dataset."
   ]
  },
  {
   "cell_type": "code",
   "execution_count": 42,
   "metadata": {
    "vscode": {
     "languageId": "r"
    }
   },
   "outputs": [
    {
     "name": "stdout",
     "output_type": "stream",
     "text": [
      "\n",
      "@----------------------------------------------------------@\n",
      "|        PLINK!       |     v1.07      |   10/Aug/2009     |\n",
      "|----------------------------------------------------------|\n",
      "|  (C) 2009 Shaun Purcell, GNU General Public License, v2  |\n",
      "|----------------------------------------------------------|\n",
      "|  For documentation, citation & bug-report instructions:  |\n",
      "|        http://pngu.mgh.harvard.edu/purcell/plink/        |\n",
      "@----------------------------------------------------------@\n",
      "\n",
      "Skipping web check... [ --noweb ] \n",
      "Writing this text to log file [ task2.7.log ]\n",
      "Analysis started: Sun Oct 22 18:51:38 2023\n",
      "\n",
      "Options in effect:\n",
      "\t--noweb\n",
      "\t--file dataset\n",
      "\t--geno 0.02\n",
      "\t--hwe 10E-06\n",
      "\t--make-bed\n",
      "\t--out task2.7\n",
      "\n",
      "** For gPLINK compatibility, do not use '.' in --out **\n",
      "67735 (of 67735) markers to be included from [ dataset.map ]\n",
      "156 individuals read from [ dataset.ped ] \n",
      "0 individuals with nonmissing phenotypes\n",
      "Assuming a disease phenotype (1=unaff, 2=aff, 0=miss)\n",
      "Missing phenotype value is also -9\n",
      "0 cases, 0 controls and 156 missing\n",
      "49 males, 107 females, and 0 of unspecified sex\n",
      "Before frequency and genotyping pruning, there are 67735 SNPs\n",
      "156 founders and 0 non-founders found\n",
      "1388 heterozygous haploid genotypes; set to missing\n",
      "Writing list of heterozygous haploid genotypes to [ task2.7.hh ]\n",
      "0 markers to be excluded based on HWE test ( p <= 1e-05 )\n",
      "\t0 markers failed HWE test in cases\n",
      "\t0 markers failed HWE test in controls\n",
      "Total genotyping rate in remaining individuals is 0.998816\n",
      "0 SNPs failed missingness test ( GENO > 0.02 )\n",
      "0 SNPs failed frequency test ( MAF < 0 )\n",
      "After frequency and genotyping pruning, there are 67735 SNPs\n",
      "After filtering, 0 cases, 0 controls and 156 missing\n",
      "After filtering, 49 males, 107 females, and 0 of unspecified sex\n",
      "Writing pedigree information to [ task2.7.fam ] \n",
      "Writing map (extended format) information to [ task2.7.bim ] \n",
      "Writing genotype bitfile to [ task2.7.bed ] \n",
      "Using (default) SNP-major mode\n",
      "\n",
      "Analysis finished: Sun Oct 22 18:51:42 2023\n"
     ]
    }
   ],
   "source": [
    "shell_call(\"plink --noweb --file dataset --geno 0.02 --hwe 10E-06 --make-bed --out task2.7\")"
   ]
  },
  {
   "cell_type": "markdown",
   "metadata": {},
   "source": [
    "2.  Report the number of SNPs remaining after this step."
   ]
  },
  {
   "cell_type": "code",
   "execution_count": 43,
   "metadata": {
    "vscode": {
     "languageId": "r"
    }
   },
   "outputs": [],
   "source": [
    "snps_task2_7 <- 67735"
   ]
  },
  {
   "cell_type": "markdown",
   "metadata": {},
   "source": [
    "### Task 2.8: Cumulative QC Steps"
   ]
  },
  {
   "cell_type": "markdown",
   "metadata": {},
   "source": [
    "1.  Execute all the quality control steps in sequence on the dataset."
   ]
  },
  {
   "cell_type": "code",
   "execution_count": 44,
   "metadata": {
    "vscode": {
     "languageId": "r"
    }
   },
   "outputs": [
    {
     "name": "stdout",
     "output_type": "stream",
     "text": [
      "\n",
      "@----------------------------------------------------------@\n",
      "|        PLINK!       |     v1.07      |   10/Aug/2009     |\n",
      "|----------------------------------------------------------|\n",
      "|  (C) 2009 Shaun Purcell, GNU General Public License, v2  |\n",
      "|----------------------------------------------------------|\n",
      "|  For documentation, citation & bug-report instructions:  |\n",
      "|        http://pngu.mgh.harvard.edu/purcell/plink/        |\n",
      "@----------------------------------------------------------@\n",
      "\n",
      "Skipping web check... [ --noweb ] \n",
      "Writing this text to log file [ task2.8.log ]\n",
      "Analysis started: Sun Oct 22 18:51:42 2023\n",
      "\n",
      "Options in effect:\n",
      "\t--noweb\n",
      "\t--file dataset\n",
      "\t--maf 0.2\n",
      "\t--geno 0.02\n",
      "\t--hwe 10E-06\n",
      "\t--make-bed\n",
      "\t--out task2.8\n",
      "\n",
      "** For gPLINK compatibility, do not use '.' in --out **\n",
      "67735 (of 67735) markers to be included from [ dataset.map ]\n",
      "156 individuals read from [ dataset.ped ] \n",
      "0 individuals with nonmissing phenotypes\n",
      "Assuming a disease phenotype (1=unaff, 2=aff, 0=miss)\n",
      "Missing phenotype value is also -9\n",
      "0 cases, 0 controls and 156 missing\n",
      "49 males, 107 females, and 0 of unspecified sex\n",
      "Before frequency and genotyping pruning, there are 67735 SNPs\n",
      "156 founders and 0 non-founders found\n",
      "1388 heterozygous haploid genotypes; set to missing\n",
      "Writing list of heterozygous haploid genotypes to [ task2.8.hh ]\n",
      "0 markers to be excluded based on HWE test ( p <= 1e-05 )\n",
      "\t0 markers failed HWE test in cases\n",
      "\t0 markers failed HWE test in controls\n",
      "Total genotyping rate in remaining individuals is 0.998816\n",
      "0 SNPs failed missingness test ( GENO > 0.02 )\n",
      "36041 SNPs failed frequency test ( MAF < 0.2 )\n",
      "After frequency and genotyping pruning, there are 31694 SNPs\n",
      "After filtering, 0 cases, 0 controls and 156 missing\n",
      "After filtering, 49 males, 107 females, and 0 of unspecified sex\n",
      "Writing pedigree information to [ task2.8.fam ] \n",
      "Writing map (extended format) information to [ task2.8.bim ] \n",
      "Writing genotype bitfile to [ task2.8.bed ] \n",
      "Using (default) SNP-major mode\n",
      "\n",
      "Analysis finished: Sun Oct 22 18:51:45 2023\n"
     ]
    }
   ],
   "source": [
    "shell_call(\"plink --noweb --file dataset --maf 0.2 --geno 0.02 --hwe 10E-06 --make-bed --out task2.8\")"
   ]
  },
  {
   "cell_type": "markdown",
   "metadata": {},
   "source": [
    "2. Report the number of SNPs remaining after all steps."
   ]
  },
  {
   "cell_type": "code",
   "execution_count": 45,
   "metadata": {
    "vscode": {
     "languageId": "r"
    }
   },
   "outputs": [],
   "source": [
    "snps_task2_8 <- 31694"
   ]
  },
  {
   "cell_type": "markdown",
   "metadata": {},
   "source": [
    "3. Report the final number of individuals, number of males and females, and SNPs."
   ]
  },
  {
   "cell_type": "code",
   "execution_count": 46,
   "metadata": {
    "vscode": {
     "languageId": "r"
    }
   },
   "outputs": [],
   "source": [
    "final_individuals <- 156\n",
    "final_males <- 49\n",
    "final_females <- 107\n",
    "final_snps <- 31694"
   ]
  }
 ],
 "metadata": {
  "kernelspec": {
   "display_name": "R",
   "language": "R",
   "name": "ir"
  },
  "language_info": {
   "codemirror_mode": "r",
   "file_extension": ".r",
   "mimetype": "text/x-r-source",
   "name": "R",
   "pygments_lexer": "r",
   "version": "4.3.1"
  }
 },
 "nbformat": 4,
 "nbformat_minor": 2
}
